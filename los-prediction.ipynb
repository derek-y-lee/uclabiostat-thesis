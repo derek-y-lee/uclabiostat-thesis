{
 "cells": [
  {
   "cell_type": "code",
   "execution_count": 22,
   "metadata": {},
   "outputs": [],
   "source": [
    "import pandas as pd\n",
    "from sklearn.model_selection import train_test_split\n",
    "pd.set_option('display.max_columns', None)\n",
    "import sys\n",
    "import numpy\n",
    "numpy.set_printoptions(threshold=sys.maxsize)"
   ]
  },
  {
   "cell_type": "code",
   "execution_count": 4,
   "metadata": {
    "scrolled": false
   },
   "outputs": [
    {
     "data": {
      "text/html": [
       "<div>\n",
       "<style scoped>\n",
       "    .dataframe tbody tr th:only-of-type {\n",
       "        vertical-align: middle;\n",
       "    }\n",
       "\n",
       "    .dataframe tbody tr th {\n",
       "        vertical-align: top;\n",
       "    }\n",
       "\n",
       "    .dataframe thead th {\n",
       "        text-align: right;\n",
       "    }\n",
       "</style>\n",
       "<table border=\"1\" class=\"dataframe\">\n",
       "  <thead>\n",
       "    <tr style=\"text-align: right;\">\n",
       "      <th></th>\n",
       "      <th>hadm_id</th>\n",
       "      <th>gender</th>\n",
       "      <th>age</th>\n",
       "      <th>LOSdays</th>\n",
       "      <th>admit_type</th>\n",
       "      <th>admit_location</th>\n",
       "      <th>AdmitDiagnosis</th>\n",
       "      <th>insurance</th>\n",
       "      <th>religion</th>\n",
       "      <th>marital_status</th>\n",
       "      <th>ethnicity</th>\n",
       "      <th>NumCallouts</th>\n",
       "      <th>NumDiagnosis</th>\n",
       "      <th>NumProcs</th>\n",
       "      <th>AdmitProcedure</th>\n",
       "      <th>NumCPTevents</th>\n",
       "      <th>NumInput</th>\n",
       "      <th>NumLabs</th>\n",
       "      <th>NumMicroLabs</th>\n",
       "      <th>NumNotes</th>\n",
       "      <th>NumOutput</th>\n",
       "      <th>NumRx</th>\n",
       "      <th>NumProcEvents</th>\n",
       "      <th>NumTransfers</th>\n",
       "      <th>NumChartEvents</th>\n",
       "      <th>ExpiredHospital</th>\n",
       "      <th>TotalNumInteract</th>\n",
       "      <th>LOSgroupNum</th>\n",
       "    </tr>\n",
       "  </thead>\n",
       "  <tbody>\n",
       "    <tr>\n",
       "      <th>0</th>\n",
       "      <td>100001</td>\n",
       "      <td>F</td>\n",
       "      <td>35</td>\n",
       "      <td>6.17</td>\n",
       "      <td>EMERGENCY</td>\n",
       "      <td>CLINIC REFERRAL/PREMATURE</td>\n",
       "      <td>DIABETIC KETOACIDOSIS</td>\n",
       "      <td>Private</td>\n",
       "      <td>PROTESTANT QUAKER</td>\n",
       "      <td>DIVORCED</td>\n",
       "      <td>WHITE</td>\n",
       "      <td>0.16</td>\n",
       "      <td>2.59</td>\n",
       "      <td>0.00</td>\n",
       "      <td>na</td>\n",
       "      <td>1.30</td>\n",
       "      <td>25.12</td>\n",
       "      <td>43.44</td>\n",
       "      <td>0.65</td>\n",
       "      <td>0.05</td>\n",
       "      <td>5.19</td>\n",
       "      <td>14.91</td>\n",
       "      <td>1.13</td>\n",
       "      <td>0.65</td>\n",
       "      <td>398.70</td>\n",
       "      <td>0</td>\n",
       "      <td>493.89</td>\n",
       "      <td>2</td>\n",
       "    </tr>\n",
       "    <tr>\n",
       "      <th>1</th>\n",
       "      <td>100003</td>\n",
       "      <td>M</td>\n",
       "      <td>59</td>\n",
       "      <td>4.04</td>\n",
       "      <td>EMERGENCY</td>\n",
       "      <td>EMERGENCY ROOM ADMIT</td>\n",
       "      <td>UPPER GI BLEED</td>\n",
       "      <td>Private</td>\n",
       "      <td>NOT SPECIFIED</td>\n",
       "      <td>SINGLE</td>\n",
       "      <td>WHITE</td>\n",
       "      <td>0.25</td>\n",
       "      <td>2.23</td>\n",
       "      <td>0.99</td>\n",
       "      <td>Endosc control gast hem</td>\n",
       "      <td>1.98</td>\n",
       "      <td>13.61</td>\n",
       "      <td>55.94</td>\n",
       "      <td>1.24</td>\n",
       "      <td>1.59</td>\n",
       "      <td>5.45</td>\n",
       "      <td>7.18</td>\n",
       "      <td>0.99</td>\n",
       "      <td>1.24</td>\n",
       "      <td>373.02</td>\n",
       "      <td>0</td>\n",
       "      <td>465.71</td>\n",
       "      <td>2</td>\n",
       "    </tr>\n",
       "    <tr>\n",
       "      <th>2</th>\n",
       "      <td>100006</td>\n",
       "      <td>F</td>\n",
       "      <td>48</td>\n",
       "      <td>12.04</td>\n",
       "      <td>EMERGENCY</td>\n",
       "      <td>EMERGENCY ROOM ADMIT</td>\n",
       "      <td>COPD FLARE</td>\n",
       "      <td>Private</td>\n",
       "      <td>NOT SPECIFIED</td>\n",
       "      <td>SINGLE</td>\n",
       "      <td>BLACK/AFRICAN AMERICAN</td>\n",
       "      <td>0.00</td>\n",
       "      <td>0.75</td>\n",
       "      <td>0.17</td>\n",
       "      <td>Non-invasive mech vent</td>\n",
       "      <td>0.83</td>\n",
       "      <td>11.46</td>\n",
       "      <td>33.39</td>\n",
       "      <td>0.33</td>\n",
       "      <td>0.15</td>\n",
       "      <td>4.15</td>\n",
       "      <td>6.23</td>\n",
       "      <td>0.00</td>\n",
       "      <td>0.33</td>\n",
       "      <td>286.21</td>\n",
       "      <td>0</td>\n",
       "      <td>344.00</td>\n",
       "      <td>4</td>\n",
       "    </tr>\n",
       "    <tr>\n",
       "      <th>3</th>\n",
       "      <td>100007</td>\n",
       "      <td>F</td>\n",
       "      <td>73</td>\n",
       "      <td>7.29</td>\n",
       "      <td>EMERGENCY</td>\n",
       "      <td>EMERGENCY ROOM ADMIT</td>\n",
       "      <td>BOWEL OBSTRUCTION</td>\n",
       "      <td>Private</td>\n",
       "      <td>JEWISH</td>\n",
       "      <td>MARRIED</td>\n",
       "      <td>WHITE</td>\n",
       "      <td>0.41</td>\n",
       "      <td>0.69</td>\n",
       "      <td>0.27</td>\n",
       "      <td>Part sm bowel resect NEC</td>\n",
       "      <td>0.69</td>\n",
       "      <td>20.30</td>\n",
       "      <td>32.24</td>\n",
       "      <td>0.69</td>\n",
       "      <td>0.17</td>\n",
       "      <td>9.05</td>\n",
       "      <td>11.52</td>\n",
       "      <td>0.00</td>\n",
       "      <td>0.96</td>\n",
       "      <td>526.06</td>\n",
       "      <td>0</td>\n",
       "      <td>603.05</td>\n",
       "      <td>2</td>\n",
       "    </tr>\n",
       "    <tr>\n",
       "      <th>4</th>\n",
       "      <td>100009</td>\n",
       "      <td>M</td>\n",
       "      <td>60</td>\n",
       "      <td>4.88</td>\n",
       "      <td>EMERGENCY</td>\n",
       "      <td>TRANSFER FROM HOSP/EXTRAM</td>\n",
       "      <td>CORONARY ARTERY DISEASE</td>\n",
       "      <td>Private</td>\n",
       "      <td>CATHOLIC</td>\n",
       "      <td>MARRIED</td>\n",
       "      <td>WHITE</td>\n",
       "      <td>0.00</td>\n",
       "      <td>3.69</td>\n",
       "      <td>0.82</td>\n",
       "      <td>Aortocor bypas-3 cor art</td>\n",
       "      <td>2.25</td>\n",
       "      <td>20.49</td>\n",
       "      <td>50.61</td>\n",
       "      <td>0.61</td>\n",
       "      <td>0.34</td>\n",
       "      <td>16.19</td>\n",
       "      <td>25.00</td>\n",
       "      <td>2.87</td>\n",
       "      <td>2.05</td>\n",
       "      <td>554.92</td>\n",
       "      <td>0</td>\n",
       "      <td>679.84</td>\n",
       "      <td>2</td>\n",
       "    </tr>\n",
       "  </tbody>\n",
       "</table>\n",
       "</div>"
      ],
      "text/plain": [
       "   hadm_id gender  age  LOSdays admit_type             admit_location  \\\n",
       "0   100001      F   35     6.17  EMERGENCY  CLINIC REFERRAL/PREMATURE   \n",
       "1   100003      M   59     4.04  EMERGENCY       EMERGENCY ROOM ADMIT   \n",
       "2   100006      F   48    12.04  EMERGENCY       EMERGENCY ROOM ADMIT   \n",
       "3   100007      F   73     7.29  EMERGENCY       EMERGENCY ROOM ADMIT   \n",
       "4   100009      M   60     4.88  EMERGENCY  TRANSFER FROM HOSP/EXTRAM   \n",
       "\n",
       "            AdmitDiagnosis insurance           religion marital_status  \\\n",
       "0    DIABETIC KETOACIDOSIS   Private  PROTESTANT QUAKER       DIVORCED   \n",
       "1           UPPER GI BLEED   Private      NOT SPECIFIED         SINGLE   \n",
       "2               COPD FLARE   Private      NOT SPECIFIED         SINGLE   \n",
       "3        BOWEL OBSTRUCTION   Private             JEWISH        MARRIED   \n",
       "4  CORONARY ARTERY DISEASE   Private           CATHOLIC        MARRIED   \n",
       "\n",
       "                ethnicity  NumCallouts  NumDiagnosis  NumProcs  \\\n",
       "0                   WHITE         0.16          2.59      0.00   \n",
       "1                   WHITE         0.25          2.23      0.99   \n",
       "2  BLACK/AFRICAN AMERICAN         0.00          0.75      0.17   \n",
       "3                   WHITE         0.41          0.69      0.27   \n",
       "4                   WHITE         0.00          3.69      0.82   \n",
       "\n",
       "             AdmitProcedure  NumCPTevents  NumInput  NumLabs  NumMicroLabs  \\\n",
       "0                        na          1.30     25.12    43.44          0.65   \n",
       "1   Endosc control gast hem          1.98     13.61    55.94          1.24   \n",
       "2    Non-invasive mech vent          0.83     11.46    33.39          0.33   \n",
       "3  Part sm bowel resect NEC          0.69     20.30    32.24          0.69   \n",
       "4  Aortocor bypas-3 cor art          2.25     20.49    50.61          0.61   \n",
       "\n",
       "   NumNotes  NumOutput  NumRx  NumProcEvents  NumTransfers  NumChartEvents  \\\n",
       "0      0.05       5.19  14.91           1.13          0.65          398.70   \n",
       "1      1.59       5.45   7.18           0.99          1.24          373.02   \n",
       "2      0.15       4.15   6.23           0.00          0.33          286.21   \n",
       "3      0.17       9.05  11.52           0.00          0.96          526.06   \n",
       "4      0.34      16.19  25.00           2.87          2.05          554.92   \n",
       "\n",
       "   ExpiredHospital  TotalNumInteract  LOSgroupNum  \n",
       "0                0            493.89            2  \n",
       "1                0            465.71            2  \n",
       "2                0            344.00            4  \n",
       "3                0            603.05            2  \n",
       "4                0            679.84            2  "
      ]
     },
     "execution_count": 4,
     "metadata": {},
     "output_type": "execute_result"
    }
   ],
   "source": [
    "raw = pd.read_csv('/Users/dereklee/biostat-masters-thesis/mimic3c.csv')\n",
    "raw.head()"
   ]
  },
  {
   "cell_type": "code",
   "execution_count": 93,
   "metadata": {},
   "outputs": [
    {
     "data": {
      "text/html": [
       "<div>\n",
       "<style scoped>\n",
       "    .dataframe tbody tr th:only-of-type {\n",
       "        vertical-align: middle;\n",
       "    }\n",
       "\n",
       "    .dataframe tbody tr th {\n",
       "        vertical-align: top;\n",
       "    }\n",
       "\n",
       "    .dataframe thead th {\n",
       "        text-align: right;\n",
       "    }\n",
       "</style>\n",
       "<table border=\"1\" class=\"dataframe\">\n",
       "  <thead>\n",
       "    <tr style=\"text-align: right;\">\n",
       "      <th></th>\n",
       "      <th>hadm_id</th>\n",
       "      <th>age</th>\n",
       "      <th>LOSdays</th>\n",
       "      <th>NumCallouts</th>\n",
       "      <th>NumDiagnosis</th>\n",
       "      <th>NumProcs</th>\n",
       "      <th>NumCPTevents</th>\n",
       "      <th>NumInput</th>\n",
       "      <th>NumLabs</th>\n",
       "      <th>NumMicroLabs</th>\n",
       "      <th>NumNotes</th>\n",
       "      <th>NumOutput</th>\n",
       "      <th>NumRx</th>\n",
       "      <th>NumProcEvents</th>\n",
       "      <th>NumTransfers</th>\n",
       "      <th>NumChartEvents</th>\n",
       "      <th>ExpiredHospital</th>\n",
       "      <th>TotalNumInteract</th>\n",
       "      <th>LOSgroupNum</th>\n",
       "    </tr>\n",
       "  </thead>\n",
       "  <tbody>\n",
       "    <tr>\n",
       "      <th>count</th>\n",
       "      <td>58976.000000</td>\n",
       "      <td>58976.000000</td>\n",
       "      <td>58976.000000</td>\n",
       "      <td>58976.000000</td>\n",
       "      <td>58976.00000</td>\n",
       "      <td>58976.000000</td>\n",
       "      <td>58976.000000</td>\n",
       "      <td>58976.000000</td>\n",
       "      <td>58976.000000</td>\n",
       "      <td>58976.000000</td>\n",
       "      <td>58976.000000</td>\n",
       "      <td>58976.000000</td>\n",
       "      <td>58976.000000</td>\n",
       "      <td>58976.000000</td>\n",
       "      <td>58976.000000</td>\n",
       "      <td>58976.000000</td>\n",
       "      <td>58976.000000</td>\n",
       "      <td>58976.000000</td>\n",
       "      <td>58976.000000</td>\n",
       "    </tr>\n",
       "    <tr>\n",
       "      <th>mean</th>\n",
       "      <td>149970.809584</td>\n",
       "      <td>53.005884</td>\n",
       "      <td>10.114955</td>\n",
       "      <td>0.099374</td>\n",
       "      <td>2.67596</td>\n",
       "      <td>0.785599</td>\n",
       "      <td>1.074118</td>\n",
       "      <td>30.379017</td>\n",
       "      <td>46.421124</td>\n",
       "      <td>1.219913</td>\n",
       "      <td>6.464789</td>\n",
       "      <td>7.111594</td>\n",
       "      <td>9.593702</td>\n",
       "      <td>0.691903</td>\n",
       "      <td>1.093313</td>\n",
       "      <td>528.505172</td>\n",
       "      <td>0.099261</td>\n",
       "      <td>636.115579</td>\n",
       "      <td>2.360248</td>\n",
       "    </tr>\n",
       "    <tr>\n",
       "      <th>std</th>\n",
       "      <td>28883.095213</td>\n",
       "      <td>26.028120</td>\n",
       "      <td>12.456231</td>\n",
       "      <td>0.163437</td>\n",
       "      <td>8.26559</td>\n",
       "      <td>3.558090</td>\n",
       "      <td>2.027148</td>\n",
       "      <td>62.430163</td>\n",
       "      <td>76.061561</td>\n",
       "      <td>4.236693</td>\n",
       "      <td>106.709903</td>\n",
       "      <td>7.551822</td>\n",
       "      <td>12.601338</td>\n",
       "      <td>2.117615</td>\n",
       "      <td>3.169441</td>\n",
       "      <td>640.250063</td>\n",
       "      <td>0.299014</td>\n",
       "      <td>783.938087</td>\n",
       "      <td>1.130337</td>\n",
       "    </tr>\n",
       "    <tr>\n",
       "      <th>min</th>\n",
       "      <td>100001.000000</td>\n",
       "      <td>0.000000</td>\n",
       "      <td>0.000000</td>\n",
       "      <td>0.000000</td>\n",
       "      <td>0.00000</td>\n",
       "      <td>0.000000</td>\n",
       "      <td>0.000000</td>\n",
       "      <td>0.000000</td>\n",
       "      <td>0.000000</td>\n",
       "      <td>0.000000</td>\n",
       "      <td>0.000000</td>\n",
       "      <td>0.000000</td>\n",
       "      <td>0.000000</td>\n",
       "      <td>0.000000</td>\n",
       "      <td>0.000000</td>\n",
       "      <td>0.000000</td>\n",
       "      <td>0.000000</td>\n",
       "      <td>0.000000</td>\n",
       "      <td>1.000000</td>\n",
       "    </tr>\n",
       "    <tr>\n",
       "      <th>25%</th>\n",
       "      <td>124952.750000</td>\n",
       "      <td>43.000000</td>\n",
       "      <td>3.710000</td>\n",
       "      <td>0.000000</td>\n",
       "      <td>0.82000</td>\n",
       "      <td>0.210000</td>\n",
       "      <td>0.000000</td>\n",
       "      <td>4.850000</td>\n",
       "      <td>26.980000</td>\n",
       "      <td>0.160000</td>\n",
       "      <td>0.140000</td>\n",
       "      <td>1.750000</td>\n",
       "      <td>4.330000</td>\n",
       "      <td>0.000000</td>\n",
       "      <td>0.380000</td>\n",
       "      <td>207.410000</td>\n",
       "      <td>0.000000</td>\n",
       "      <td>267.407500</td>\n",
       "      <td>1.000000</td>\n",
       "    </tr>\n",
       "    <tr>\n",
       "      <th>50%</th>\n",
       "      <td>149989.500000</td>\n",
       "      <td>59.000000</td>\n",
       "      <td>6.460000</td>\n",
       "      <td>0.000000</td>\n",
       "      <td>1.41000</td>\n",
       "      <td>0.420000</td>\n",
       "      <td>0.970000</td>\n",
       "      <td>13.990000</td>\n",
       "      <td>38.520000</td>\n",
       "      <td>0.510000</td>\n",
       "      <td>0.330000</td>\n",
       "      <td>5.310000</td>\n",
       "      <td>8.370000</td>\n",
       "      <td>0.000000</td>\n",
       "      <td>0.650000</td>\n",
       "      <td>417.875000</td>\n",
       "      <td>0.000000</td>\n",
       "      <td>497.335000</td>\n",
       "      <td>2.000000</td>\n",
       "    </tr>\n",
       "    <tr>\n",
       "      <th>75%</th>\n",
       "      <td>174966.500000</td>\n",
       "      <td>73.000000</td>\n",
       "      <td>11.790000</td>\n",
       "      <td>0.160000</td>\n",
       "      <td>2.40000</td>\n",
       "      <td>0.710000</td>\n",
       "      <td>1.560000</td>\n",
       "      <td>34.360000</td>\n",
       "      <td>50.860000</td>\n",
       "      <td>1.350000</td>\n",
       "      <td>0.770000</td>\n",
       "      <td>10.490000</td>\n",
       "      <td>12.270000</td>\n",
       "      <td>0.880000</td>\n",
       "      <td>1.060000</td>\n",
       "      <td>700.302500</td>\n",
       "      <td>0.000000</td>\n",
       "      <td>811.382500</td>\n",
       "      <td>3.000000</td>\n",
       "    </tr>\n",
       "    <tr>\n",
       "      <th>max</th>\n",
       "      <td>199999.000000</td>\n",
       "      <td>89.000000</td>\n",
       "      <td>294.630000</td>\n",
       "      <td>4.760000</td>\n",
       "      <td>450.00000</td>\n",
       "      <td>275.000000</td>\n",
       "      <td>225.000000</td>\n",
       "      <td>6825.000000</td>\n",
       "      <td>5175.000000</td>\n",
       "      <td>375.000000</td>\n",
       "      <td>7500.000000</td>\n",
       "      <td>375.000000</td>\n",
       "      <td>750.000000</td>\n",
       "      <td>100.000000</td>\n",
       "      <td>125.000000</td>\n",
       "      <td>49325.000000</td>\n",
       "      <td>1.000000</td>\n",
       "      <td>68600.000000</td>\n",
       "      <td>4.000000</td>\n",
       "    </tr>\n",
       "  </tbody>\n",
       "</table>\n",
       "</div>"
      ],
      "text/plain": [
       "             hadm_id           age       LOSdays   NumCallouts  NumDiagnosis  \\\n",
       "count   58976.000000  58976.000000  58976.000000  58976.000000   58976.00000   \n",
       "mean   149970.809584     53.005884     10.114955      0.099374       2.67596   \n",
       "std     28883.095213     26.028120     12.456231      0.163437       8.26559   \n",
       "min    100001.000000      0.000000      0.000000      0.000000       0.00000   \n",
       "25%    124952.750000     43.000000      3.710000      0.000000       0.82000   \n",
       "50%    149989.500000     59.000000      6.460000      0.000000       1.41000   \n",
       "75%    174966.500000     73.000000     11.790000      0.160000       2.40000   \n",
       "max    199999.000000     89.000000    294.630000      4.760000     450.00000   \n",
       "\n",
       "           NumProcs  NumCPTevents      NumInput       NumLabs  NumMicroLabs  \\\n",
       "count  58976.000000  58976.000000  58976.000000  58976.000000  58976.000000   \n",
       "mean       0.785599      1.074118     30.379017     46.421124      1.219913   \n",
       "std        3.558090      2.027148     62.430163     76.061561      4.236693   \n",
       "min        0.000000      0.000000      0.000000      0.000000      0.000000   \n",
       "25%        0.210000      0.000000      4.850000     26.980000      0.160000   \n",
       "50%        0.420000      0.970000     13.990000     38.520000      0.510000   \n",
       "75%        0.710000      1.560000     34.360000     50.860000      1.350000   \n",
       "max      275.000000    225.000000   6825.000000   5175.000000    375.000000   \n",
       "\n",
       "           NumNotes     NumOutput         NumRx  NumProcEvents  NumTransfers  \\\n",
       "count  58976.000000  58976.000000  58976.000000   58976.000000  58976.000000   \n",
       "mean       6.464789      7.111594      9.593702       0.691903      1.093313   \n",
       "std      106.709903      7.551822     12.601338       2.117615      3.169441   \n",
       "min        0.000000      0.000000      0.000000       0.000000      0.000000   \n",
       "25%        0.140000      1.750000      4.330000       0.000000      0.380000   \n",
       "50%        0.330000      5.310000      8.370000       0.000000      0.650000   \n",
       "75%        0.770000     10.490000     12.270000       0.880000      1.060000   \n",
       "max     7500.000000    375.000000    750.000000     100.000000    125.000000   \n",
       "\n",
       "       NumChartEvents  ExpiredHospital  TotalNumInteract   LOSgroupNum  \n",
       "count    58976.000000     58976.000000      58976.000000  58976.000000  \n",
       "mean       528.505172         0.099261        636.115579      2.360248  \n",
       "std        640.250063         0.299014        783.938087      1.130337  \n",
       "min          0.000000         0.000000          0.000000      1.000000  \n",
       "25%        207.410000         0.000000        267.407500      1.000000  \n",
       "50%        417.875000         0.000000        497.335000      2.000000  \n",
       "75%        700.302500         0.000000        811.382500      3.000000  \n",
       "max      49325.000000         1.000000      68600.000000      4.000000  "
      ]
     },
     "execution_count": 93,
     "metadata": {},
     "output_type": "execute_result"
    }
   ],
   "source": [
    "raw.describe()"
   ]
  },
  {
   "cell_type": "code",
   "execution_count": 94,
   "metadata": {},
   "outputs": [
    {
     "name": "stdout",
     "output_type": "stream",
     "text": [
      "<class 'pandas.core.frame.DataFrame'>\n",
      "RangeIndex: 58976 entries, 0 to 58975\n",
      "Data columns (total 28 columns):\n",
      "hadm_id             58976 non-null int64\n",
      "gender              58976 non-null object\n",
      "age                 58976 non-null int64\n",
      "LOSdays             58976 non-null float64\n",
      "admit_type          58976 non-null object\n",
      "admit_location      58976 non-null object\n",
      "AdmitDiagnosis      58951 non-null object\n",
      "insurance           58976 non-null object\n",
      "religion            58518 non-null object\n",
      "marital_status      48848 non-null object\n",
      "ethnicity           58976 non-null object\n",
      "NumCallouts         58976 non-null float64\n",
      "NumDiagnosis        58976 non-null float64\n",
      "NumProcs            58976 non-null float64\n",
      "AdmitProcedure      58976 non-null object\n",
      "NumCPTevents        58976 non-null float64\n",
      "NumInput            58976 non-null float64\n",
      "NumLabs             58976 non-null float64\n",
      "NumMicroLabs        58976 non-null float64\n",
      "NumNotes            58976 non-null float64\n",
      "NumOutput           58976 non-null float64\n",
      "NumRx               58976 non-null float64\n",
      "NumProcEvents       58976 non-null float64\n",
      "NumTransfers        58976 non-null float64\n",
      "NumChartEvents      58976 non-null float64\n",
      "ExpiredHospital     58976 non-null int64\n",
      "TotalNumInteract    58976 non-null float64\n",
      "LOSgroupNum         58976 non-null int64\n",
      "dtypes: float64(15), int64(4), object(9)\n",
      "memory usage: 12.6+ MB\n"
     ]
    }
   ],
   "source": [
    "raw.info()\n",
    "\n",
    "# some na's in AdmitDiagnosis, religion, marital_status"
   ]
  },
  {
   "cell_type": "code",
   "execution_count": 17,
   "metadata": {},
   "outputs": [
    {
     "data": {
      "text/plain": [
       "['AdmitDiagnosis',\n",
       " 'AdmitProcedure',\n",
       " 'ExpiredHospital',\n",
       " 'LOSdays',\n",
       " 'LOSgroupNum',\n",
       " 'NumCPTevents',\n",
       " 'NumCallouts',\n",
       " 'NumChartEvents',\n",
       " 'NumDiagnosis',\n",
       " 'NumInput',\n",
       " 'NumLabs',\n",
       " 'NumMicroLabs',\n",
       " 'NumNotes',\n",
       " 'NumOutput',\n",
       " 'NumProcEvents',\n",
       " 'NumProcs',\n",
       " 'NumRx',\n",
       " 'NumTransfers',\n",
       " 'TotalNumInteract',\n",
       " 'admit_location',\n",
       " 'admit_type',\n",
       " 'age',\n",
       " 'ethnicity',\n",
       " 'gender',\n",
       " 'hadm_id',\n",
       " 'insurance',\n",
       " 'marital_status',\n",
       " 'religion']"
      ]
     },
     "execution_count": 17,
     "metadata": {},
     "output_type": "execute_result"
    }
   ],
   "source": [
    "sorted([col for col in raw.columns])"
   ]
  },
  {
   "cell_type": "code",
   "execution_count": 89,
   "metadata": {},
   "outputs": [
    {
     "data": {
      "text/plain": [
       "15692"
      ]
     },
     "execution_count": 89,
     "metadata": {},
     "output_type": "execute_result"
    }
   ],
   "source": [
    "len(raw.AdmitDiagnosis.unique())"
   ]
  },
  {
   "cell_type": "code",
   "execution_count": 106,
   "metadata": {},
   "outputs": [
    {
     "data": {
      "text/plain": [
       "array(['EMERGENCY', 'ELECTIVE', 'URGENT', 'NEWBORN'], dtype=object)"
      ]
     },
     "execution_count": 106,
     "metadata": {},
     "output_type": "execute_result"
    }
   ],
   "source": [
    "# raw.AdmitDiagnosis.unique() # need to organize these diagnoses again...\n",
    "# raw.AdmitProcedure.unique() # free text\n",
    "# raw.ExpiredHospital.unique() # 0,1\n",
    "# raw.LOSdays.unique() # continuous\n",
    "# (raw.LOSdays < 0).sum() # no negatives\n",
    "# raw[raw.LOSdays==\"na\"] # no NAs\n",
    "\n",
    "# raw.LOSgroupNum.unique() # array([2, 4, 3, 1])\n",
    "# raw.NumCPTevents.unique() # no negatives, continuous (but why are there decimals?)\n",
    "# raw.NumCallouts.unique() # continuous (but why are there decimals?)\n",
    "# (raw.NumChartEvents < 0).sum() # no negatives, continuous (but why are there decimals?)\n",
    "# raw.NumDiagnosis.unique() # no negatives, continuous (but why are there decimals?)\n",
    "# raw.NumInput.unique() # no negatives, continuous (but why are there decimals?)\n",
    "# (raw.NumInput < 0).sum()\n",
    "# raw.NumLabs.unique() # no negatives, continuous (but why are there decimals?)\n",
    "# (raw.NumLabs < 0).sum() \n",
    "# raw.NumMicroLabs.unique() # no negatives, continuous (but why are there decimals?)\n",
    "# (raw.NumMicroLabs < 0).sum()\n",
    "# raw.NumNotes.unique() # no negatives, continuous (but why are there decimals?)\n",
    "\n",
    "\n",
    "# raw.NumOutput.unique() # no negatives, continuous (but why are there decimals?)\n",
    "\n",
    "\n",
    "# raw.NumProcEvents.unique() # no negatives, continuous (but why are there decimals?)\n",
    "# (raw.NumProcEvents < 0).sum() \n",
    "\n",
    "# raw.NumProcs.unique() # no negatives, continuous (but why are there decimals?)\n",
    "# (raw.NumProcs < 0).sum() # no negatives, continuous (but why are there decimals?)\n",
    "\n",
    "# raw.NumRx.unique() # no negatives, continuous (but why are there decimals?)\n",
    "# (raw.NumRx < 0).sum() \n",
    "\n",
    "# raw.NumTransfers.unique() # no negatives, continuous (but why are there decimals?)\n",
    "# (raw.NumTransfers < 0).sum() \n",
    "\n",
    "# raw.TotalNumInteract.unique() # no negatives, continuous (but why are there decimals?)\n",
    "# (raw.TotalNumInteract < 0).sum() \n",
    "\n",
    "# raw.admit_location.unique() # clean up text categories\n",
    "# raw.admit_type.unique() # cleaned!\n",
    "# raw.age.unique() # continuous\n",
    "# raw.ethnicity.unique() # clean up text categories\n",
    "\n",
    "# raw.gender.unique() # ['F', 'M']\n",
    " \n",
    "\n",
    "# raw.insurance.unique() # cleaned unless want to collapse further\n",
    "# raw.marital_status.unique() # missing values\n",
    "# raw.religion.unique() # Check distributions to see if need to collapse religions\n",
    "\n",
    "\n",
    "# max(raw.hadm_id.value_counts()) # only one row per patient"
   ]
  },
  {
   "cell_type": "markdown",
   "metadata": {},
   "source": [
    "## Missing Values:"
   ]
  },
  {
   "cell_type": "code",
   "execution_count": 104,
   "metadata": {},
   "outputs": [
    {
     "data": {
      "text/plain": [
       "array(['DIVORCED', 'SINGLE', 'MARRIED', nan, 'WIDOWED',\n",
       "       'UNKNOWN (DEFAULT)', 'SEPARATED', 'LIFE PARTNER'], dtype=object)"
      ]
     },
     "execution_count": 104,
     "metadata": {},
     "output_type": "execute_result"
    }
   ],
   "source": [
    "raw.AdmitDiagnosis.isna().sum() # 25 missing\n",
    "raw.religion.isna().sum() # 458 missing\n",
    "raw.marital_status.isna().sum() # 10128 missing\n",
    "\n",
    "raw.religion.unique()\n",
    "\n",
    "raw.marital_status.unique()\n"
   ]
  },
  {
   "cell_type": "code",
   "execution_count": 110,
   "metadata": {},
   "outputs": [],
   "source": [
    "raw_completecase = raw.dropna()"
   ]
  },
  {
   "cell_type": "code",
   "execution_count": 113,
   "metadata": {
    "scrolled": true
   },
   "outputs": [
    {
     "name": "stdout",
     "output_type": "stream",
     "text": [
      "<class 'pandas.core.frame.DataFrame'>\n",
      "Int64Index: 48588 entries, 0 to 58975\n",
      "Data columns (total 28 columns):\n",
      "hadm_id             48588 non-null int64\n",
      "gender              48588 non-null object\n",
      "age                 48588 non-null int64\n",
      "LOSdays             48588 non-null float64\n",
      "admit_type          48588 non-null object\n",
      "admit_location      48588 non-null object\n",
      "AdmitDiagnosis      48588 non-null object\n",
      "insurance           48588 non-null object\n",
      "religion            48588 non-null object\n",
      "marital_status      48588 non-null object\n",
      "ethnicity           48588 non-null object\n",
      "NumCallouts         48588 non-null float64\n",
      "NumDiagnosis        48588 non-null float64\n",
      "NumProcs            48588 non-null float64\n",
      "AdmitProcedure      48588 non-null object\n",
      "NumCPTevents        48588 non-null float64\n",
      "NumInput            48588 non-null float64\n",
      "NumLabs             48588 non-null float64\n",
      "NumMicroLabs        48588 non-null float64\n",
      "NumNotes            48588 non-null float64\n",
      "NumOutput           48588 non-null float64\n",
      "NumRx               48588 non-null float64\n",
      "NumProcEvents       48588 non-null float64\n",
      "NumTransfers        48588 non-null float64\n",
      "NumChartEvents      48588 non-null float64\n",
      "ExpiredHospital     48588 non-null int64\n",
      "TotalNumInteract    48588 non-null float64\n",
      "LOSgroupNum         48588 non-null int64\n",
      "dtypes: float64(15), int64(4), object(9)\n",
      "memory usage: 10.8+ MB\n"
     ]
    }
   ],
   "source": [
    "raw_completecase.info()"
   ]
  },
  {
   "cell_type": "code",
   "execution_count": 123,
   "metadata": {},
   "outputs": [
    {
     "data": {
      "text/html": [
       "<div>\n",
       "<style scoped>\n",
       "    .dataframe tbody tr th:only-of-type {\n",
       "        vertical-align: middle;\n",
       "    }\n",
       "\n",
       "    .dataframe tbody tr th {\n",
       "        vertical-align: top;\n",
       "    }\n",
       "\n",
       "    .dataframe thead th {\n",
       "        text-align: right;\n",
       "    }\n",
       "</style>\n",
       "<table border=\"1\" class=\"dataframe\">\n",
       "  <thead>\n",
       "    <tr style=\"text-align: right;\">\n",
       "      <th></th>\n",
       "      <th>hadm_id</th>\n",
       "      <th>gender</th>\n",
       "      <th>age</th>\n",
       "      <th>LOSdays</th>\n",
       "      <th>admit_type</th>\n",
       "      <th>admit_location</th>\n",
       "      <th>AdmitDiagnosis</th>\n",
       "      <th>insurance</th>\n",
       "      <th>religion</th>\n",
       "      <th>marital_status</th>\n",
       "      <th>ethnicity</th>\n",
       "      <th>NumCallouts</th>\n",
       "      <th>NumDiagnosis</th>\n",
       "      <th>NumProcs</th>\n",
       "      <th>AdmitProcedure</th>\n",
       "      <th>NumCPTevents</th>\n",
       "      <th>NumInput</th>\n",
       "      <th>NumLabs</th>\n",
       "      <th>NumMicroLabs</th>\n",
       "      <th>NumNotes</th>\n",
       "      <th>NumOutput</th>\n",
       "      <th>NumRx</th>\n",
       "      <th>NumProcEvents</th>\n",
       "      <th>NumTransfers</th>\n",
       "      <th>NumChartEvents</th>\n",
       "      <th>ExpiredHospital</th>\n",
       "      <th>TotalNumInteract</th>\n",
       "      <th>LOSgroupNum</th>\n",
       "    </tr>\n",
       "  </thead>\n",
       "  <tbody>\n",
       "    <tr>\n",
       "      <th>0</th>\n",
       "      <td>100001</td>\n",
       "      <td>F</td>\n",
       "      <td>35</td>\n",
       "      <td>6.17</td>\n",
       "      <td>EMERGENCY</td>\n",
       "      <td>CLINIC REFERRAL/PREMATURE</td>\n",
       "      <td>DIABETIC KETOACIDOSIS</td>\n",
       "      <td>Private</td>\n",
       "      <td>PROTESTANT QUAKER</td>\n",
       "      <td>DIVORCED</td>\n",
       "      <td>WHITE</td>\n",
       "      <td>0.16</td>\n",
       "      <td>2.59</td>\n",
       "      <td>0.00</td>\n",
       "      <td>na</td>\n",
       "      <td>1.30</td>\n",
       "      <td>25.12</td>\n",
       "      <td>43.44</td>\n",
       "      <td>0.65</td>\n",
       "      <td>0.05</td>\n",
       "      <td>5.19</td>\n",
       "      <td>14.91</td>\n",
       "      <td>1.13</td>\n",
       "      <td>0.65</td>\n",
       "      <td>398.70</td>\n",
       "      <td>0</td>\n",
       "      <td>493.89</td>\n",
       "      <td>2</td>\n",
       "    </tr>\n",
       "    <tr>\n",
       "      <th>13</th>\n",
       "      <td>100020</td>\n",
       "      <td>M</td>\n",
       "      <td>58</td>\n",
       "      <td>10.58</td>\n",
       "      <td>EMERGENCY</td>\n",
       "      <td>EMERGENCY ROOM ADMIT</td>\n",
       "      <td>HYPONATREMIA</td>\n",
       "      <td>Private</td>\n",
       "      <td>CATHOLIC</td>\n",
       "      <td>MARRIED</td>\n",
       "      <td>WHITE</td>\n",
       "      <td>0.09</td>\n",
       "      <td>1.70</td>\n",
       "      <td>0.00</td>\n",
       "      <td>na</td>\n",
       "      <td>1.70</td>\n",
       "      <td>1.42</td>\n",
       "      <td>32.23</td>\n",
       "      <td>0.66</td>\n",
       "      <td>0.37</td>\n",
       "      <td>1.80</td>\n",
       "      <td>5.20</td>\n",
       "      <td>0.19</td>\n",
       "      <td>0.47</td>\n",
       "      <td>87.33</td>\n",
       "      <td>0</td>\n",
       "      <td>133.16</td>\n",
       "      <td>3</td>\n",
       "    </tr>\n",
       "    <tr>\n",
       "      <th>29</th>\n",
       "      <td>100040</td>\n",
       "      <td>M</td>\n",
       "      <td>30</td>\n",
       "      <td>2.88</td>\n",
       "      <td>EMERGENCY</td>\n",
       "      <td>CLINIC REFERRAL/PREMATURE</td>\n",
       "      <td>BLUNT TRAUMA</td>\n",
       "      <td>Private</td>\n",
       "      <td>NOT SPECIFIED</td>\n",
       "      <td>MARRIED</td>\n",
       "      <td>BLACK/AFRICAN AMERICAN</td>\n",
       "      <td>0.35</td>\n",
       "      <td>0.69</td>\n",
       "      <td>0.00</td>\n",
       "      <td>na</td>\n",
       "      <td>2.08</td>\n",
       "      <td>15.97</td>\n",
       "      <td>36.11</td>\n",
       "      <td>0.35</td>\n",
       "      <td>1.20</td>\n",
       "      <td>9.72</td>\n",
       "      <td>16.32</td>\n",
       "      <td>2.78</td>\n",
       "      <td>1.39</td>\n",
       "      <td>471.88</td>\n",
       "      <td>0</td>\n",
       "      <td>558.84</td>\n",
       "      <td>1</td>\n",
       "    </tr>\n",
       "    <tr>\n",
       "      <th>45</th>\n",
       "      <td>100065</td>\n",
       "      <td>M</td>\n",
       "      <td>59</td>\n",
       "      <td>3.79</td>\n",
       "      <td>EMERGENCY</td>\n",
       "      <td>EMERGENCY ROOM ADMIT</td>\n",
       "      <td>DIABETIC KETOACIDOSIS</td>\n",
       "      <td>Private</td>\n",
       "      <td>NOT SPECIFIED</td>\n",
       "      <td>MARRIED</td>\n",
       "      <td>BLACK/AFRICAN AMERICAN</td>\n",
       "      <td>0.26</td>\n",
       "      <td>1.32</td>\n",
       "      <td>0.00</td>\n",
       "      <td>na</td>\n",
       "      <td>1.58</td>\n",
       "      <td>21.11</td>\n",
       "      <td>68.07</td>\n",
       "      <td>0.26</td>\n",
       "      <td>0.28</td>\n",
       "      <td>1.06</td>\n",
       "      <td>8.18</td>\n",
       "      <td>0.00</td>\n",
       "      <td>0.79</td>\n",
       "      <td>204.75</td>\n",
       "      <td>0</td>\n",
       "      <td>307.66</td>\n",
       "      <td>1</td>\n",
       "    </tr>\n",
       "    <tr>\n",
       "      <th>48</th>\n",
       "      <td>100069</td>\n",
       "      <td>F</td>\n",
       "      <td>33</td>\n",
       "      <td>0.71</td>\n",
       "      <td>EMERGENCY</td>\n",
       "      <td>PHYS REFERRAL/NORMAL DELI</td>\n",
       "      <td>ORGAN DONOR ACCOUNT</td>\n",
       "      <td>Private</td>\n",
       "      <td>CATHOLIC</td>\n",
       "      <td>DIVORCED</td>\n",
       "      <td>WHITE</td>\n",
       "      <td>0.00</td>\n",
       "      <td>1.41</td>\n",
       "      <td>0.00</td>\n",
       "      <td>na</td>\n",
       "      <td>1.41</td>\n",
       "      <td>415.49</td>\n",
       "      <td>460.56</td>\n",
       "      <td>9.86</td>\n",
       "      <td>23.80</td>\n",
       "      <td>40.85</td>\n",
       "      <td>0.00</td>\n",
       "      <td>0.00</td>\n",
       "      <td>2.82</td>\n",
       "      <td>2919.72</td>\n",
       "      <td>1</td>\n",
       "      <td>3875.92</td>\n",
       "      <td>1</td>\n",
       "    </tr>\n",
       "    <tr>\n",
       "      <th>...</th>\n",
       "      <td>...</td>\n",
       "      <td>...</td>\n",
       "      <td>...</td>\n",
       "      <td>...</td>\n",
       "      <td>...</td>\n",
       "      <td>...</td>\n",
       "      <td>...</td>\n",
       "      <td>...</td>\n",
       "      <td>...</td>\n",
       "      <td>...</td>\n",
       "      <td>...</td>\n",
       "      <td>...</td>\n",
       "      <td>...</td>\n",
       "      <td>...</td>\n",
       "      <td>...</td>\n",
       "      <td>...</td>\n",
       "      <td>...</td>\n",
       "      <td>...</td>\n",
       "      <td>...</td>\n",
       "      <td>...</td>\n",
       "      <td>...</td>\n",
       "      <td>...</td>\n",
       "      <td>...</td>\n",
       "      <td>...</td>\n",
       "      <td>...</td>\n",
       "      <td>...</td>\n",
       "      <td>...</td>\n",
       "      <td>...</td>\n",
       "    </tr>\n",
       "    <tr>\n",
       "      <th>58951</th>\n",
       "      <td>199958</td>\n",
       "      <td>M</td>\n",
       "      <td>45</td>\n",
       "      <td>5.71</td>\n",
       "      <td>EMERGENCY</td>\n",
       "      <td>CLINIC REFERRAL/PREMATURE</td>\n",
       "      <td>ASTHMA;COPD EXACERBATIOM</td>\n",
       "      <td>Medicare</td>\n",
       "      <td>OTHER</td>\n",
       "      <td>MARRIED</td>\n",
       "      <td>BLACK/AFRICAN AMERICAN</td>\n",
       "      <td>0.18</td>\n",
       "      <td>1.40</td>\n",
       "      <td>0.00</td>\n",
       "      <td>na</td>\n",
       "      <td>1.23</td>\n",
       "      <td>0.00</td>\n",
       "      <td>23.29</td>\n",
       "      <td>0.35</td>\n",
       "      <td>0.18</td>\n",
       "      <td>1.05</td>\n",
       "      <td>5.08</td>\n",
       "      <td>0.18</td>\n",
       "      <td>0.88</td>\n",
       "      <td>136.95</td>\n",
       "      <td>0</td>\n",
       "      <td>170.77</td>\n",
       "      <td>2</td>\n",
       "    </tr>\n",
       "    <tr>\n",
       "      <th>58953</th>\n",
       "      <td>199961</td>\n",
       "      <td>M</td>\n",
       "      <td>58</td>\n",
       "      <td>13.54</td>\n",
       "      <td>EMERGENCY</td>\n",
       "      <td>TRANSFER FROM HOSP/EXTRAM</td>\n",
       "      <td>T8-T9 FRACTURE-UPPER BACK PAIN</td>\n",
       "      <td>Private</td>\n",
       "      <td>CATHOLIC</td>\n",
       "      <td>MARRIED</td>\n",
       "      <td>WHITE</td>\n",
       "      <td>0.00</td>\n",
       "      <td>0.66</td>\n",
       "      <td>0.00</td>\n",
       "      <td>na</td>\n",
       "      <td>0.37</td>\n",
       "      <td>7.61</td>\n",
       "      <td>19.87</td>\n",
       "      <td>0.37</td>\n",
       "      <td>0.10</td>\n",
       "      <td>7.53</td>\n",
       "      <td>3.32</td>\n",
       "      <td>0.00</td>\n",
       "      <td>0.30</td>\n",
       "      <td>400.81</td>\n",
       "      <td>0</td>\n",
       "      <td>440.94</td>\n",
       "      <td>4</td>\n",
       "    </tr>\n",
       "    <tr>\n",
       "      <th>58957</th>\n",
       "      <td>199967</td>\n",
       "      <td>F</td>\n",
       "      <td>82</td>\n",
       "      <td>9.79</td>\n",
       "      <td>EMERGENCY</td>\n",
       "      <td>CLINIC REFERRAL/PREMATURE</td>\n",
       "      <td>STROKE/TIA</td>\n",
       "      <td>Medicare</td>\n",
       "      <td>NOT SPECIFIED</td>\n",
       "      <td>SINGLE</td>\n",
       "      <td>WHITE</td>\n",
       "      <td>0.10</td>\n",
       "      <td>1.53</td>\n",
       "      <td>0.00</td>\n",
       "      <td>na</td>\n",
       "      <td>1.23</td>\n",
       "      <td>3.37</td>\n",
       "      <td>30.95</td>\n",
       "      <td>0.20</td>\n",
       "      <td>0.03</td>\n",
       "      <td>2.35</td>\n",
       "      <td>9.40</td>\n",
       "      <td>0.61</td>\n",
       "      <td>0.72</td>\n",
       "      <td>197.45</td>\n",
       "      <td>0</td>\n",
       "      <td>247.94</td>\n",
       "      <td>3</td>\n",
       "    </tr>\n",
       "    <tr>\n",
       "      <th>58967</th>\n",
       "      <td>199986</td>\n",
       "      <td>F</td>\n",
       "      <td>73</td>\n",
       "      <td>2.79</td>\n",
       "      <td>EMERGENCY</td>\n",
       "      <td>TRANSFER FROM HOSP/EXTRAM</td>\n",
       "      <td>MYOCARDIAL INFARCTION\\CATH</td>\n",
       "      <td>Medicare</td>\n",
       "      <td>PROTESTANT QUAKER</td>\n",
       "      <td>WIDOWED</td>\n",
       "      <td>WHITE</td>\n",
       "      <td>0.00</td>\n",
       "      <td>2.51</td>\n",
       "      <td>2.15</td>\n",
       "      <td>na</td>\n",
       "      <td>0.00</td>\n",
       "      <td>43.73</td>\n",
       "      <td>40.86</td>\n",
       "      <td>0.00</td>\n",
       "      <td>0.90</td>\n",
       "      <td>6.45</td>\n",
       "      <td>13.98</td>\n",
       "      <td>0.00</td>\n",
       "      <td>1.08</td>\n",
       "      <td>469.89</td>\n",
       "      <td>0</td>\n",
       "      <td>581.55</td>\n",
       "      <td>1</td>\n",
       "    </tr>\n",
       "    <tr>\n",
       "      <th>58970</th>\n",
       "      <td>199992</td>\n",
       "      <td>F</td>\n",
       "      <td>85</td>\n",
       "      <td>2.88</td>\n",
       "      <td>EMERGENCY</td>\n",
       "      <td>TRANSFER FROM HOSP/EXTRAM</td>\n",
       "      <td>BRADYCARDIA</td>\n",
       "      <td>Medicare</td>\n",
       "      <td>JEWISH</td>\n",
       "      <td>SINGLE</td>\n",
       "      <td>WHITE</td>\n",
       "      <td>0.35</td>\n",
       "      <td>5.21</td>\n",
       "      <td>0.00</td>\n",
       "      <td>na</td>\n",
       "      <td>1.39</td>\n",
       "      <td>7.29</td>\n",
       "      <td>50.69</td>\n",
       "      <td>2.78</td>\n",
       "      <td>0.36</td>\n",
       "      <td>4.86</td>\n",
       "      <td>13.54</td>\n",
       "      <td>1.04</td>\n",
       "      <td>1.39</td>\n",
       "      <td>358.33</td>\n",
       "      <td>0</td>\n",
       "      <td>447.23</td>\n",
       "      <td>1</td>\n",
       "    </tr>\n",
       "  </tbody>\n",
       "</table>\n",
       "<p>6980 rows × 28 columns</p>\n",
       "</div>"
      ],
      "text/plain": [
       "       hadm_id gender  age  LOSdays admit_type             admit_location  \\\n",
       "0       100001      F   35     6.17  EMERGENCY  CLINIC REFERRAL/PREMATURE   \n",
       "13      100020      M   58    10.58  EMERGENCY       EMERGENCY ROOM ADMIT   \n",
       "29      100040      M   30     2.88  EMERGENCY  CLINIC REFERRAL/PREMATURE   \n",
       "45      100065      M   59     3.79  EMERGENCY       EMERGENCY ROOM ADMIT   \n",
       "48      100069      F   33     0.71  EMERGENCY  PHYS REFERRAL/NORMAL DELI   \n",
       "...        ...    ...  ...      ...        ...                        ...   \n",
       "58951   199958      M   45     5.71  EMERGENCY  CLINIC REFERRAL/PREMATURE   \n",
       "58953   199961      M   58    13.54  EMERGENCY  TRANSFER FROM HOSP/EXTRAM   \n",
       "58957   199967      F   82     9.79  EMERGENCY  CLINIC REFERRAL/PREMATURE   \n",
       "58967   199986      F   73     2.79  EMERGENCY  TRANSFER FROM HOSP/EXTRAM   \n",
       "58970   199992      F   85     2.88  EMERGENCY  TRANSFER FROM HOSP/EXTRAM   \n",
       "\n",
       "                       AdmitDiagnosis insurance           religion  \\\n",
       "0               DIABETIC KETOACIDOSIS   Private  PROTESTANT QUAKER   \n",
       "13                       HYPONATREMIA   Private           CATHOLIC   \n",
       "29                       BLUNT TRAUMA   Private      NOT SPECIFIED   \n",
       "45              DIABETIC KETOACIDOSIS   Private      NOT SPECIFIED   \n",
       "48                ORGAN DONOR ACCOUNT   Private           CATHOLIC   \n",
       "...                               ...       ...                ...   \n",
       "58951        ASTHMA;COPD EXACERBATIOM  Medicare              OTHER   \n",
       "58953  T8-T9 FRACTURE-UPPER BACK PAIN   Private           CATHOLIC   \n",
       "58957                      STROKE/TIA  Medicare      NOT SPECIFIED   \n",
       "58967      MYOCARDIAL INFARCTION\\CATH  Medicare  PROTESTANT QUAKER   \n",
       "58970                     BRADYCARDIA  Medicare             JEWISH   \n",
       "\n",
       "      marital_status               ethnicity  NumCallouts  NumDiagnosis  \\\n",
       "0           DIVORCED                   WHITE         0.16          2.59   \n",
       "13           MARRIED                   WHITE         0.09          1.70   \n",
       "29           MARRIED  BLACK/AFRICAN AMERICAN         0.35          0.69   \n",
       "45           MARRIED  BLACK/AFRICAN AMERICAN         0.26          1.32   \n",
       "48          DIVORCED                   WHITE         0.00          1.41   \n",
       "...              ...                     ...          ...           ...   \n",
       "58951        MARRIED  BLACK/AFRICAN AMERICAN         0.18          1.40   \n",
       "58953        MARRIED                   WHITE         0.00          0.66   \n",
       "58957         SINGLE                   WHITE         0.10          1.53   \n",
       "58967        WIDOWED                   WHITE         0.00          2.51   \n",
       "58970         SINGLE                   WHITE         0.35          5.21   \n",
       "\n",
       "       NumProcs AdmitProcedure  NumCPTevents  NumInput  NumLabs  NumMicroLabs  \\\n",
       "0          0.00             na          1.30     25.12    43.44          0.65   \n",
       "13         0.00             na          1.70      1.42    32.23          0.66   \n",
       "29         0.00             na          2.08     15.97    36.11          0.35   \n",
       "45         0.00             na          1.58     21.11    68.07          0.26   \n",
       "48         0.00             na          1.41    415.49   460.56          9.86   \n",
       "...         ...            ...           ...       ...      ...           ...   \n",
       "58951      0.00             na          1.23      0.00    23.29          0.35   \n",
       "58953      0.00             na          0.37      7.61    19.87          0.37   \n",
       "58957      0.00             na          1.23      3.37    30.95          0.20   \n",
       "58967      2.15             na          0.00     43.73    40.86          0.00   \n",
       "58970      0.00             na          1.39      7.29    50.69          2.78   \n",
       "\n",
       "       NumNotes  NumOutput  NumRx  NumProcEvents  NumTransfers  \\\n",
       "0          0.05       5.19  14.91           1.13          0.65   \n",
       "13         0.37       1.80   5.20           0.19          0.47   \n",
       "29         1.20       9.72  16.32           2.78          1.39   \n",
       "45         0.28       1.06   8.18           0.00          0.79   \n",
       "48        23.80      40.85   0.00           0.00          2.82   \n",
       "...         ...        ...    ...            ...           ...   \n",
       "58951      0.18       1.05   5.08           0.18          0.88   \n",
       "58953      0.10       7.53   3.32           0.00          0.30   \n",
       "58957      0.03       2.35   9.40           0.61          0.72   \n",
       "58967      0.90       6.45  13.98           0.00          1.08   \n",
       "58970      0.36       4.86  13.54           1.04          1.39   \n",
       "\n",
       "       NumChartEvents  ExpiredHospital  TotalNumInteract  LOSgroupNum  \n",
       "0              398.70                0            493.89            2  \n",
       "13              87.33                0            133.16            3  \n",
       "29             471.88                0            558.84            1  \n",
       "45             204.75                0            307.66            1  \n",
       "48            2919.72                1           3875.92            1  \n",
       "...               ...              ...               ...          ...  \n",
       "58951          136.95                0            170.77            2  \n",
       "58953          400.81                0            440.94            4  \n",
       "58957          197.45                0            247.94            3  \n",
       "58967          469.89                0            581.55            1  \n",
       "58970          358.33                0            447.23            1  \n",
       "\n",
       "[6980 rows x 28 columns]"
      ]
     },
     "execution_count": 123,
     "metadata": {},
     "output_type": "execute_result"
    }
   ],
   "source": [
    "# there are some string na labels here. If we aren't using this column we can probably ignore\n",
    "\n",
    "raw_completecase[raw_completecase.AdmitProcedure=='na']\n",
    "\n"
   ]
  },
  {
   "cell_type": "markdown",
   "metadata": {},
   "source": [
    "## Collapsing categorical variable's categories:"
   ]
  },
  {
   "cell_type": "code",
   "execution_count": null,
   "metadata": {},
   "outputs": [],
   "source": []
  },
  {
   "cell_type": "code",
   "execution_count": 82,
   "metadata": {},
   "outputs": [
    {
     "data": {
      "text/plain": [
       "1"
      ]
     },
     "execution_count": 82,
     "metadata": {},
     "output_type": "execute_result"
    }
   ],
   "source": [
    "raw['AdmitDiagnosis'] = raw['AdmitDiagnosis'].replace([' PERFORATED DIVERTICULITIS STATUS/POST HARTMANN PROCEDURE/SDA',\n",
    "                                                                            'ABDOMINAL ABSCESS',\n",
    "                                                                            'ABSCESS OF GALLSTONES/SDA',\n",
    "                                                                            \"BARRETT'S ESOPHAGUS/SDA\",\n",
    "                                                                          'ABDOMINAL INFECTION',\n",
    "                                                                           'ABDOMINAL PAIN',\n",
    "                                                                           'ACUTE CHOLECYSTITIS',\n",
    "                                                                            'ADRENAL MASS/SDA',\n",
    "                                                                           'BOWEL OBSTRUCTION',\n",
    "                                                                           'BOWEL OBSTRUCTION;FAILURE TO THRIVE',\n",
    "                                                                           'CHOLANGITIS','CHOLANGITIS ABSCESS',\n",
    "                                                                            'CHOLECYSTITIS','CHRONIC INTERSISTIAL CYSTISTIS/SDA',\n",
    "                                                                             'COLON CA/SDA','COLON TUMOR BENIGN/SDA','ESOPHAGEAL FOREIGN BODY',\n",
    "                                                                            'FOREIGN BODY IN ESOPHAGUS',\n",
    "                                                                                      'FOREIGN BODY IN STOMACH',\n",
    "                                                                                      'FOREIGN BODY INGESTION',\n",
    "                                                                                      'GASTROINTESTINAL BLEED',\n",
    "                                                                                      'GI BLEED',\n",
    "                                                                                      'HEMATURIA;BLADDER BLEED',\n",
    "                                                                                      'HEMOPERITONEUM',\n",
    "                                                                                      'HEMOPTYSIS',\n",
    "                                                                                      'ISCHEMIC BOWEL; HERNIA',\n",
    "                                                                            'LIVER LACERATION',\n",
    "                                                                            'LOWER GASTROINTESTINAL BLEED',\n",
    "                                                                            'LOWER GI BLEED',\n",
    "                                                                            'NEED GI SCOPE',\n",
    "                                                                            'PANCREATIC ABCESS',\n",
    "                                                                            'PANCREATITIS',\n",
    "                                                                            'RECTAL BLEEDING',\n",
    "                                                                            'RUPTURED DUODENAL ULCER',\n",
    "                                                                            'SMALL BOWEL OBSTRUCTION',\n",
    "                                                                            'SPLEENIC LACERATION',\n",
    "                                                                            'UPPER GASTROINTESTINAL BLEED',\n",
    "                                                                            'UPPER GI BLEED',\n",
    "                                                                            'UPPER GI BLEED;TELEMETRY',\n",
    "                                                                            'CHRONIC INTERSISTIAL CYSTISTIS/SDA','COLON CA/SDA','COLON TUMOR BENIGN/SDA', \n",
    "                                                                                       \"CROHN'S /SDA\",\"CROHN'S DISEASE/SDA\",'ESOPHAGEAL CA/SDA',\n",
    "                                                                                       'GASTRIC FUNDAL VARICES STAGE 4/SDA',\n",
    "                                                                                       'GASTRIC MASS/SDA',\n",
    "                                                                                       'GERD/SDA','INCISIONAL HERNIA/SDA','LARGE ABDOMINAL MASS/SDA','LIVER MASS/SDA',\n",
    "                                                                                       'LOWER GI BLEED/SDA','MORBID OBESITY;INCISIONAL HERNIA;GALLSTONES/SDA',\n",
    "                                                                                       'PANCREATIC CA/SDA','PANCREATIC MASS/SDA','NON HEALING ULCER','STOMACH CA/SDA',\n",
    "                                                                                       'VENTRAL HERNIA/SDA','SUPER RENAL ANEURYSM/SDA',\n",
    "                                                                                      \"BARRET'S ESOPHAGUS/SDA\",\"ESOPHAGEAL CA AND DOWN'S SYNDROME/SDA\",\n",
    "                                                                                       'PEPTIC ULCER;HIATIAL HERNIA/SDA','SPLENIC RUPTURE'],'GI')\n",
    "\n",
    "raw['AdmitDiagnosis'] = raw['AdmitDiagnosis'].replace(['AAA\\\\AORTIC VALVE REPLACEMENT;ASCENDING AORTIC  REPLACEMENT;AORTIC ARCH REPLACEMENT;DHCA/SDA',\n",
    "                                                                            'ABDOMINAL AORTIC ANEURYSM/SDA',\n",
    "                                                                            'ABDOMINAL AORTIC ANEURYSM',\n",
    "                                                                           'ABDOMINAL AORTIC ANEURYSM;',\n",
    "                                                                           'ABDOMINAL AORTIC ANURISM REPAIR',\n",
    "                                                                            'ACENDING AORTIC ANEYRYS\\\\BENTAL PROCEDURE /SDA',\n",
    "                                                                            'ACUTE CORONARY SYNDROME',\n",
    "                                                                           'ACUTE CORONARY SYNDROME\\\\CATH',\n",
    "                                                                           'ACUTE MYOCARDIAL INFARCTION',\n",
    "                                                                           'ACUTE SUBDORAL HEMATOMA',\n",
    "                                                                           'ACUTE SUBDURAL HEMATOMA',\n",
    "                                                                            'ACUTE CORONARY ARTERY DISEASE\\\\CORONARY ARTERY BYPASS GRAFT ',\n",
    "                                                                          'ALCOHOL WITHDRAWL;CARDIOMYOPATHY;VENTRICULAR TACHYCARDIA',\n",
    "                                                                           'ANGINA;+ETT','AORTIC DISSECTION',\n",
    "                                                                           'AORTIC INSUFFICIENCY','AORTIC STENISIS',\n",
    "                                                                           'AORTIC STENOSIS',\n",
    "                                                                           'AORTIC STENOSIS;CORONARY ARTERY DISEASE\\\\AORTIC ROOT REPLACEMENT REPAIR;? ASCENDING AORTIC REPLACEMENT',\n",
    "                                                                           'AORTIC VALVE ENDOCARDITIS;AORTIC INSUFFICIENCY\\\\CATH',\n",
    "                                                                           'ATRIAL TACHYCARDIA',\n",
    "                                                                            'AORTIC INSUFFICIENCY & ENLARGEMENT\\\\AORTIC VALVE REPLACEMENT /SDA',\n",
    "                                                                             'AORTIC INSUFFICIENCY\\\\AORTIC AND MITRAL VALVE REPLACEMENT /SDA',\n",
    "                                                                             'AORTIC INSUFFICIENCY\\\\AORTIC VALVE REPLACEMENT /SDA',\n",
    "                                                                             'AORTIC INSUFFICIENCY\\\\BENTAL PROCEDURE; REPLACING ASCENDING & HEMI-ARCH AORTA; ? CABG W/DEEP HYPOTHERMIC ARREST/SDA',\n",
    "                                                                             'AORTIC STENOSIS; CAD\\\\AORTIC VALVE REPLACEMENT; POSSIBLE CORONARY ARTERY BYPASS GRAFT & MAZE',\n",
    "                                                                             'AORTIC STENOSIS;MR\\\\ AORTIC AND MITRAL VALVE REPLACEMENT',\n",
    "                                                                            'AORTIC STENOSIS\\\\? CORONARY ARTERY BYPASS GRAFT WITH AVR /SDA',\n",
    "                                                                            'AORTIC STENOSIS\\\\AORTIC AND MITRAL VALVE REPLACEMENT ',\n",
    "                                                                         'AORTIC STENOSIS\\\\AORTIC AND MITRAL VALVE REPLACEMENT  BENTAL PROCEDURE /SDA',\n",
    "                                                                        'AORTIC STENOSIS\\\\AORTIC AND MITRAL VALVE REPLACEMENT /SDA',\n",
    "                                                                        'AORTIC STENOSIS\\\\AORTIC VALVE REPLACEMENT ',\n",
    "                                                                         'AORTIC STENOSIS\\\\AORTIC VALVE REPLACEMENT  ? BENTAL PROCEDURE ',\n",
    "                                                                         'AORTIC STENOSIS\\\\AORTIC VALVE REPLACEMENT /SDA',\n",
    "                                                                         'AORTIC STENOSIS\\\\AORTIC VALVE REPLACEMENT REDO /SDA',\n",
    "                                                                        'AORTIC STENOSIS\\\\AORTIC VALVE REPLACEMENT WITH HOMOGRAFT /SDA',\n",
    "                                                                         'AORTIC STENOSIS\\\\AORTIC VALVE REPLACEMENT, ? MITRAL VALVEREPLACEMENT /SDA',\n",
    "                                                                         'AORTIC STENOSIS\\\\AORTIC VALVE REPLACEMENT/SDA',\n",
    "                                                                         'AORTIC STENOSIS\\\\AORTIC VALVE REPLACEMENT; ? CORONARY ARTERY BYPASS GRAFT /SDA',\n",
    "                                                                         'AORTIC STENOSIS\\\\AORTIC VALVE REPLACEMENT; RE-DO STERNOTOMY/SDA',\n",
    "                                                                         'AORTIC STENOSIS\\\\AORTIC VALVE REPLACEMENT;MITRAL VALVE REPLACEMENT/SDA',\n",
    "                                                                         'AORTIC STENOSIS\\\\BENTAL PROCEDURE; REDO STERNOTOMY/SDA',\n",
    "                                                                         'AORTIC STENOSIS\\\\CORONARY ARTERY BYPASS GRAFT WITH AVR ',\n",
    "                                                                         'AORTIC STENOSIS\\\\CORONARY ARTERY BYPASS GRAFT WITH AVR /SDA',\n",
    "                                                                         'AORTIC STENOSIS\\\\CORONARY ARTERY BYPASS GRAFT WITH AVR, ?BENTAL PROCEDURE /SDA',\n",
    "                                                                         'AORTIC STENSIS\\\\? CORONARY ARTERY BYPASS GRAFT WITH AVR REDO /SDA',\n",
    "                                                                         'AORTIC VALVE DISORDER\\\\AORTIC VALVE REPLACEMENT /SDA',\n",
    "                                                                         'AORTIC VALVE DISORDER\\\\AORTIC VALVE; ? ASCENDING AORTA REPLACEMENT /SDA',\n",
    "                                                                         'AORTIC VALVE DISORDER\\\\RESECTION OF AORTIC MASS VS AORTIC VALVE REPLACMENT',\n",
    "                                                                         'AORTIC VALVE INSUFFICENCY\\\\CORONARY ARTERY BYPASS GRAFT WITH AVR /SDA',\n",
    "                                                                         'AORTIC VALVE INSUFFICIENCY\\\\AORTIC VALVE REPLACEMENT ',\n",
    "                                                                         'AORTIC VALVE INSUFFICIENCY\\\\AORTIC VALVE REPLACEMENT /SDA',\n",
    "                                                                         'AORTIC VALVE INSUFFICIENCY\\\\AVR;? BENTAL PROCEDURE /SDA',\n",
    "                                                                         'AORTIC VALVE INSUFFIENCY\\\\AORTIC VALVE REPLACEMENT /SDA',\n",
    "                                                                        'AORTIC VALVE STENOSIS\\\\AORTIC VALVE REPLACEMENT /SDA',\n",
    "                                                                         'AORTIC INSUFFICIENCY\\\\CORONARY ARTERY BYPASS GRAFT WITH AVR /SDA',\n",
    "                                                                        'AORTIC STENOSIS\\\\AVR ? CABG','AORTIC VALVE DISEASE;CHF','ASCENDING AORTIC DISSECTION',\n",
    "                                                                        'ASD\\\\REPAIR ATRIAL SEPTAL DEFECT /SDA',\n",
    "                                                                         'ARTERIOVENOUS FISTULA/SDA',\n",
    "                                                                         'AR\\\\AORTIC VALVE REPLACEMENT/SDA',\n",
    "                                                                     'AS,\\\\  REDO STERNOTOMY AVR; ASCENDING AORTIC ARCH REPLACEMENT',\n",
    "                                                                         'ASCENDING AORTA\\\\BENTAL PROCEDURE /SDA',\n",
    "                                                                        'ASCENDING SINUS VENUS\\\\ REPAIR ANOMALY PULMONARY VEIN; ASCENDING AORTIC VALVE REPLACEMENT/SDA',\n",
    "                                                                         'ATHEROSCLEROSIS OF LEFT LOWER EXTREMITY',\n",
    "                                                                         'ATRIAL FIBRILLATION\\\\ATRIAL FIBRILLATION ABLATION',\n",
    "                                                                         'ATRIAL FIBRILLATION\\\\BILATERAL THORACOSCOPIC MINI MAZE PROCEDURE WITH LEFT ATRIAL APPENDAGE RESECTION -MEDTRONIC ABLATION SYSTEM ',\n",
    "                                                                         'ATRIAL FIBRILLATION\\\\MINI-MAZE PROCEDURE, PULMONARY VEIN ABLATION,  BILATERAL/SDA',\n",
    "                                                                         'ATRIAL FIBRILLATION\\\\THORACOSCOPIC MINI MAZE PROCEDURE /SDA',\n",
    "                                                                         'ATRIAL SEPTAL DEFECT;PATENT FORAMEN OVALE\\\\MINIMALLY INVASIVE PATENT FORAMEN OVALE ',\n",
    "                                                                         'ATRIAL SEPTAL DEFECT\\\\REPAIR ATRIAL SEPTAL DEFECT ',\n",
    "                                                                        'ATRIAL SEPTAL DEFECT\\\\REPAIR ATRIAL SEPTAL DEFECT LIMITED ACCESS MINIMALL INVASIVE/SDA',\n",
    "                                                                         'ATRIAL SEPTIC DEFECT\\\\REPAIR ATRIAL SEPTAL DEFECT; MINIMALLY INVASIVE',\n",
    "                                                                            'BRADYCARDIA',\n",
    "                                                                           'BRADYCARDIA;DIZZINESS',\n",
    "                                                                            'BICUSPID AORTIC VALVE DISRODER\\\\AORTIC VALVE REPLACEMENT ? BENTAL PROCEDURE ',\n",
    "                                                                             'BISCUPID VALVE;DILATED AORTIC ROOT',\n",
    "                                                                            'CAD, MR\\\\CORONARY ARTERY BYPASS GRAFT;MITRAL VALVE REPLACEMENT/SDA',\n",
    "                                                                            'CAD\\\\CORONARY ARTERY BYPASS GRAFT WITH MVR;MAZE',\n",
    "                                                                           'CAD,AORTIC VALVE DISEASE',\n",
    "                                                                           'CARDIOMYOPATHY',\n",
    "                                                                           'CAROTID STENOSIS',\n",
    "                                                                           'CAROTID STENOSIS LEFT',\n",
    "                                                                           'CAROTID STENOSIS\\\\CAROTID ANGIOGRAPHY',\n",
    "                                                                           'CHEST PAIN',\n",
    "                                                                           'CHEST PAIN/CATH',\n",
    "                                                                           'CHEST PAIN;ABNORMAL ECHO;ADNORMAL EKG\\\\CARDIAC CATH',\n",
    "                                                                           'CHEST PAIN;ANGINA PECTORIS\\\\CARDIAC CATH',\n",
    "                                                                           'CHEST PAIN;NON-Q WAVE MI',\n",
    "                                                                           'CHEST PAIN;RULE OUT CORONARY ARTERY DISEASE;ASPIRIN ALLERGY\\\\LEFT HEART CATHETERIZATION',\n",
    "                                                                           'CHEST PAIN;UNSTABLE ANGINA',\n",
    "                                                                           'CHEST PAIN\\\\ASPIRIN DESENSITIZATION;CATH',\n",
    "                                                                           'CHEST PAIN\\\\CARDIAC CATH',\n",
    "                                                                           'CHEST PAIN\\\\CARDIAC CATHETERIZATION',\n",
    "                                                                           'CHEST PAIN\\\\CATH',\n",
    "                                                                            'CAROTID STENOSIS/SDA',\n",
    "                                                                            'CLAUDICATION\\\\BILATERAL ANGIOGRAM WITH RUN-OFFS',\n",
    "                                                                            'COMPLETE HEART BLOCK',\n",
    "                                                                            'CONGESTIVE HEART FAILURE',\n",
    "                                                                            'CONGESTIVE HEART FAILURE/MITRAL REGURGITATION',\n",
    "                                                                            'CONGESTIVE HEART FAILURE;CORONARY ARTERY DISEASE',\n",
    "                                                                            'CONGESTIVE HEART FAILURE;DYSPNEA\\\\CATH',\n",
    "                                                                            'CONGESTIVE HEART FAILURE;TELEMETRY;CORONARY ARTERY DISEASE;DIABETES MELLITUS',\n",
    "                                                                            'CONGESTIVE HEART FAILURE\\\\CATH',\n",
    "                                                                            'CORONARY ARTERY DISEASE',\n",
    "                                                                            'CORONARY ARTERY DISEASE/CATH',\n",
    "                                                                            'CORONARY ARTERY DISEASE;+ETT\\\\CATH',\n",
    "                                                                            'CORONARY ARTERY DISEASE;ANGINA\\\\CATH',\n",
    "                                                                            'CORONARY ARTERY DISEASE;AORTIC STENOSIS',\n",
    "                                                                            'CORONARY ARTERY DISEASE;CHEST PAIN',\n",
    "                                                                            'CORONARY ARTERY DISEASE;DYSPNEA;COPD',\n",
    "                                                                            'CORONARY ARTERY DISEASE;HYPERTENSION\\\\CATH',\n",
    "                                                                            'CORONARY ARTERY DISEASE;PROGRESSIVE CHEST PAIN\\\\CATH',\n",
    "                                                                            'CORONARY ARTERY DISEASE;UNSTABLE ANGINA',\n",
    "                                                                            'CORONARY ARTERY DISEASE\\\\CORONARY ARTERY BYPASS GRAFT',\n",
    "                                                                            'CORONARY ARTERY DISEASE;CARDIACTAMPONADE',\n",
    " 'CORONARY ARTERY DISEASE;CP',\n",
    " 'CORONARY ARTERY DISEASE\\\\CORONARY ARTERY BYPASS GRAFTWITH AVR /SDA',\n",
    " 'DESCENDING THORACIC AORTA\\\\ AORTIC VALVE REPLACEMENT W/ ASCENDING AORTIC GRAFT BYPASS TO THORACIC DESCENDING AORTA/SDA',\n",
    "\n",
    "                                                                            'CONGESTIVE HEART FAILURE; ATRIAL FIBRILLATION; S/P CVA\\\\BIVENTRICULAR ICD IMPLANTATION/SDA',\n",
    " 'CONTRICTIVE PERICARDITIS\\\\PERICARDIAL STRIPPING/SDA',\n",
    " 'CORONARY ARTERY DISEASE; MR\\\\CORONARY ARTERY BYPASS GRAFT;MITRAL VALVE REPLACEMENT/SDA',\n",
    " 'CORONARY ARTERY DISEASE\\\\ CORONARY ARTERY BYPASS GRAFT/SDA',\n",
    " 'CORONARY ARTERY DISEASE\\\\AORTIC VALVE REPLACEMENT /SDA',\n",
    " 'CORONARY ARTERY DISEASE\\\\AORTIC VALVE REPLACEMENT, R.F. MAZE PROCEDURE /SDA',\n",
    " 'CORONARY ARTERY DISEASE\\\\CORONARY ARTERY BYPASS GRAFT ',\n",
    " 'CORONARY ARTERY DISEASE\\\\CORONARY ARTERY BYPASS GRAFT /SDA',\n",
    " 'CORONARY ARTERY DISEASE\\\\CORONARY ARTERY BYPASS GRAFT W/OPEN LUNG BIOPSY/SDA',\n",
    " 'CORONARY ARTERY DISEASE\\\\CORONARY ARTERY BYPASS GRAFT W/POSSIBLE ATRIAL SEPTAL DEFECT CLOSURE /SDA',\n",
    " 'CORONARY ARTERY DISEASE\\\\CORONARY ARTERY BYPASS GRAFT W/VENTRICULAR ASSIST DEVICE BACKUP/SDA',\n",
    " 'CORONARY ARTERY DISEASE\\\\CORONARY ARTERY BYPASS GRAFT WITH AVR ',\n",
    " 'CORONARY ARTERY DISEASE\\\\CORONARY ARTERY BYPASS GRAFT WITH AVR /SDA',\n",
    " 'CORONARY ARTERY DISEASE\\\\CORONARY ARTERY BYPASS GRAFT WITH AVR;  ? MITRAL VALVE REPLACEMENT /SDA',\n",
    " 'CORONARY ARTERY DISEASE\\\\CORONARY ARTERY BYPASS GRAFT WITH AVR;POSSIBLE MITRAL VALVE REPLACEMENT ',\n",
    " 'CORONARY ARTERY DISEASE\\\\CORONARY ARTERY BYPASS GRAFT WITH MVR ',\n",
    " 'CORONARY ARTERY DISEASE\\\\CORONARY ARTERY BYPASS GRAFT WITH MVR /SDA',\n",
    " 'CORONARY ARTERY DISEASE\\\\CORONARY ARTERY BYPASS GRAFT WITH MVR AND TVR/SDA',\n",
    " 'CORONARY ARTERY DISEASE\\\\CORONARY ARTERY BYPASS GRAFT WITH MVR LVAD',\n",
    " 'CORONARY ARTERY DISEASE\\\\CORONARY ARTERY BYPASS GRAFT WITH MVR; ? MAZE',\n",
    " 'CORONARY ARTERY DISEASE\\\\CORONARY ARTERY BYPASS GRAFT WITH MVR; ? OF MAZE PROCEDURE /SDA',\n",
    " 'CORONARY ARTERY DISEASE\\\\CORONARY ARTERY BYPASS GRAFT/SDA',\n",
    " 'CORONARY ARTERY DISEASE\\\\CORONARY ARTERY BYPASS GRAFT; ? AVR AND MVR/SDA',\n",
    " 'CORONARY ARTERY DISEASE\\\\CORONARY ARTERY BYPASS GRAFT; W/MVR/SDA',\n",
    " 'CORONARY ARTERY DISEASE\\\\CORONARY ARTERY BYPASS GRAFT; WITH AVR/SDA',\n",
    " 'CORONARY ARTERY DISEASE\\\\CORONARY ARTERY BYPASS GRAFT; WITH MVR/SDA',\n",
    " 'CORONARY ARTERY DISEASE\\\\HIBRID MINIMALY INVASIVE CORONARY ARTERY BYPASS GRAFT AND CORONARY STENTING /SDA',\n",
    " 'CORONARY ARTERY DISEASE\\\\MITRAL VALVE REPLACEMENT /SDA',\n",
    " 'CORONARY ARTERY DISEASE\\\\RE-DO CORONARY ARTERY BYPASS GRAFT WITH AVR ',\n",
    " 'CORONARY ARTERY DISEASE\\\\RIGHT VENTRICULAR OUTFLOW TRACK/PULMONIC ARTERY RECONSTRUCTION ? CORONARY ARTERY BYPASS GRAFT WITH AVR  ? TRISCUPID VALVE REPLACEMENT ',\n",
    " 'CORONARY ATHEROSCLEROSIS OF NATIVE CORONARY\\\\CORONARY ARTERY BYPASS GRAFT WITH MVR /SDA',\n",
    " 'CORONARY DISEASE\\\\CORONARY ARTERY BYPASS GRAFT /SDA','CVA\\\\ PATENT FORAMEN OVALE',\n",
    " 'DILATED ASCENDING AORTA\\\\AORTIC VALVE REPLACEMENT /SDA',\n",
    " 'DRUG REFRACTORY ATRIAL FIBRILLATION\\\\PULMONARY VEIN ISOLATION  **REMOTE WEST**/SDA', 'CLAUDICATION/SDA',\n",
    "                                                                            'CRITICAL AS , LEFT MAIN',\n",
    "                                                                            'END ST ELEVATED MYOCARDIAL INFARCTION',\n",
    "                                                                            'FOOT NUMBNESS;CLAUDICATION\\\\RIGHT LEG ANGIOGRAM',\n",
    "                                                                            'HEART BLOCK,NON STE MI',\n",
    "                                                                            'HYPOTENSION','ISCHEMIC FOOT',\n",
    "                                                                            'LEFT ANTERIOR DESCENDING ARTERY PERFERATION',\n",
    "                                                                            'LEFT ATRIAL TUMOR',\n",
    "                                                                            'LEFT CELEBRAL STENOSIS/SDA',\n",
    "                                                                            'MALFUCTION ICD','MITRAL REGURGITATION',\n",
    "                                                                            'MITRAL REGURGITATION;CHF',\n",
    "                                                                            'MITRAL VALVE DISEASE',\n",
    "                                                                            'MYOCARDIAL INFARCTION\\\\CATH',\n",
    "                                                                            'NON-ST SEGMENT ELEVATION MYOCARDIAL INFARCTION',\n",
    "                                                                            'NON-ST SEGMENT ELEVATION MYOCARDIAL INFARCTION\\\\CATH',\n",
    "                                                                            'PERF APPENDIX',\n",
    "                                                                            'PERICARDIAL EFFUSION',\n",
    "                                                                            'PERICARDIAL EFFUSION WITH TAMPONADE\\\\PERICARDIOCENTESIS',\n",
    "                                                                            'PERICARDIAL EFFUSION\\\\PERICARDIAL TAP/SDA',\n",
    "                                                                            'PNA/AFIB',\n",
    "                                                                            'POLYMORPHIC VENTRICULAR TACHYCARDIA\\\\CARDIAC CATH',\n",
    "                                                                            'PULSELESS LEFT FOOT',\n",
    "                                                                            'RECURRENT VENTRICULAR TACHYCARDIA;STATUS POST IMPLANTABLE CARDIOVERTER DEFIBRILLATOR FIRING\\\\VENTRICULAR TACHYCARDIA ABLATION',\n",
    "                                                                            'RUPTURED AORTIC PLAQUE',\n",
    "                                                                            'S/P ARREST',\n",
    "                                                                            'S/P CARDIAC ARREST',\n",
    "                                                                            'S/P VFIB ARREST',\n",
    "                                                                            'SDH/SAH',\n",
    "                                                                            'SPONTANEOUS SAH',\n",
    "                                                                            'ST ELEVATED MYOCARDIAL INFARCTION',\n",
    "                                                                            'ST ELEVATED MYOCARDIAL INFARCTION\\\\CARDIAC CATHETERIZATION',\n",
    "                                                                            'ST ELEVATION MI\\\\CATH',\n",
    "                                                                            'ST ELEVATION MYOCARDIAL INFARCTION\\\\CATH',\n",
    "                                                                            'ST SEGMENT MYOCARDIAL INFARCTION\\\\CATH',\n",
    "                                                                            'ST-SEGMENT ELEVATION MYOCARDIAL INFARCTION\\\\CATH',\n",
    "                                                                            'STEMI',\n",
    "                                                                            'STEMI\\\\CARDIAC CATH',\n",
    "                                                                            'STEMYOCARDIAL INFARCTION',\n",
    "                                                                            'STROKE/TIA',\n",
    "                                                                            'SUBARACHNOID HEMATOMA',\n",
    "                                                                            'SUBARACHNOID HEMORRHAGE',\n",
    "                                                                            'SUBARACHNOID HEMORRHAGE;SDH;TELEMETRY',\n",
    "                                                                            'SUBARRACHNOID HEMMORAGE',\n",
    "                                                                            'SUBDURAL',\n",
    "                                                                            'SUBDURAL HEMATOMA',\n",
    "                                                                            'SUBDURAL HEMATOMA;TELEMETRY',\n",
    "                                                                            'SUBDURAL HEMORRHAGE',\n",
    "                                                                            'SUBURAL HEMATOMA;TELEMETRY',\n",
    "                                                                            'SYMPTOMATIC BRADYCARDIA',\n",
    "                                                                            'SYNCOPE;TELEMETRY',\n",
    "                                                                            'THORACIC AORTIC ANEURYSM',\n",
    "                                                                            'TRANSIENT ISCHEMIC ATTACK',\n",
    "                                                                            'UNSTABLE ANGINA',\n",
    "                                                                            'VENTRICULAR SEPTAL D EFFECT',\n",
    "                                                                            'MITRAL REGURGITATION & RENAL INSUFFICIENY\\\\MITRAL VALVE REPLACEMENT  W/ ? MAZE',\n",
    "                                                                            'LARGE LEFT ATRIAL MASS\\\\ ATRIAL MYXOMA REMOVAL/SDA',\n",
    " 'LEFT MAIN CORONARY ARTERY DISEASE',\n",
    " 'MITRAL REGURGITATION\\\\MITRAL VALVE REPLACEMENT /SDA',\n",
    " 'MITRAL VALVE REGURGITATION\\\\MITRAL VALVE REPLACEMENT,HEART PORT MINIMALLY INVASIVE /SDA',\n",
    " 'MR\\\\MITRAL VALVE REPLACEMENT MINIMALLY INVASIVE APPROACH/SDA',\n",
    "'STROKE-TRANSIENT ISCHEMIC ATTACK',\n",
    " 'STROKE;TIA',\n",
    " 'SUBDURAL SUBARACHNOID',\n",
    " 'THORACIC AROTIC ANEURYSM',\n",
    "'VENTRICULAR TACHYCARDIA;TELEMETRY',\n",
    " 'MITRAL REGURGITATION\\\\AORTIC AND MITRAL VALVE REPLACEMENT /SDA',\n",
    " 'MITRAL REGURGITATION\\\\CORONARY ARTERY BYPASS GRAFT WITH MVR ',\n",
    " 'MITRAL REGURGITATION\\\\MINIMALLY INVASIVE MITRAL VALVE REPAIR VS REPLACEMENT/SDA',\n",
    " 'MITRAL REGURGITATION\\\\MINIMALLY INVASIVE MITRAL VALVE REPLACEMENT /SDA',\n",
    " 'MITRAL REGURGITATION\\\\MITRAL VALVE REPLACEMENT ',\n",
    " 'MITRAL REGURGITATION\\\\MITRAL VALVE REPLACEMENT MINIMALLY INVASIVE ',\n",
    " 'MITRAL REGURGITATION\\\\MITRAL VALVE REPLACEMENT, HEART PORT MINIMALLY INVASIVE VS STERNOTOMY/SDA',\n",
    " 'MITRAL REGURGITATION\\\\MITRAL VALVE REPLACEMENT,HEART PORT MINIMALLY INVASIVE /SDA',\n",
    " 'MITRAL REGURGITATION\\\\MITRAL VALVE REPLACEMENT,HEART PORT MINIMALLY INVASIVE w/ MAZE',\n",
    " 'MITRAL REGURGITATION\\\\MITRAL VALVE REPLACEMENT/CONCOMITANT MAZE/SDA',\n",
    " 'MITRAL REGURGITATION\\\\MITRAL VALVE REPLACEMENT; HEART PORT MINIMALLY INVASIVE/SDA',\n",
    " 'MITRAL REGURGITATION\\\\MITRAL VALVE REPLACEMENT; MAZE; LEFT ATRIAL APPENDAGE/SDA',\n",
    " 'MITRAL REGURGITATION\\\\MITRAL VALVE REPLACEMENT; W/RIGHT THORACTOMY MAZE',\n",
    " 'MITRAL VALVE DISEASE\\\\MITRAL VALVE REPLACEMENT,HEART PORT MINIMALLY INVASIVE; ? PATENT FORAMEN OVALE CLOSURE /SDA',\n",
    " 'MITRAL VALVE DISORDER\\\\AORTIC AND MITRAL VALVE REPLACEMENT;   THORACOSCOPIC MAZE PROCEDURE;  BRONCHOSCOPY FLEXIBLE DIAGNOSTIC /SDA',\n",
    " 'MITRAL VALVE DISORDER\\\\MITRAL VALVE REPLACEMENT /SDA',\n",
    " 'MITRAL VALVE INSUFFICENCY\\\\MITRAL VALVE REPLACEMENT /SDA',\n",
    " 'MITRAL VALVE INSUFFICIENT\\\\AORTIC VALVE REPLACEMENT /SDA',\n",
    " 'MITRAL VALVE PROLAPSE\\\\ MINIMALLY INVASIVE MVR ? OPEN MVR/SDA',\n",
    " 'MITRAL VALVE REGURGITATION\\\\REPAIR MITRAL VALVE /SDA',\n",
    "'MR\\\\MITRAL VALVE REPLACEMENT /SDA',\n",
    " 'MR\\\\MITRAL VALVE REPLACEMENT,HEART PORT MINIMALLY INVASIVE /SDA',\n",
    " 'MR\\\\MITRAL VALVE REPLACEMENT; ? CORONARY ARTERY BYPASS GRAFT ',\n",
    " 'MTIRAL REGURGITATION\\\\MINIMALLY INVASIVE MITRAL VALVE REPAIR/SDA',\n",
    " 'MVP\\\\MITRAL VALVE REPLACEMENT; HEART PORT MINIMALLY INVASIVE/SDA',\n",
    " 'MVR\\\\MITRAL VALVE REPLACEMENT /SDA',\n",
    "'PAROXYSMAL ATRIAL AFRIBILLATION\\\\MITRAL VALVE REPLACEMENT (FULL MAZE) /SDA',\n",
    "'PATENT FORAMEN OVALE\\\\PATENT FORAMEN OVALE CLOSURE',\n",
    " 'PATENT FORAMEN OVALE\\\\PATENT FORAMEN OVALE MINIMALLY INVASIVE ',\n",
    " 'PFO\\\\PATENT FORAMEN OVALE CLOSURE ',\n",
    " 'PFO\\\\PATENT FORAMEN OVALE;MINIMALLY INVASIVE',\n",
    "'PULMONARY VEIN INJURY\\\\THORACOSCOPIC MAZE PROCEDURE LEFT;MINI MAZE;BILATERAL MINI THORACOTOMY;PULMONARY VEIN ISOLATION;RESECTION OF LEFT ATRIAL APPENDAGE/SDA',\n",
    " 'REGURGITAION\\\\MITRAL VALVE REPLACEMENT/SDA',\n",
    "'RHEUMATIC HEART DISEASE\\\\MITRAL VALVE REPLACEMENT REDO  TRICUSPID VALVE REPLACEMENT /SDA',\n",
    " 'RIGHT CHOLESTEROL CYST/SDA',\n",
    "'S/P CABG\\\\STERNAL PLATING /SDA',\n",
    "'SEPTAL DEFECT\\\\PATENT FORAMEN OVALE MINIMALLY INVASIVE /SDA',\n",
    " 'SEPTAL DEFECT\\\\REPAIR ATRIAL SEPTAL DEFECT LIMITED ACCESS /SDA',\n",
    " 'SEVERE AS\\\\AORTIC VALVE REPLACEMENT/SDA',\n",
    " 'SHORTNESS OF BREADTH; HYPERTENSION; AFIBRILLATION\\\\MITRAL VALVE REPLACEMENT REDO /SDA',\n",
    "'THORACIC ANEURYSM',\n",
    " 'THORACIC ANEURYSM WITHOUT RUPTURE\\\\AORTIC VALVE REPLACEMENT /SDA',\n",
    " 'THORACIC ANEURYSM/SDA',\n",
    " 'THORACIC AORTIC ANEURYSM\\\\BENTAL PROCEDURE /SDA',\n",
    " 'VENTRICULAR TACHYCARDIA\\\\VENTRICULAR TACHYCARDIA ABLATION  **REMOTE WEST**'],'CARDIOVASCULAR')\n",
    "\n",
    "raw['AdmitDiagnosis'] = raw['AdmitDiagnosis'].replace(['ALTERED MENTAL STATUS',\n",
    "                                                                           'ALTERED MENTAL STATUS;TELEMETRY',\n",
    "                                                                            'ACOUSTIC NEUROMA LEFT EAR/SDA',\n",
    "                                                                            'ACOUSTIC NEUROMA, LEFT EAR/SDA',\n",
    "                                                                            'ANEURYSM/SDA',\n",
    "                                                                            'ANTERIOR COMMUNICATING ANEURYSM/SDA',\n",
    "                                                                           'ASCENDING THORASIC ANEURYSM',\n",
    "                                                                           'BRAIN MASS',\n",
    "                                                                           'BRAIN TUMOR',\n",
    "                                                                            'EPIDURAL BLEED',\n",
    "                                                                            'HYDROCEPHALUS','ICH',\n",
    "                                                                            'INTRACEREBRAL HEMORRHAGE',\n",
    "                                                                            'INTRACRANIAL BLEED',\n",
    "                                                                            'INTRACRANIAL HEMORRHAGE',\n",
    "                                                                            'INTRACRANIAL HEMORRHAGE;TELEMETRY',\n",
    "                                                                            'INTRACRANIAL MASS',\n",
    "                                                                            'INTRAPARENCHYMAL BLEED;TELEMETRY',\n",
    "                                                                            'INTRAPARENCHYMAL HEMORRHAGE;TELEMETRY',\n",
    "                                                                            'SEIZURE',\n",
    "                                                                            'SEIZURE-HYDROCEPHALUS',\n",
    "                                                                            'SEIZURE;SUBDURAL HEMORRHAGE',\n",
    "                                                                            'SPIANAL METASTASES',\n",
    "                                                                            'TRAUMA-HEAD INJURY',\n",
    "                                                                            'ENCEPHALOCLE/SDA','EPILEPSY/SDA''MYESTHENIA GRAVIS/SDA','LUMBAR STENOSIS/SDA','SUBDURAL HEMATOMA/SDA',\n",
    "                                                                            'TRAUMATIC SUBARACHNOID HEMORRHAGE',\n",
    "                                                                             'CEREBRAL ANEURYSM/SDA','EPILEPSY/SDA','MYESTHENIA GRAVIS/SDA'],'NEUROLOGICAL')\n",
    "\n",
    "\n",
    "raw['AdmitDiagnosis'] = raw['AdmitDiagnosis'].replace(['AIRWAY OBSTRUCTION',\n",
    "                                                                                      'HEMOTHORAX',\n",
    "                                                                                      'HYPOXIA',\n",
    "                                                                                      'MEDIASTINAL AIR',\n",
    "                                                                                      'PNEUMONIA',\n",
    "                                                                                      'PULMONARY EDEMA',\n",
    "                                                                                      'PULMONARY EMBOLIS',\n",
    "                                                                                      'RUPTURED DIAPHRAM',\n",
    "                                                                                      'TRACHEOBRONCHEAL MALACIA',\n",
    "                                                                                       'PLEURAL EFFUSION',\n",
    "                                                                                       'LEFT PLEURAL EFFUSION/SDA',\n",
    "                                                                                       'LEFT PLEURAL EFFUSION/SDA',\n",
    "                                                                                       'LUNG CA LEFT/SDA','LUNG NODULE/SDA',\n",
    "                                                                                       'LUNG NODULE; EPITHELIUM/SDA','RIGHT LOWER LOBE NODULE/SDA',\n",
    "                                                                                       'RIGHT UPPER LOBE NODULE/SDA'],'RESPIRATORY')\n",
    "\n",
    "\n",
    "raw['AdmitDiagnosis'] = raw['AdmitDiagnosis'].replace(['BLUNT TRAUMA',\n",
    "                                                                           'BOWEL PERFORATION',\n",
    "                                                                            'CEREBRAL EDEMA',\n",
    "                                                                           'CEREBROVASCULAR ACCIDENT',\n",
    "                                                                           'CHEST STAB WOUNDS',\n",
    "                                                                            'GUN SHOT WOUND',\n",
    "                                                                            'GUN SHOT WOUND TO HEAD',\n",
    "                                                                            'HEAD BLEED',\n",
    "                                                                            'HEAD INJURY',\n",
    "                                                                            'HEAD MAS',\n",
    "                                                                            'HEAD MASS',\n",
    "                                                                            'HEAD TRAUM',\n",
    "                                                                            'HEAD TRAUMA;ETOH',\n",
    "                                                                            'MOTOR VEHICLE ACCIDENT WITH UNSPECIFIED INJURIES',\n",
    "                                                                            'MOTOR VEHICLE ACCIDENT\\\\INJURIES',\n",
    "                                                                            'MULTIPLE STAB WOUNDS',\n",
    "                                                                             'FALL;RIB FX;UTI',\n",
    "                                                                            'LIVER LACERATION;S/P MOTOR VEHICLE ACCIDEMT',\n",
    "                                                                            'MULTIPLE TRAUMA',\n",
    "                                                                            'NECK HEMATOMA',\n",
    "                                                                            'ETOH INTOXICATION',\n",
    "                                                                            'ETOH INTOXICATION;INTUBATED',\n",
    "                                                                            'ETOH WITHDRAWAL',\n",
    "                                                                            'POLYSUBSTANCE OVERDOSE',\n",
    "                                                                            'TONSILLECTOMY BLEED',\n",
    "                                                                            'FAILED GRAFT/SDA',\n",
    "                                                                            'S/P FALL',\n",
    "                                                                            'S/P FALL; SPINE FX',\n",
    "                                                                            'S/P FALL;FACIAL FRACTURE',\n",
    "                                                                            'S/P GUN SHOT WOUND',\n",
    "                                                                            'S/P MOTOR VEHICLE ACCIDEMT',\n",
    "                                                                            'S/P MOTOR VEHICLE ACCIDENT',\n",
    "                                                                            'S/P PEDESTRIAN STRUCK:INTRACRANIAL HEMORRHAGE',\n",
    "                                                                            'S/P STAB WOUND',\n",
    "                                                                            'S/P STAB WOUNDS',\n",
    "                                                                            'STAB',\n",
    "                                                                            'STAB WOUND',\n",
    "                                                                            'STAB WOUND TO CHEST',\n",
    "                                                                            'STAB WOUND TO NECK',\n",
    "                                                                            'STAB WOUND TO THROAT',\n",
    "                                                                            'STATUS POST MOTOR VEHICLE ACCIDENT WITH INJURIES', 'GENERAL TRAUMA'],'GENERAL_TRAUMA')\n",
    "\n",
    "raw['AdmitDiagnosis'] = raw['AdmitDiagnosis'].replace(['ADENOCARCINOMA STOMACH/SDA',\n",
    "                                                                                        'BENIGN NEOPLASM RIB,STERNUM,& CLAVICLE/SDA',\n",
    "                                                                                       'BLADDER CANCER/SDA',\n",
    "                                                                                       'BRAIN TUMOR MALIGNANT/SDA',\n",
    "                                                                                       'BRAIN TUMOR/SDA',\n",
    "                                                                                       'BREAST CANCER/SDA',\n",
    "                                                                                       'CHOLANGIOCARCINOMA/SDA',\n",
    "                                                                                       'ESOPHAGEAL CANCER/SDA','ESOPHAGEL CANCER/SDA',\n",
    "                                                                                       'ESOPHOGEAL CANCER/SDA','HEPATOCELLULAR CARCINOMA/SDA',\n",
    "                                                                                       'MENINGIOMA/SDA','METASTATIC COLON CA TO LIVER/SDA','METASTATIC LESION ON SPINE/SDA',\n",
    "                                                                                       'METASTATIC PANCREATIC CA/SDA','OBSTRUCTING RECTAL CANCER','PROSTATE CA/SDA',\n",
    "                                                                                       'PROSTATE CANCER/SDA','RENAL CA/SDA','RIGHT COLON CANCER/SDA','RIGHT PERIATAL TUMOR/SDA',\n",
    "                                                                                       'SARCOMA SCALP/SDA'], 'ONCOLOGY')\n",
    "\n",
    "raw['AdmitDiagnosis'] = raw['AdmitDiagnosis'].replace(['CELLULITIS',\n",
    "                                                                                     'INFECTED RIGHT FOOT',\n",
    "                                                                                     'SEPSIS','GANGENE RIGHT LEG',\n",
    "                                                                                    'SEPSIS/CELLULITIS', 'WOUND INFECTION'],'INFECTIONS')\n",
    "\n",
    "\n",
    "raw['AdmitDiagnosis'] = raw['AdmitDiagnosis'].replace(['BLADDER RUPTURE',\n",
    "                                                                                      'BLADDER PERFORATION',\n",
    "                                                                                      'END STAGE LIVER DISEASE',\n",
    "                                                                                      'FEBRILE;HYPOTENSIVE',\n",
    "                                                                                      'FEVER',\n",
    "                                                                                      'HEADACHE',\n",
    "                                                                                      'OVERDOSE;TELEMETRY',\n",
    "                                                                                      'PELVIC FRACTURE',\n",
    "                                                                                      'PRESYNCOPE',\n",
    "                                                                                        'MORBID OBESITY/SDA',\n",
    "                                                                                       'RIGHT THIGH EXTENSIVE HETEROTOPIC OSSIFICATION/SDA',\n",
    "                                                                                       'SCOLIOSIS/SDA',\n",
    "                                                                                       'RETROPERITONEAL MASS/SDA','WEAKNESS'],'OTHER_DIAGNOSIS')\n",
    "\n",
    "\n",
    "\n"
   ]
  },
  {
   "cell_type": "markdown",
   "metadata": {},
   "source": [
    "## Graphs:"
   ]
  },
  {
   "cell_type": "code",
   "execution_count": 125,
   "metadata": {},
   "outputs": [
    {
     "data": {
      "image/png": "[encoded data removed]",
      "text/plain": [
       "<Figure size 432x288 with 1 Axes>"
      ]
     },
     "metadata": {
      "needs_background": "light"
     },
     "output_type": "display_data"
    }
   ],
   "source": [
    "from scipy import stats\n",
    "import matplotlib.pylab as plt\n",
    "\n",
    "%matplotlib inline\n",
    "\n",
    "(raw_completecase.gender).value_counts().plot(kind='bar')\n",
    "for index, value in enumerate(raw_completecase.gender.value_counts()):\n",
    "    plt.text(index, value+10, str(value))\n",
    "    plt.title(\"Gender\")"
   ]
  },
  {
   "cell_type": "markdown",
   "metadata": {},
   "source": [
    "We have 6000 more males than females"
   ]
  },
  {
   "cell_type": "code",
   "execution_count": 128,
   "metadata": {},
   "outputs": [
    {
     "data": {
      "text/plain": [
       "Text(0.5, 1.0, 'Histogram of Patient Age when Admitted')"
      ]
     },
     "execution_count": 128,
     "metadata": {},
     "output_type": "execute_result"
    },
    {
     "data": {
      "image/png": "[encoded data removed]",
      "text/plain": [
       "<Figure size 432x288 with 1 Axes>"
      ]
     },
     "metadata": {
      "needs_background": "light"
     },
     "output_type": "display_data"
    }
   ],
   "source": [
    "plt.hist(raw_completecase.age)\n",
    "plt.title(\"Histogram of Patient Age when Admitted\")"
   ]
  },
  {
   "cell_type": "markdown",
   "metadata": {},
   "source": [
    "Age is left skewed. Will need to try to transform using square root, cube root, or log."
   ]
  },
  {
   "cell_type": "markdown",
   "metadata": {},
   "source": [
    "['AdmitDiagnosis',\n",
    " 'AdmitProcedure',\n",
    " 'ExpiredHospital',\n",
    " 'LOSdays',\n",
    " 'LOSgroupNum',\n",
    " 'NumCPTevents',\n",
    " 'NumCallouts',\n",
    " 'NumChartEvents',\n",
    " 'NumDiagnosis',\n",
    " 'NumInput',\n",
    " 'NumLabs',\n",
    " 'NumMicroLabs',\n",
    " 'NumNotes',\n",
    " 'NumOutput',\n",
    " 'NumProcEvents',\n",
    " 'NumProcs',\n",
    " 'NumRx',\n",
    " 'NumTransfers',\n",
    " 'TotalNumInteract',\n",
    " 'admit_location',\n",
    " 'admit_type',\n",
    " 'age',\n",
    " 'ethnicity',\n",
    " 'gender',\n",
    " 'hadm_id',\n",
    " 'insurance',\n",
    " 'marital_status',\n",
    " 'religion']"
   ]
  },
  {
   "cell_type": "code",
   "execution_count": 129,
   "metadata": {},
   "outputs": [
    {
     "data": {
      "image/png": "[encoded data removed]",
      "text/plain": [
       "<Figure size 432x288 with 1 Axes>"
      ]
     },
     "metadata": {
      "needs_background": "light"
     },
     "output_type": "display_data"
    }
   ],
   "source": [
    "(raw_completecase.ExpiredHospital).value_counts().plot(kind='bar')\n",
    "for index, value in enumerate(raw_completecase.ExpiredHospital.value_counts()):\n",
    "    plt.text(index, value+10, str(value))\n",
    "    plt.title(\"Died at Hospital?\")"
   ]
  },
  {
   "cell_type": "markdown",
   "metadata": {},
   "source": [
    "We should probably get rid of those who died since we want Length of Stay, which will be quite different for those who are going to die?"
   ]
  },
  {
   "cell_type": "code",
   "execution_count": 151,
   "metadata": {},
   "outputs": [
    {
     "data": {
      "text/plain": [
       "Text(0.5, 1.0, 'Total Number of Procedures')"
      ]
     },
     "execution_count": 151,
     "metadata": {},
     "output_type": "execute_result"
    },
    {
     "data": {
      "image/png": "[encoded data removed]",
      "text/plain": [
       "<Figure size 432x288 with 1 Axes>"
      ]
     },
     "metadata": {
      "needs_background": "light"
     },
     "output_type": "display_data"
    }
   ],
   "source": [
    "plt.hist(raw_completecase.NumProcs, bins = 1000)\n",
    "plt.title(\"Total Number of Procedures\")"
   ]
  },
  {
   "cell_type": "code",
   "execution_count": 152,
   "metadata": {},
   "outputs": [
    {
     "data": {
      "text/plain": [
       "Text(0.5, 1.0, 'Total Number of Rx')"
      ]
     },
     "execution_count": 152,
     "metadata": {},
     "output_type": "execute_result"
    },
    {
     "data": {
      "image/png": "[encoded data removed]",
      "text/plain": [
       "<Figure size 432x288 with 1 Axes>"
      ]
     },
     "metadata": {
      "needs_background": "light"
     },
     "output_type": "display_data"
    }
   ],
   "source": [
    "plt.hist(raw_completecase.NumRx, bins = 500)\n",
    "plt.title(\"Total Number of Rx\")"
   ]
  },
  {
   "cell_type": "code",
   "execution_count": 153,
   "metadata": {
    "scrolled": false
   },
   "outputs": [
    {
     "data": {
      "text/plain": [
       "Text(0.5, 1.0, 'Total Number of Transfers')"
      ]
     },
     "execution_count": 153,
     "metadata": {},
     "output_type": "execute_result"
    },
    {
     "data": {
      "image/png": "[encoded data removed]",
      "text/plain": [
       "<Figure size 432x288 with 1 Axes>"
      ]
     },
     "metadata": {
      "needs_background": "light"
     },
     "output_type": "display_data"
    }
   ],
   "source": [
    "plt.hist(raw_completecase.NumTransfers, bins=500)\n",
    "plt.title(\"Total Number of Transfers\")"
   ]
  },
  {
   "cell_type": "code",
   "execution_count": 154,
   "metadata": {},
   "outputs": [
    {
     "data": {
      "text/plain": [
       "125.0"
      ]
     },
     "execution_count": 154,
     "metadata": {},
     "output_type": "execute_result"
    }
   ],
   "source": [
    "max(raw_completecase.NumTransfers)"
   ]
  },
  {
   "cell_type": "markdown",
   "metadata": {},
   "source": [
    "Generally speaking a lot of these continuous predictors may have outliers."
   ]
  },
  {
   "cell_type": "code",
   "execution_count": 145,
   "metadata": {},
   "outputs": [
    {
     "data": {
      "text/plain": [
       "count    48588.000000\n",
       "mean         0.943240\n",
       "std          2.088998\n",
       "min          0.000000\n",
       "25%          0.380000\n",
       "50%          0.630000\n",
       "75%          1.000000\n",
       "max        125.000000\n",
       "Name: NumTransfers, dtype: float64"
      ]
     },
     "execution_count": 145,
     "metadata": {},
     "output_type": "execute_result"
    }
   ],
   "source": [
    "raw_completecase.NumTransfers.describe()"
   ]
  },
  {
   "cell_type": "code",
   "execution_count": 155,
   "metadata": {
    "scrolled": false
   },
   "outputs": [
    {
     "data": {
      "text/plain": [
       "Text(0.5, 1.0, 'Total Number of Interactions')"
      ]
     },
     "execution_count": 155,
     "metadata": {},
     "output_type": "execute_result"
    },
    {
     "data": {
      "image/png": "[encoded data removed]",
      "text/plain": [
       "<Figure size 432x288 with 1 Axes>"
      ]
     },
     "metadata": {
      "needs_background": "light"
     },
     "output_type": "display_data"
    }
   ],
   "source": [
    "plt.hist(raw_completecase.TotalNumInteract, bins=500)\n",
    "plt.title(\"Total Number of Interactions\")"
   ]
  },
  {
   "cell_type": "code",
   "execution_count": 156,
   "metadata": {},
   "outputs": [
    {
     "data": {
      "text/plain": [
       "68600.0"
      ]
     },
     "execution_count": 156,
     "metadata": {},
     "output_type": "execute_result"
    }
   ],
   "source": [
    "max(raw_completecase.TotalNumInteract)"
   ]
  },
  {
   "cell_type": "code",
   "execution_count": 142,
   "metadata": {},
   "outputs": [
    {
     "data": {
      "text/plain": [
       "0.0"
      ]
     },
     "execution_count": 142,
     "metadata": {},
     "output_type": "execute_result"
    }
   ],
   "source": [
    "min(raw_completecase.TotalNumInteract)"
   ]
  },
  {
   "cell_type": "code",
   "execution_count": 134,
   "metadata": {},
   "outputs": [
    {
     "data": {
      "image/png": "[encoded data removed]",
      "text/plain": [
       "<Figure size 432x288 with 1 Axes>"
      ]
     },
     "metadata": {
      "needs_background": "light"
     },
     "output_type": "display_data"
    }
   ],
   "source": [
    "(raw_completecase.admit_location).value_counts().plot(kind='bar')\n",
    "for index, value in enumerate(raw_completecase.admit_location.value_counts()):\n",
    "    plt.text(index, value+10, str(value))\n",
    "    plt.title(\"Admit Location\")"
   ]
  },
  {
   "cell_type": "markdown",
   "metadata": {},
   "source": [
    "Maybe we need to perform ANOVA to find out which categories can be collapsed."
   ]
  },
  {
   "cell_type": "code",
   "execution_count": 135,
   "metadata": {},
   "outputs": [
    {
     "data": {
      "image/png": "[encoded data removed]",
      "text/plain": [
       "<Figure size 432x288 with 1 Axes>"
      ]
     },
     "metadata": {
      "needs_background": "light"
     },
     "output_type": "display_data"
    }
   ],
   "source": [
    "(raw_completecase.admit_type).value_counts().plot(kind='bar')\n",
    "for index, value in enumerate(raw_completecase.admit_type.value_counts()):\n",
    "    plt.text(index, value+10, str(value))\n",
    "    plt.title(\"Admit Type\")"
   ]
  },
  {
   "cell_type": "markdown",
   "metadata": {},
   "source": [
    "Imbalance heavily favoring emergency."
   ]
  },
  {
   "cell_type": "code",
   "execution_count": 133,
   "metadata": {
    "scrolled": true
   },
   "outputs": [
    {
     "data": {
      "image/png": "[encoded data removed]",
      "text/plain": [
       "<Figure size 432x288 with 1 Axes>"
      ]
     },
     "metadata": {
      "needs_background": "light"
     },
     "output_type": "display_data"
    }
   ],
   "source": [
    "(raw_completecase.ethnicity).value_counts().plot(kind='bar')\n",
    "for index, value in enumerate(raw_completecase.ethnicity.value_counts()):\n",
    "    plt.text(index, value+10, str(value))\n",
    "    plt.title(\"Ethnicity\")"
   ]
  },
  {
   "cell_type": "markdown",
   "metadata": {},
   "source": [
    "Definitely consolidate."
   ]
  },
  {
   "cell_type": "code",
   "execution_count": 132,
   "metadata": {
    "scrolled": true
   },
   "outputs": [
    {
     "data": {
      "image/png": "[encoded data removed]",
      "text/plain": [
       "<Figure size 432x288 with 1 Axes>"
      ]
     },
     "metadata": {
      "needs_background": "light"
     },
     "output_type": "display_data"
    }
   ],
   "source": [
    "(raw_completecase.insurance).value_counts().plot(kind='bar')\n",
    "for index, value in enumerate(raw_completecase.insurance.value_counts()):\n",
    "    plt.text(index, value+10, str(value))\n",
    "    plt.title(\"Insurance\")"
   ]
  },
  {
   "cell_type": "markdown",
   "metadata": {},
   "source": [
    "Insurance is worth consolidating."
   ]
  },
  {
   "cell_type": "code",
   "execution_count": 131,
   "metadata": {},
   "outputs": [
    {
     "data": {
      "image/png": "[encoded data removed]",
      "text/plain": [
       "<Figure size 432x288 with 1 Axes>"
      ]
     },
     "metadata": {
      "needs_background": "light"
     },
     "output_type": "display_data"
    }
   ],
   "source": [
    "(raw_completecase.marital_status).value_counts().plot(kind='bar')\n",
    "for index, value in enumerate(raw_completecase.marital_status.value_counts()):\n",
    "    plt.text(index, value+10, str(value))\n",
    "    plt.title(\"Marital Status\")"
   ]
  },
  {
   "cell_type": "markdown",
   "metadata": {},
   "source": [
    "Also worth consolidating."
   ]
  },
  {
   "cell_type": "code",
   "execution_count": 130,
   "metadata": {},
   "outputs": [
    {
     "data": {
      "image/png": "[encoded data removed]",
      "text/plain": [
       "<Figure size 432x288 with 1 Axes>"
      ]
     },
     "metadata": {
      "needs_background": "light"
     },
     "output_type": "display_data"
    }
   ],
   "source": [
    "(raw_completecase.religion).value_counts().plot(kind='bar')\n",
    "for index, value in enumerate(raw_completecase.religion.value_counts()):\n",
    "    plt.text(index, value+10, str(value))\n",
    "    plt.title(\"Religion\")"
   ]
  },
  {
   "cell_type": "markdown",
   "metadata": {},
   "source": [
    "Definitely worth consolidating these religions."
   ]
  },
  {
   "cell_type": "markdown",
   "metadata": {},
   "source": [
    "## Simple apriori dataset:"
   ]
  },
  {
   "cell_type": "code",
   "execution_count": 157,
   "metadata": {},
   "outputs": [
    {
     "data": {
      "text/plain": [
       "Index(['hadm_id', 'gender', 'age', 'LOSdays', 'admit_type', 'admit_location',\n",
       "       'AdmitDiagnosis', 'insurance', 'religion', 'marital_status',\n",
       "       'ethnicity', 'NumCallouts', 'NumDiagnosis', 'NumProcs',\n",
       "       'AdmitProcedure', 'NumCPTevents', 'NumInput', 'NumLabs', 'NumMicroLabs',\n",
       "       'NumNotes', 'NumOutput', 'NumRx', 'NumProcEvents', 'NumTransfers',\n",
       "       'NumChartEvents', 'ExpiredHospital', 'TotalNumInteract', 'LOSgroupNum'],\n",
       "      dtype='object')"
      ]
     },
     "execution_count": 157,
     "metadata": {},
     "output_type": "execute_result"
    }
   ],
   "source": [
    "raw_completecase.columns"
   ]
  },
  {
   "cell_type": "code",
   "execution_count": null,
   "metadata": {},
   "outputs": [],
   "source": [
    "to_dummify_simple = ['admit_type', 'admit_location', 'insurance',]\n",
    "\n",
    "simple_data = raw_completecase[['gender', 'age', 'LOSdays','LOSgroupNum']]"
   ]
  },
  {
   "cell_type": "markdown",
   "metadata": {},
   "source": [
    "# Random Forest:"
   ]
  },
  {
   "cell_type": "code",
   "execution_count": null,
   "metadata": {},
   "outputs": [],
   "source": []
  }
 ],
 "metadata": {
  "kernelspec": {
   "display_name": "Python 3",
   "language": "python",
   "name": "python3"
  },
  "language_info": {
   "codemirror_mode": {
    "name": "ipython",
    "version": 3
   },
   "file_extension": ".py",
   "mimetype": "text/x-python",
   "name": "python",
   "nbconvert_exporter": "python",
   "pygments_lexer": "ipython3",
   "version": "3.6.8"
  }
 },
 "nbformat": 4,
 "nbformat_minor": 2
}
