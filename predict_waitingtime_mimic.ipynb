{
 "cells": [
  {
   "cell_type": "markdown",
   "metadata": {},
   "source": [
    "# Master's Thesis Analysis"
   ]
  },
  {
   "cell_type": "markdown",
   "metadata": {},
   "source": [
    "Predicting discharge times of patients??\n",
    "\n",
    "#### Author: Derek Lee"
   ]
  },
  {
   "cell_type": "markdown",
   "metadata": {},
   "source": [
    "## Load Requisite Libraries and authenticate to local Postgres database"
   ]
  },
  {
   "cell_type": "code",
   "execution_count": 1,
   "metadata": {},
   "outputs": [],
   "source": [
    "import pandas as pd\n",
    "import psycopg2\n",
    "import sqlalchemy\n",
    "import time\n",
    "import psutil\n",
    "import numpy as np\n",
    "import multiprocessing as mp"
   ]
  },
  {
   "cell_type": "code",
   "execution_count": 2,
   "metadata": {},
   "outputs": [
    {
     "name": "stdout",
     "output_type": "stream",
     "text": [
      "This kernel has  8 cores and you can find the information regarding the memory usage: svmem(total=17179869184, available=4673126400, percent=72.8, used=9340235776, free=178774016, active=4499181568, inactive=4387643392, wired=4841054208)\n"
     ]
    }
   ],
   "source": [
    "# Check the number of cores and memory usage\n",
    "num_cores = mp.cpu_count()\n",
    "print(\"This kernel has \",num_cores,\"cores and you can find the information regarding the memory usage:\",psutil.virtual_memory())"
   ]
  },
  {
   "cell_type": "code",
   "execution_count": 3,
   "metadata": {},
   "outputs": [],
   "source": [
    "%reload_ext sql\n",
    "from sqlalchemy import create_engine"
   ]
  },
  {
   "cell_type": "code",
   "execution_count": 4,
   "metadata": {},
   "outputs": [],
   "source": [
    "import json\n",
    "json_file = open(\"secrets.json\")\n",
    "variables = json.load(json_file)\n",
    "json_file.close()\n",
    "\n",
    "import os\n",
    "os.environ['POSTGRES_USERNAME'] = variables['POSTGRES_USERNAME']\n",
    "os.environ['POSTGRES_PASSWORD'] = variables['POSTGRES_PASSWORD']\n",
    "os.environ['POSTGRES_ADDRESS'] = variables['POSTGRES_ADDRESS']\n",
    "os.environ['POSTGRES_PORT'] = variables['POSTGRES_PORT']\n",
    "os.environ['POSTGRES_DBNAME'] = variables['POSTGRES_DBNAME']"
   ]
  },
  {
   "cell_type": "code",
   "execution_count": 5,
   "metadata": {},
   "outputs": [],
   "source": [
    "# A long string that contains the necessary Postgres login information \n",
    "postgres_str = ('postgresql://{username}:{password}@{ipaddress}:{port}/{dbname}'\n",
    "                .format(username=os.getenv('POSTGRES_USERNAME'),\n",
    "                        password=os.getenv('POSTGRES_PASSWORD'),\n",
    "                        ipaddress=os.getenv('POSTGRES_ADDRESS'),\n",
    "                        port=os.getenv('POSTGRES_PORT'),\n",
    "                        dbname=os.getenv('POSTGRES_DBNAME'))) \n",
    "# Create the connection \n",
    "engine = create_engine(postgres_str)"
   ]
  },
  {
   "cell_type": "markdown",
   "metadata": {},
   "source": [
    "-------------------------------------"
   ]
  },
  {
   "cell_type": "markdown",
   "metadata": {},
   "source": [
    "### Note: Large Dataset:\n",
    "Running below will take about 5 minutes because it's a dataset with approx 20 million rows\n",
    "\n",
    "Update: cleaned the data further in sql, reducine our dataset to 3328 rows for 785 unique patients and taking 14 seconds to upload. Seems like tons of duplicate rows, which we removed to get a dataset of 3300 rows ish and 785 unique patients"
   ]
  },
  {
   "cell_type": "code",
   "execution_count": 6,
   "metadata": {},
   "outputs": [
    {
     "name": "stdout",
     "output_type": "stream",
     "text": [
      "Time elapsed (hh:mm:ss.ms) 0:00:14.012989\n"
     ]
    }
   ],
   "source": [
    "# Use \"postgres -D /usr/local/var/postgres\" if the postgres database ever is shut down incorrectly therefore you can't connect\n",
    "\n",
    "\n",
    "from datetime import datetime \n",
    "\n",
    "start_time = datetime.now() \n",
    "\n",
    "import time\n",
    "\n",
    "data = pd.read_sql('''SELECT * FROM public.\"thesis_data\";''', con=engine)\n",
    "\n",
    "\n",
    "# data = pd.read_sql('''SELECT * FROM public.\"thesis_data\";''', con=engine, chunksize=1000000)\n",
    "\n",
    "\n",
    "print('Time elapsed (hh:mm:ss.ms) {}'.format(datetime.now() - start_time))"
   ]
  },
  {
   "cell_type": "code",
   "execution_count": 8,
   "metadata": {
    "scrolled": true
   },
   "outputs": [
    {
     "data": {
      "text/plain": [
       "Index(['gender', 'dob', 'dod', 'dod_hosp', 'dod_ssn', 'expire_flag', 'row_id',\n",
       "       'subject_id', 'hadm_id', 'admittime', 'dischtime', 'deathtime',\n",
       "       'admission_type', 'admission_location', 'discharge_location',\n",
       "       'insurance', 'language', 'religion', 'marital_status', 'ethnicity',\n",
       "       'edregtime', 'edouttime', 'diagnosis', 'hospital_expire_flag',\n",
       "       'has_chartevents_data', 'submit_wardid', 'submit_careunit',\n",
       "       'curr_wardid', 'curr_careunit', 'callout_wardid', 'callout_service',\n",
       "       'request_cdiff', 'request_mrsa', 'callout_status', 'callout_outcome',\n",
       "       'discharge_wardid', 'acknowledge_status', 'createtime', 'updatetime',\n",
       "       'acknowledgetime', 'outcometime', 'first_careunit', 'last_careunit',\n",
       "       'first_wardid', 'last_wardid', 'intime', 'outtime', 'los', 'costcenter',\n",
       "       'cpt_cd', 'cpt_number', 'cpt_suffix', 'sectionheader',\n",
       "       'subsectionheader', 'description', 'transfertime', 'prev_service',\n",
       "       'curr_service', 'seq_num', 'icd9_code'],\n",
       "      dtype='object')"
      ]
     },
     "execution_count": 8,
     "metadata": {},
     "output_type": "execute_result"
    }
   ],
   "source": [
    "from sklearn.model_selection import train_test_split\n",
    "\n",
    "data.columns"
   ]
  },
  {
   "cell_type": "code",
   "execution_count": 9,
   "metadata": {},
   "outputs": [
    {
     "data": {
      "text/plain": [
       "(3328, 60)"
      ]
     },
     "execution_count": 9,
     "metadata": {},
     "output_type": "execute_result"
    }
   ],
   "source": [
    "data.shape"
   ]
  },
  {
   "cell_type": "code",
   "execution_count": 10,
   "metadata": {},
   "outputs": [
    {
     "data": {
      "text/html": [
       "<div>\n",
       "<style scoped>\n",
       "    .dataframe tbody tr th:only-of-type {\n",
       "        vertical-align: middle;\n",
       "    }\n",
       "\n",
       "    .dataframe tbody tr th {\n",
       "        vertical-align: top;\n",
       "    }\n",
       "\n",
       "    .dataframe thead th {\n",
       "        text-align: right;\n",
       "    }\n",
       "</style>\n",
       "<table border=\"1\" class=\"dataframe\">\n",
       "  <thead>\n",
       "    <tr style=\"text-align: right;\">\n",
       "      <th></th>\n",
       "      <th>subject_id</th>\n",
       "      <th>intime</th>\n",
       "      <th>outtime</th>\n",
       "      <th>description</th>\n",
       "      <th>prev_service</th>\n",
       "    </tr>\n",
       "  </thead>\n",
       "  <tbody>\n",
       "    <tr>\n",
       "      <th>0</th>\n",
       "      <td>160</td>\n",
       "      <td>2174-11-06 10:07:03</td>\n",
       "      <td>2174-11-07 22:37:53</td>\n",
       "      <td>None</td>\n",
       "      <td>None</td>\n",
       "    </tr>\n",
       "    <tr>\n",
       "      <th>1</th>\n",
       "      <td>160</td>\n",
       "      <td>2174-11-06 10:07:03</td>\n",
       "      <td>2174-11-07 22:37:53</td>\n",
       "      <td>None</td>\n",
       "      <td>None</td>\n",
       "    </tr>\n",
       "    <tr>\n",
       "      <th>2</th>\n",
       "      <td>160</td>\n",
       "      <td>2174-11-06 10:07:03</td>\n",
       "      <td>2174-11-07 22:37:53</td>\n",
       "      <td>None</td>\n",
       "      <td>None</td>\n",
       "    </tr>\n",
       "    <tr>\n",
       "      <th>3</th>\n",
       "      <td>160</td>\n",
       "      <td>2174-11-06 10:07:03</td>\n",
       "      <td>2174-11-07 22:37:53</td>\n",
       "      <td>None</td>\n",
       "      <td>None</td>\n",
       "    </tr>\n",
       "    <tr>\n",
       "      <th>4</th>\n",
       "      <td>160</td>\n",
       "      <td>2174-11-06 10:07:03</td>\n",
       "      <td>2174-11-07 22:37:53</td>\n",
       "      <td>None</td>\n",
       "      <td>None</td>\n",
       "    </tr>\n",
       "    <tr>\n",
       "      <th>5</th>\n",
       "      <td>160</td>\n",
       "      <td>2174-11-06 10:07:03</td>\n",
       "      <td>2174-11-07 22:37:53</td>\n",
       "      <td>None</td>\n",
       "      <td>None</td>\n",
       "    </tr>\n",
       "    <tr>\n",
       "      <th>6</th>\n",
       "      <td>160</td>\n",
       "      <td>2174-11-06 10:07:03</td>\n",
       "      <td>2174-11-07 22:37:53</td>\n",
       "      <td>None</td>\n",
       "      <td>None</td>\n",
       "    </tr>\n",
       "    <tr>\n",
       "      <th>7</th>\n",
       "      <td>197</td>\n",
       "      <td>2174-03-23 00:34:45</td>\n",
       "      <td>2174-03-23 20:24:29</td>\n",
       "      <td>None</td>\n",
       "      <td>None</td>\n",
       "    </tr>\n",
       "    <tr>\n",
       "      <th>8</th>\n",
       "      <td>197</td>\n",
       "      <td>2174-03-23 00:34:45</td>\n",
       "      <td>2174-03-23 20:24:29</td>\n",
       "      <td>VENT MGMT, 1ST DAY (INVASIVE)</td>\n",
       "      <td>None</td>\n",
       "    </tr>\n",
       "    <tr>\n",
       "      <th>9</th>\n",
       "      <td>262</td>\n",
       "      <td>2153-09-25 18:02:24</td>\n",
       "      <td>2153-09-27 13:59:18</td>\n",
       "      <td>None</td>\n",
       "      <td>None</td>\n",
       "    </tr>\n",
       "  </tbody>\n",
       "</table>\n",
       "</div>"
      ],
      "text/plain": [
       "   subject_id              intime             outtime  \\\n",
       "0         160 2174-11-06 10:07:03 2174-11-07 22:37:53   \n",
       "1         160 2174-11-06 10:07:03 2174-11-07 22:37:53   \n",
       "2         160 2174-11-06 10:07:03 2174-11-07 22:37:53   \n",
       "3         160 2174-11-06 10:07:03 2174-11-07 22:37:53   \n",
       "4         160 2174-11-06 10:07:03 2174-11-07 22:37:53   \n",
       "5         160 2174-11-06 10:07:03 2174-11-07 22:37:53   \n",
       "6         160 2174-11-06 10:07:03 2174-11-07 22:37:53   \n",
       "7         197 2174-03-23 00:34:45 2174-03-23 20:24:29   \n",
       "8         197 2174-03-23 00:34:45 2174-03-23 20:24:29   \n",
       "9         262 2153-09-25 18:02:24 2153-09-27 13:59:18   \n",
       "\n",
       "                     description prev_service  \n",
       "0                           None         None  \n",
       "1                           None         None  \n",
       "2                           None         None  \n",
       "3                           None         None  \n",
       "4                           None         None  \n",
       "5                           None         None  \n",
       "6                           None         None  \n",
       "7                           None         None  \n",
       "8  VENT MGMT, 1ST DAY (INVASIVE)         None  \n",
       "9                           None         None  "
      ]
     },
     "execution_count": 10,
     "metadata": {},
     "output_type": "execute_result"
    }
   ],
   "source": [
    "data[['subject_id','intime','outtime','description', 'prev_service']].head(10)"
   ]
  },
  {
   "cell_type": "markdown",
   "metadata": {},
   "source": [
    "#### Creating the target variable:\n",
    "\n",
    "Our target variable is the time it takes from when a person is ready for discharge to when they are actually discharged. This needs to be engineered from our data."
   ]
  },
  {
   "cell_type": "code",
   "execution_count": 11,
   "metadata": {
    "scrolled": true
   },
   "outputs": [],
   "source": [
    "data['timediff'] = data['outtime']-data['intime']"
   ]
  },
  {
   "cell_type": "code",
   "execution_count": 12,
   "metadata": {},
   "outputs": [
    {
     "data": {
      "text/plain": [
       "Timedelta('1 days 12:30:50')"
      ]
     },
     "execution_count": 12,
     "metadata": {},
     "output_type": "execute_result"
    }
   ],
   "source": [
    "data.timediff[0] # success!"
   ]
  },
  {
   "cell_type": "markdown",
   "metadata": {},
   "source": [
    "-----------------------------------------------------------------------"
   ]
  },
  {
   "cell_type": "markdown",
   "metadata": {},
   "source": [
    "## Exploratory Data Analysis"
   ]
  },
  {
   "cell_type": "code",
   "execution_count": 13,
   "metadata": {
    "scrolled": true
   },
   "outputs": [
    {
     "data": {
      "text/plain": [
       "Index(['gender', 'dob', 'dod', 'dod_hosp', 'dod_ssn', 'expire_flag', 'row_id',\n",
       "       'subject_id', 'hadm_id', 'admittime', 'dischtime', 'deathtime',\n",
       "       'admission_type', 'admission_location', 'discharge_location',\n",
       "       'insurance', 'language', 'religion', 'marital_status', 'ethnicity',\n",
       "       'edregtime', 'edouttime', 'diagnosis', 'hospital_expire_flag',\n",
       "       'has_chartevents_data', 'submit_wardid', 'submit_careunit',\n",
       "       'curr_wardid', 'curr_careunit', 'callout_wardid', 'callout_service',\n",
       "       'request_cdiff', 'request_mrsa', 'callout_status', 'callout_outcome',\n",
       "       'discharge_wardid', 'acknowledge_status', 'createtime', 'updatetime',\n",
       "       'acknowledgetime', 'outcometime', 'first_careunit', 'last_careunit',\n",
       "       'first_wardid', 'last_wardid', 'intime', 'outtime', 'los', 'costcenter',\n",
       "       'cpt_cd', 'cpt_number', 'cpt_suffix', 'sectionheader',\n",
       "       'subsectionheader', 'description', 'transfertime', 'prev_service',\n",
       "       'curr_service', 'seq_num', 'icd9_code', 'timediff'],\n",
       "      dtype='object')"
      ]
     },
     "execution_count": 13,
     "metadata": {},
     "output_type": "execute_result"
    }
   ],
   "source": [
    "data.columns"
   ]
  },
  {
   "cell_type": "markdown",
   "metadata": {},
   "source": [
    "##### Initial logic checks:\n",
    "\n",
    "While we deduped the initial dataset, we still have lots to do to inspect and clean our data.  \n",
    "\n",
    "1) Look to see if data makes sense. Check if there are any patients where their date of death (dod) is before date of birth (dob), is edregtime before edouttime?\n",
    "\n",
    "2) If there are any of the times that are out of order (besides date of birth), we can flag those as administrative errors  \n"
   ]
  },
  {
   "cell_type": "code",
   "execution_count": 20,
   "metadata": {},
   "outputs": [
    {
     "data": {
      "text/plain": [
       "array([False])"
      ]
     },
     "execution_count": 20,
     "metadata": {},
     "output_type": "execute_result"
    }
   ],
   "source": [
    "# data.gender.unique()\n",
    "\n",
    "from datetime import datetime, timedelta \n",
    "# truth = ((data.dod.dt.date-data.dob.dt.date)<timedelta(0))\n",
    "# truth = ((data.edouttime.dt.date-data.edregtime.dt.date)<timedelta(0))\n",
    "# truth = ((data.updatetime.dt.date-data.createtime.dt.date)<timedelta(0))\n",
    "truth = ((data.outtime.dt.date-data.intime.dt.date)<timedelta(0))\n",
    "truth.unique()\n",
    "\n"
   ]
  },
  {
   "cell_type": "markdown",
   "metadata": {},
   "source": [
    "It appears that we don't have any errors with the order of times in our data. If we did, we would see some negative values in the subtraction of the two dates and therefore the array would have `True` values.  \n",
    "\n",
    "We do have issues with the years in the `dob` and `dod` variables corresponding to date of birth and date of death. We may have to discard these as there's no better wage to ascertain age."
   ]
  },
  {
   "cell_type": "code",
   "execution_count": null,
   "metadata": {},
   "outputs": [],
   "source": [
    "sorted(data['dob'].unique())"
   ]
  },
  {
   "cell_type": "markdown",
   "metadata": {},
   "source": [
    "##### Check for missing values"
   ]
  },
  {
   "cell_type": "code",
   "execution_count": 35,
   "metadata": {},
   "outputs": [
    {
     "data": {
      "text/plain": [
       "2687"
      ]
     },
     "execution_count": 35,
     "metadata": {},
     "output_type": "execute_result"
    }
   ],
   "source": [
    "data['dod'].isna().sum() # 2687 people did not die within 90 days post discharge\n",
    "data['dod_hosp'].isna().sum() # 3032 people did not die in hospital\n",
    "data['dod_ssn'].isna().sum() # 2757 did not die according to social security records\n",
    "data['language'].isna().sum() # 1042 unknown language\n",
    "data['marital_status'].isna().sum() # 127 unknown marital status\n",
    "data['edregtime'].isna().sum() # 2472 unknown edregtime, edouttime - likely didn't visit ED\n",
    "data['submit_careunit'].isna().sum() # 3146 was not from ICU\n",
    "data['discharge_wardid'].isna().sum() # 72 unknown wards to which the patient was discharged.\n",
    "data['acknowledgetime'].isna().sum() # 314 did not record acknowledgetime\n",
    "data['cpt_suffix'].isna().sum() # 3328 unknown Text element of the Current Procedural Terminology (CPT)\n",
    "data['description'].isna().sum()# 1459 missing description of CPT\n",
    "data['prev_service'].isna().sum() # 3273 missing previous service type"
   ]
  },
  {
   "cell_type": "markdown",
   "metadata": {},
   "source": [
    "`expire_flag`, `deathtime` will of course have some missing since it's indicating who died or not"
   ]
  },
  {
   "cell_type": "markdown",
   "metadata": {},
   "source": [
    "##### Visualizing distributions of our data"
   ]
  },
  {
   "cell_type": "code",
   "execution_count": null,
   "metadata": {},
   "outputs": [],
   "source": []
  },
  {
   "cell_type": "markdown",
   "metadata": {},
   "source": [
    "Now we want to make a correlation matrix of our data"
   ]
  },
  {
   "cell_type": "code",
   "execution_count": null,
   "metadata": {},
   "outputs": [],
   "source": []
  }
 ],
 "metadata": {
  "kernelspec": {
   "display_name": "Python 3",
   "language": "python",
   "name": "python3"
  },
  "language_info": {
   "codemirror_mode": {
    "name": "ipython",
    "version": 3
   },
   "file_extension": ".py",
   "mimetype": "text/x-python",
   "name": "python",
   "nbconvert_exporter": "python",
   "pygments_lexer": "ipython3",
   "version": "3.6.8"
  }
 },
 "nbformat": 4,
 "nbformat_minor": 4
}
