{
 "cells": [
  {
   "cell_type": "markdown",
   "metadata": {},
   "source": [
    "# Master's Thesis Analysis"
   ]
  },
  {
   "cell_type": "markdown",
   "metadata": {},
   "source": [
    "Predicting discharge times of patients??\n",
    "\n",
    "#### Author: Derek Lee"
   ]
  },
  {
   "cell_type": "markdown",
   "metadata": {},
   "source": [
    "## Load Requisite Libraries and authenticate to local Postgres database"
   ]
  },
  {
   "cell_type": "code",
   "execution_count": 8,
   "metadata": {},
   "outputs": [],
   "source": [
    "import pandas as pd\n",
    "import psycopg2\n",
    "import sqlalchemy\n",
    "import time\n",
    "import psutil\n",
    "import numpy as np\n",
    "import multiprocessing as mp\n",
    "\n",
    "\n",
    "from sklearn.model_selection import train_test_split\n",
    "\n"
   ]
  },
  {
   "cell_type": "code",
   "execution_count": 9,
   "metadata": {},
   "outputs": [
    {
     "name": "stdout",
     "output_type": "stream",
     "text": [
      "This kernel has  8 cores and you can find the information regarding the memory usage: svmem(total=17179869184, available=6436990976, percent=62.5, used=8236359680, free=412962816, active=6027169792, inactive=5965406208, wired=2209189888)\n"
     ]
    }
   ],
   "source": [
    "# Check the number of cores and memory usage\n",
    "num_cores = mp.cpu_count()\n",
    "print(\"This kernel has \",num_cores,\"cores and you can find the information regarding the memory usage:\",psutil.virtual_memory())"
   ]
  },
  {
   "cell_type": "code",
   "execution_count": 10,
   "metadata": {},
   "outputs": [],
   "source": [
    "%reload_ext sql\n",
    "from sqlalchemy import create_engine"
   ]
  },
  {
   "cell_type": "code",
   "execution_count": 11,
   "metadata": {},
   "outputs": [],
   "source": [
    "import json\n",
    "json_file = open(\"secrets.json\")\n",
    "variables = json.load(json_file)\n",
    "json_file.close()\n",
    "\n",
    "import os\n",
    "os.environ['POSTGRES_USERNAME'] = variables['POSTGRES_USERNAME']\n",
    "os.environ['POSTGRES_PASSWORD'] = variables['POSTGRES_PASSWORD']\n",
    "os.environ['POSTGRES_ADDRESS'] = variables['POSTGRES_ADDRESS']\n",
    "os.environ['POSTGRES_PORT'] = variables['POSTGRES_PORT']\n",
    "os.environ['POSTGRES_DBNAME'] = variables['POSTGRES_DBNAME']"
   ]
  },
  {
   "cell_type": "code",
   "execution_count": 12,
   "metadata": {},
   "outputs": [],
   "source": [
    "# A long string that contains the necessary Postgres login information \n",
    "postgres_str = ('postgresql://{username}:{password}@{ipaddress}:{port}/{dbname}'\n",
    "                .format(username=os.getenv('POSTGRES_USERNAME'),\n",
    "                        password=os.getenv('POSTGRES_PASSWORD'),\n",
    "                        ipaddress=os.getenv('POSTGRES_ADDRESS'),\n",
    "                        port=os.getenv('POSTGRES_PORT'),\n",
    "                        dbname=os.getenv('POSTGRES_DBNAME'))) \n",
    "# Create the connection \n",
    "engine = create_engine(postgres_str)"
   ]
  },
  {
   "cell_type": "markdown",
   "metadata": {},
   "source": [
    "-------------------------------------"
   ]
  },
  {
   "cell_type": "markdown",
   "metadata": {},
   "source": [
    "### Note: Large Dataset:\n",
    "Running below will take about 5 minutes because it's a dataset with approx 20 million rows\n",
    "\n",
    "Update: cleaned the data further in sql, reducine our dataset to 3328 rows for 785 unique patients and taking 14 seconds to upload. Seems like tons of duplicate rows, which we removed to get a dataset of 3300 rows ish and 785 unique patients"
   ]
  },
  {
   "cell_type": "code",
   "execution_count": 13,
   "metadata": {},
   "outputs": [
    {
     "name": "stdout",
     "output_type": "stream",
     "text": [
      "Time elapsed (hh:mm:ss.ms) 0:00:08.990077\n"
     ]
    }
   ],
   "source": [
    "# Use \"postgres -D /usr/local/var/postgres\" if the postgres database ever is shut down incorrectly therefore you can't connect\n",
    "#Or you might need to start the server in terminal as below:\n",
    "# /usr/local/opt/postgresql@12/bin/pg_ctl -D /usr/local/var/postgres start\n",
    "\n",
    "from datetime import datetime \n",
    "\n",
    "start_time = datetime.now() \n",
    "\n",
    "import time\n",
    "\n",
    "data = pd.read_sql('''SELECT * FROM public.\"thesis_data\";''', con=engine)\n",
    "\n",
    "\n",
    "# data = pd.read_sql('''SELECT * FROM public.\"thesis_data\";''', con=engine, chunksize=1000000)\n",
    "\n",
    "\n",
    "print('Time elapsed (hh:mm:ss.ms) {}'.format(datetime.now() - start_time))"
   ]
  },
  {
   "cell_type": "code",
   "execution_count": 14,
   "metadata": {
    "scrolled": true
   },
   "outputs": [
    {
     "data": {
      "text/plain": [
       "Index(['gender', 'dob', 'dod', 'dod_hosp', 'dod_ssn', 'expire_flag', 'row_id',\n",
       "       'subject_id', 'hadm_id', 'admittime', 'dischtime', 'deathtime',\n",
       "       'admission_type', 'admission_location', 'discharge_location',\n",
       "       'insurance', 'language', 'religion', 'marital_status', 'ethnicity',\n",
       "       'edregtime', 'edouttime', 'diagnosis', 'hospital_expire_flag',\n",
       "       'has_chartevents_data', 'submit_wardid', 'submit_careunit',\n",
       "       'curr_wardid', 'curr_careunit', 'callout_wardid', 'callout_service',\n",
       "       'request_cdiff', 'request_mrsa', 'callout_status', 'callout_outcome',\n",
       "       'discharge_wardid', 'acknowledge_status', 'createtime', 'updatetime',\n",
       "       'acknowledgetime', 'outcometime', 'first_careunit', 'last_careunit',\n",
       "       'first_wardid', 'last_wardid', 'intime', 'outtime', 'los', 'costcenter',\n",
       "       'cpt_cd', 'cpt_number', 'cpt_suffix', 'sectionheader',\n",
       "       'subsectionheader', 'description', 'transfertime', 'prev_service',\n",
       "       'curr_service', 'seq_num', 'icd9_code'],\n",
       "      dtype='object')"
      ]
     },
     "execution_count": 14,
     "metadata": {},
     "output_type": "execute_result"
    }
   ],
   "source": [
    "pd.set_option('display.max_columns', None)\n",
    "data.columns\n"
   ]
  },
  {
   "cell_type": "markdown",
   "metadata": {},
   "source": [
    "`admittime` = time admitted to hospital  \n",
    "`dischtime` = time discharged from hospital  \n",
    "`edregtime` = time registered in ED  \n",
    "`edouttime` = time discharge from ED    \n",
    "`createtime` = time and date that the call out was initiated  \n",
    "`updatetime` = last time at which the call out event was updated  \n",
    "`acknowledgetime` = time at which the call out was first acknowledged  \n",
    "`outcometime` = time at which the CALLOUT_OUTCOME occurred  \n",
    "`intime` = provides the date and time the patient was transferred into the ICU  \n",
    "`outtime` = provides the date and time the patient was transferred out of the ICU  \n",
    "`los` = length of stay for the patient for the given ICU stay, which may include one or more ICU units. The length of stay is measured in fractional days.\n"
   ]
  },
  {
   "cell_type": "markdown",
   "metadata": {},
   "source": [
    "Most variables are categorical, some being text while others are number codes. For the times, we can convert into cyclical time features https://ianlondon.github.io/blog/encoding-cyclical-features-24hour-time/ so it becomes continuous or just calculate the intervals between time events and extracting it in hours or some other desired time format."
   ]
  },
  {
   "cell_type": "code",
   "execution_count": 15,
   "metadata": {},
   "outputs": [
    {
     "data": {
      "text/plain": [
       "(4151, 60)"
      ]
     },
     "execution_count": 15,
     "metadata": {},
     "output_type": "execute_result"
    }
   ],
   "source": [
    "data.shape"
   ]
  },
  {
   "cell_type": "markdown",
   "metadata": {},
   "source": [
    "#### Creating the target variable:\n",
    "\n",
    "Our target variable is the time it takes from when a person is ready for discharge to when they are actually discharged. This needs to be engineered from our data."
   ]
  },
  {
   "cell_type": "code",
   "execution_count": 16,
   "metadata": {
    "scrolled": true
   },
   "outputs": [],
   "source": [
    "# data['timediff'] = data['outtime']-data['intime']\n",
    "\n",
    "data['timediff'] = data['outcometime']-data['acknowledgetime']\n",
    "\n",
    "data['timediff_hours'] = (data['outcometime'].sub(data['acknowledgetime']).dt.seconds/60/60).round(1)\n",
    "\n"
   ]
  },
  {
   "cell_type": "code",
   "execution_count": 17,
   "metadata": {
    "scrolled": true
   },
   "outputs": [
    {
     "data": {
      "text/html": [
       "<div>\n",
       "<style scoped>\n",
       "    .dataframe tbody tr th:only-of-type {\n",
       "        vertical-align: middle;\n",
       "    }\n",
       "\n",
       "    .dataframe tbody tr th {\n",
       "        vertical-align: top;\n",
       "    }\n",
       "\n",
       "    .dataframe thead th {\n",
       "        text-align: right;\n",
       "    }\n",
       "</style>\n",
       "<table border=\"1\" class=\"dataframe\">\n",
       "  <thead>\n",
       "    <tr style=\"text-align: right;\">\n",
       "      <th></th>\n",
       "      <th>gender</th>\n",
       "      <th>dob</th>\n",
       "      <th>dod</th>\n",
       "      <th>dod_hosp</th>\n",
       "      <th>dod_ssn</th>\n",
       "      <th>expire_flag</th>\n",
       "      <th>row_id</th>\n",
       "      <th>subject_id</th>\n",
       "      <th>hadm_id</th>\n",
       "      <th>admittime</th>\n",
       "      <th>dischtime</th>\n",
       "      <th>deathtime</th>\n",
       "      <th>admission_type</th>\n",
       "      <th>admission_location</th>\n",
       "      <th>discharge_location</th>\n",
       "      <th>insurance</th>\n",
       "      <th>language</th>\n",
       "      <th>religion</th>\n",
       "      <th>marital_status</th>\n",
       "      <th>ethnicity</th>\n",
       "      <th>edregtime</th>\n",
       "      <th>edouttime</th>\n",
       "      <th>diagnosis</th>\n",
       "      <th>hospital_expire_flag</th>\n",
       "      <th>has_chartevents_data</th>\n",
       "      <th>submit_wardid</th>\n",
       "      <th>submit_careunit</th>\n",
       "      <th>curr_wardid</th>\n",
       "      <th>curr_careunit</th>\n",
       "      <th>callout_wardid</th>\n",
       "      <th>callout_service</th>\n",
       "      <th>request_cdiff</th>\n",
       "      <th>request_mrsa</th>\n",
       "      <th>callout_status</th>\n",
       "      <th>callout_outcome</th>\n",
       "      <th>discharge_wardid</th>\n",
       "      <th>acknowledge_status</th>\n",
       "      <th>createtime</th>\n",
       "      <th>updatetime</th>\n",
       "      <th>acknowledgetime</th>\n",
       "      <th>outcometime</th>\n",
       "      <th>first_careunit</th>\n",
       "      <th>last_careunit</th>\n",
       "      <th>first_wardid</th>\n",
       "      <th>last_wardid</th>\n",
       "      <th>intime</th>\n",
       "      <th>outtime</th>\n",
       "      <th>los</th>\n",
       "      <th>costcenter</th>\n",
       "      <th>cpt_cd</th>\n",
       "      <th>cpt_number</th>\n",
       "      <th>cpt_suffix</th>\n",
       "      <th>sectionheader</th>\n",
       "      <th>subsectionheader</th>\n",
       "      <th>description</th>\n",
       "      <th>transfertime</th>\n",
       "      <th>prev_service</th>\n",
       "      <th>curr_service</th>\n",
       "      <th>seq_num</th>\n",
       "      <th>icd9_code</th>\n",
       "      <th>timediff</th>\n",
       "      <th>timediff_hours</th>\n",
       "    </tr>\n",
       "  </thead>\n",
       "  <tbody>\n",
       "    <tr>\n",
       "      <th>14</th>\n",
       "      <td>F</td>\n",
       "      <td>2090-12-25</td>\n",
       "      <td>2176-04-27</td>\n",
       "      <td>NaT</td>\n",
       "      <td>2176-04-27</td>\n",
       "      <td>1</td>\n",
       "      <td>363</td>\n",
       "      <td>286</td>\n",
       "      <td>135917</td>\n",
       "      <td>2176-04-10 20:45:00</td>\n",
       "      <td>2176-04-12 16:41:00</td>\n",
       "      <td>NaT</td>\n",
       "      <td>EMERGENCY</td>\n",
       "      <td>TRANSFER FROM HOSP/EXTRAM</td>\n",
       "      <td>REHAB/DISTINCT PART HOSP</td>\n",
       "      <td>Medicare</td>\n",
       "      <td>None</td>\n",
       "      <td>CATHOLIC</td>\n",
       "      <td>WIDOWED</td>\n",
       "      <td>WHITE</td>\n",
       "      <td>NaT</td>\n",
       "      <td>NaT</td>\n",
       "      <td>INFECTED RIGHT FOOT</td>\n",
       "      <td>0</td>\n",
       "      <td>0</td>\n",
       "      <td>57</td>\n",
       "      <td>SICU</td>\n",
       "      <td>57</td>\n",
       "      <td>SICU</td>\n",
       "      <td>1</td>\n",
       "      <td>VSURG</td>\n",
       "      <td>0</td>\n",
       "      <td>0</td>\n",
       "      <td>Inactive</td>\n",
       "      <td>Discharged</td>\n",
       "      <td>0.0</td>\n",
       "      <td>Acknowledged</td>\n",
       "      <td>2176-04-11 09:57:03</td>\n",
       "      <td>2176-04-11 09:57:03</td>\n",
       "      <td>2176-04-11 12:00:30</td>\n",
       "      <td>2176-04-12 16:55:02</td>\n",
       "      <td>SICU</td>\n",
       "      <td>SICU</td>\n",
       "      <td>57</td>\n",
       "      <td>57</td>\n",
       "      <td>2176-04-10 20:46:09</td>\n",
       "      <td>2176-04-12 16:42:47</td>\n",
       "      <td>1.8310</td>\n",
       "      <td>ICU</td>\n",
       "      <td>99253</td>\n",
       "      <td>99253</td>\n",
       "      <td>None</td>\n",
       "      <td>Evaluation and management</td>\n",
       "      <td>Consultations</td>\n",
       "      <td>None</td>\n",
       "      <td>2176-04-10 20:46:09</td>\n",
       "      <td>None</td>\n",
       "      <td>VSURG</td>\n",
       "      <td>1</td>\n",
       "      <td>8411</td>\n",
       "      <td>1 days 04:54:32</td>\n",
       "      <td>4.9</td>\n",
       "    </tr>\n",
       "    <tr>\n",
       "      <th>15</th>\n",
       "      <td>F</td>\n",
       "      <td>2090-12-25</td>\n",
       "      <td>2176-04-27</td>\n",
       "      <td>NaT</td>\n",
       "      <td>2176-04-27</td>\n",
       "      <td>1</td>\n",
       "      <td>363</td>\n",
       "      <td>286</td>\n",
       "      <td>135917</td>\n",
       "      <td>2176-04-10 20:45:00</td>\n",
       "      <td>2176-04-12 16:41:00</td>\n",
       "      <td>NaT</td>\n",
       "      <td>EMERGENCY</td>\n",
       "      <td>TRANSFER FROM HOSP/EXTRAM</td>\n",
       "      <td>REHAB/DISTINCT PART HOSP</td>\n",
       "      <td>Medicare</td>\n",
       "      <td>None</td>\n",
       "      <td>CATHOLIC</td>\n",
       "      <td>WIDOWED</td>\n",
       "      <td>WHITE</td>\n",
       "      <td>NaT</td>\n",
       "      <td>NaT</td>\n",
       "      <td>INFECTED RIGHT FOOT</td>\n",
       "      <td>0</td>\n",
       "      <td>0</td>\n",
       "      <td>57</td>\n",
       "      <td>SICU</td>\n",
       "      <td>57</td>\n",
       "      <td>SICU</td>\n",
       "      <td>1</td>\n",
       "      <td>VSURG</td>\n",
       "      <td>0</td>\n",
       "      <td>0</td>\n",
       "      <td>Inactive</td>\n",
       "      <td>Discharged</td>\n",
       "      <td>0.0</td>\n",
       "      <td>Acknowledged</td>\n",
       "      <td>2176-04-11 09:57:03</td>\n",
       "      <td>2176-04-11 09:57:03</td>\n",
       "      <td>2176-04-11 12:00:30</td>\n",
       "      <td>2176-04-12 16:55:02</td>\n",
       "      <td>SICU</td>\n",
       "      <td>SICU</td>\n",
       "      <td>57</td>\n",
       "      <td>57</td>\n",
       "      <td>2176-04-10 20:46:09</td>\n",
       "      <td>2176-04-12 16:42:47</td>\n",
       "      <td>1.8310</td>\n",
       "      <td>Resp</td>\n",
       "      <td>94002</td>\n",
       "      <td>94002</td>\n",
       "      <td>None</td>\n",
       "      <td>Medicine</td>\n",
       "      <td>Pulmonary</td>\n",
       "      <td>VENT MGMT, 1ST DAY (INVASIVE)</td>\n",
       "      <td>2176-04-10 20:46:09</td>\n",
       "      <td>None</td>\n",
       "      <td>VSURG</td>\n",
       "      <td>1</td>\n",
       "      <td>8411</td>\n",
       "      <td>1 days 04:54:32</td>\n",
       "      <td>4.9</td>\n",
       "    </tr>\n",
       "    <tr>\n",
       "      <th>16</th>\n",
       "      <td>F</td>\n",
       "      <td>2132-06-06</td>\n",
       "      <td>NaT</td>\n",
       "      <td>NaT</td>\n",
       "      <td>NaT</td>\n",
       "      <td>0</td>\n",
       "      <td>414</td>\n",
       "      <td>325</td>\n",
       "      <td>155989</td>\n",
       "      <td>2190-01-05 07:15:00</td>\n",
       "      <td>2190-01-16 13:36:00</td>\n",
       "      <td>NaT</td>\n",
       "      <td>ELECTIVE</td>\n",
       "      <td>PHYS REFERRAL/NORMAL DELI</td>\n",
       "      <td>HOME HEALTH CARE</td>\n",
       "      <td>Private</td>\n",
       "      <td>ENGL</td>\n",
       "      <td>NOT SPECIFIED</td>\n",
       "      <td>WIDOWED</td>\n",
       "      <td>WHITE</td>\n",
       "      <td>NaT</td>\n",
       "      <td>NaT</td>\n",
       "      <td>METASTATIC PANCREATIC CA/SDA</td>\n",
       "      <td>0</td>\n",
       "      <td>1</td>\n",
       "      <td>57</td>\n",
       "      <td>None</td>\n",
       "      <td>54</td>\n",
       "      <td>SICU</td>\n",
       "      <td>54</td>\n",
       "      <td>SURG</td>\n",
       "      <td>0</td>\n",
       "      <td>0</td>\n",
       "      <td>Inactive</td>\n",
       "      <td>Discharged</td>\n",
       "      <td>54.0</td>\n",
       "      <td>Acknowledged</td>\n",
       "      <td>2190-01-07 09:41:25</td>\n",
       "      <td>2190-01-07 09:41:25</td>\n",
       "      <td>2190-01-07 09:55:29</td>\n",
       "      <td>2190-01-08 18:25:02</td>\n",
       "      <td>SICU</td>\n",
       "      <td>SICU</td>\n",
       "      <td>57</td>\n",
       "      <td>57</td>\n",
       "      <td>2190-01-05 20:28:18</td>\n",
       "      <td>2190-01-08 18:08:28</td>\n",
       "      <td>2.9029</td>\n",
       "      <td>ICU</td>\n",
       "      <td>47130</td>\n",
       "      <td>47130</td>\n",
       "      <td>None</td>\n",
       "      <td>Surgery</td>\n",
       "      <td>Digestive system</td>\n",
       "      <td>None</td>\n",
       "      <td>2190-01-05 00:37:59</td>\n",
       "      <td>None</td>\n",
       "      <td>SURG</td>\n",
       "      <td>1</td>\n",
       "      <td>527</td>\n",
       "      <td>1 days 08:29:33</td>\n",
       "      <td>8.5</td>\n",
       "    </tr>\n",
       "    <tr>\n",
       "      <th>17</th>\n",
       "      <td>F</td>\n",
       "      <td>2132-06-06</td>\n",
       "      <td>NaT</td>\n",
       "      <td>NaT</td>\n",
       "      <td>NaT</td>\n",
       "      <td>0</td>\n",
       "      <td>414</td>\n",
       "      <td>325</td>\n",
       "      <td>155989</td>\n",
       "      <td>2190-01-05 07:15:00</td>\n",
       "      <td>2190-01-16 13:36:00</td>\n",
       "      <td>NaT</td>\n",
       "      <td>ELECTIVE</td>\n",
       "      <td>PHYS REFERRAL/NORMAL DELI</td>\n",
       "      <td>HOME HEALTH CARE</td>\n",
       "      <td>Private</td>\n",
       "      <td>ENGL</td>\n",
       "      <td>NOT SPECIFIED</td>\n",
       "      <td>WIDOWED</td>\n",
       "      <td>WHITE</td>\n",
       "      <td>NaT</td>\n",
       "      <td>NaT</td>\n",
       "      <td>METASTATIC PANCREATIC CA/SDA</td>\n",
       "      <td>0</td>\n",
       "      <td>1</td>\n",
       "      <td>57</td>\n",
       "      <td>None</td>\n",
       "      <td>54</td>\n",
       "      <td>SICU</td>\n",
       "      <td>54</td>\n",
       "      <td>SURG</td>\n",
       "      <td>0</td>\n",
       "      <td>0</td>\n",
       "      <td>Inactive</td>\n",
       "      <td>Discharged</td>\n",
       "      <td>54.0</td>\n",
       "      <td>Acknowledged</td>\n",
       "      <td>2190-01-07 09:41:25</td>\n",
       "      <td>2190-01-07 09:41:25</td>\n",
       "      <td>2190-01-07 09:55:29</td>\n",
       "      <td>2190-01-08 18:25:02</td>\n",
       "      <td>SICU</td>\n",
       "      <td>SICU</td>\n",
       "      <td>57</td>\n",
       "      <td>57</td>\n",
       "      <td>2190-01-05 20:28:18</td>\n",
       "      <td>2190-01-08 18:08:28</td>\n",
       "      <td>2.9029</td>\n",
       "      <td>Resp</td>\n",
       "      <td>94003</td>\n",
       "      <td>94003</td>\n",
       "      <td>None</td>\n",
       "      <td>Medicine</td>\n",
       "      <td>Pulmonary</td>\n",
       "      <td>VENT MGMT;SUBSQ DAYS(INVASIVE)</td>\n",
       "      <td>2190-01-05 00:37:59</td>\n",
       "      <td>None</td>\n",
       "      <td>SURG</td>\n",
       "      <td>1</td>\n",
       "      <td>527</td>\n",
       "      <td>1 days 08:29:33</td>\n",
       "      <td>8.5</td>\n",
       "    </tr>\n",
       "    <tr>\n",
       "      <th>18</th>\n",
       "      <td>F</td>\n",
       "      <td>2132-06-06</td>\n",
       "      <td>NaT</td>\n",
       "      <td>NaT</td>\n",
       "      <td>NaT</td>\n",
       "      <td>0</td>\n",
       "      <td>414</td>\n",
       "      <td>325</td>\n",
       "      <td>155989</td>\n",
       "      <td>2190-01-05 07:15:00</td>\n",
       "      <td>2190-01-16 13:36:00</td>\n",
       "      <td>NaT</td>\n",
       "      <td>ELECTIVE</td>\n",
       "      <td>PHYS REFERRAL/NORMAL DELI</td>\n",
       "      <td>HOME HEALTH CARE</td>\n",
       "      <td>Private</td>\n",
       "      <td>ENGL</td>\n",
       "      <td>NOT SPECIFIED</td>\n",
       "      <td>WIDOWED</td>\n",
       "      <td>WHITE</td>\n",
       "      <td>NaT</td>\n",
       "      <td>NaT</td>\n",
       "      <td>METASTATIC PANCREATIC CA/SDA</td>\n",
       "      <td>0</td>\n",
       "      <td>1</td>\n",
       "      <td>57</td>\n",
       "      <td>None</td>\n",
       "      <td>54</td>\n",
       "      <td>SICU</td>\n",
       "      <td>54</td>\n",
       "      <td>SURG</td>\n",
       "      <td>0</td>\n",
       "      <td>0</td>\n",
       "      <td>Inactive</td>\n",
       "      <td>Discharged</td>\n",
       "      <td>54.0</td>\n",
       "      <td>Acknowledged</td>\n",
       "      <td>2190-01-07 09:41:25</td>\n",
       "      <td>2190-01-07 09:41:25</td>\n",
       "      <td>2190-01-07 09:55:29</td>\n",
       "      <td>2190-01-08 18:25:02</td>\n",
       "      <td>SICU</td>\n",
       "      <td>SICU</td>\n",
       "      <td>57</td>\n",
       "      <td>57</td>\n",
       "      <td>2190-01-05 20:28:18</td>\n",
       "      <td>2190-01-08 18:08:28</td>\n",
       "      <td>2.9029</td>\n",
       "      <td>ICU</td>\n",
       "      <td>47130</td>\n",
       "      <td>47130</td>\n",
       "      <td>None</td>\n",
       "      <td>Surgery</td>\n",
       "      <td>Digestive system</td>\n",
       "      <td>None</td>\n",
       "      <td>2190-01-05 00:37:59</td>\n",
       "      <td>None</td>\n",
       "      <td>SURG</td>\n",
       "      <td>2</td>\n",
       "      <td>5122</td>\n",
       "      <td>1 days 08:29:33</td>\n",
       "      <td>8.5</td>\n",
       "    </tr>\n",
       "    <tr>\n",
       "      <th>...</th>\n",
       "      <td>...</td>\n",
       "      <td>...</td>\n",
       "      <td>...</td>\n",
       "      <td>...</td>\n",
       "      <td>...</td>\n",
       "      <td>...</td>\n",
       "      <td>...</td>\n",
       "      <td>...</td>\n",
       "      <td>...</td>\n",
       "      <td>...</td>\n",
       "      <td>...</td>\n",
       "      <td>...</td>\n",
       "      <td>...</td>\n",
       "      <td>...</td>\n",
       "      <td>...</td>\n",
       "      <td>...</td>\n",
       "      <td>...</td>\n",
       "      <td>...</td>\n",
       "      <td>...</td>\n",
       "      <td>...</td>\n",
       "      <td>...</td>\n",
       "      <td>...</td>\n",
       "      <td>...</td>\n",
       "      <td>...</td>\n",
       "      <td>...</td>\n",
       "      <td>...</td>\n",
       "      <td>...</td>\n",
       "      <td>...</td>\n",
       "      <td>...</td>\n",
       "      <td>...</td>\n",
       "      <td>...</td>\n",
       "      <td>...</td>\n",
       "      <td>...</td>\n",
       "      <td>...</td>\n",
       "      <td>...</td>\n",
       "      <td>...</td>\n",
       "      <td>...</td>\n",
       "      <td>...</td>\n",
       "      <td>...</td>\n",
       "      <td>...</td>\n",
       "      <td>...</td>\n",
       "      <td>...</td>\n",
       "      <td>...</td>\n",
       "      <td>...</td>\n",
       "      <td>...</td>\n",
       "      <td>...</td>\n",
       "      <td>...</td>\n",
       "      <td>...</td>\n",
       "      <td>...</td>\n",
       "      <td>...</td>\n",
       "      <td>...</td>\n",
       "      <td>...</td>\n",
       "      <td>...</td>\n",
       "      <td>...</td>\n",
       "      <td>...</td>\n",
       "      <td>...</td>\n",
       "      <td>...</td>\n",
       "      <td>...</td>\n",
       "      <td>...</td>\n",
       "      <td>...</td>\n",
       "      <td>...</td>\n",
       "      <td>...</td>\n",
       "    </tr>\n",
       "    <tr>\n",
       "      <th>4146</th>\n",
       "      <td>F</td>\n",
       "      <td>2055-07-17</td>\n",
       "      <td>2144-01-23</td>\n",
       "      <td>NaT</td>\n",
       "      <td>2144-01-23</td>\n",
       "      <td>1</td>\n",
       "      <td>58917</td>\n",
       "      <td>99814</td>\n",
       "      <td>186518</td>\n",
       "      <td>2142-02-16 16:33:00</td>\n",
       "      <td>2142-02-21 16:38:00</td>\n",
       "      <td>NaT</td>\n",
       "      <td>EMERGENCY</td>\n",
       "      <td>TRANSFER FROM HOSP/EXTRAM</td>\n",
       "      <td>SNF</td>\n",
       "      <td>Medicare</td>\n",
       "      <td>ENGL</td>\n",
       "      <td>CATHOLIC</td>\n",
       "      <td>WIDOWED</td>\n",
       "      <td>WHITE</td>\n",
       "      <td>NaT</td>\n",
       "      <td>NaT</td>\n",
       "      <td>TRANSIENT ISCHEMIC ATTACK</td>\n",
       "      <td>0</td>\n",
       "      <td>1</td>\n",
       "      <td>15</td>\n",
       "      <td>None</td>\n",
       "      <td>8</td>\n",
       "      <td>CSRU</td>\n",
       "      <td>2</td>\n",
       "      <td>VSURG</td>\n",
       "      <td>0</td>\n",
       "      <td>0</td>\n",
       "      <td>Inactive</td>\n",
       "      <td>Discharged</td>\n",
       "      <td>8.0</td>\n",
       "      <td>Acknowledged</td>\n",
       "      <td>2142-02-20 11:07:11</td>\n",
       "      <td>2142-02-20 11:07:11</td>\n",
       "      <td>2142-02-20 11:14:57</td>\n",
       "      <td>2142-02-20 15:10:27</td>\n",
       "      <td>CSRU</td>\n",
       "      <td>CSRU</td>\n",
       "      <td>15</td>\n",
       "      <td>15</td>\n",
       "      <td>2142-02-19 17:18:30</td>\n",
       "      <td>2142-02-20 14:47:40</td>\n",
       "      <td>0.8953</td>\n",
       "      <td>Resp</td>\n",
       "      <td>94002</td>\n",
       "      <td>94002</td>\n",
       "      <td>None</td>\n",
       "      <td>Medicine</td>\n",
       "      <td>Pulmonary</td>\n",
       "      <td>VENT MGMT, 1ST DAY (INVASIVE)</td>\n",
       "      <td>2142-02-16 16:34:18</td>\n",
       "      <td>None</td>\n",
       "      <td>VSURG</td>\n",
       "      <td>3</td>\n",
       "      <td>9904</td>\n",
       "      <td>0 days 03:55:30</td>\n",
       "      <td>3.9</td>\n",
       "    </tr>\n",
       "    <tr>\n",
       "      <th>4147</th>\n",
       "      <td>F</td>\n",
       "      <td>2055-07-17</td>\n",
       "      <td>2144-01-23</td>\n",
       "      <td>NaT</td>\n",
       "      <td>2144-01-23</td>\n",
       "      <td>1</td>\n",
       "      <td>58917</td>\n",
       "      <td>99814</td>\n",
       "      <td>186518</td>\n",
       "      <td>2142-02-16 16:33:00</td>\n",
       "      <td>2142-02-21 16:38:00</td>\n",
       "      <td>NaT</td>\n",
       "      <td>EMERGENCY</td>\n",
       "      <td>TRANSFER FROM HOSP/EXTRAM</td>\n",
       "      <td>SNF</td>\n",
       "      <td>Medicare</td>\n",
       "      <td>ENGL</td>\n",
       "      <td>CATHOLIC</td>\n",
       "      <td>WIDOWED</td>\n",
       "      <td>WHITE</td>\n",
       "      <td>NaT</td>\n",
       "      <td>NaT</td>\n",
       "      <td>TRANSIENT ISCHEMIC ATTACK</td>\n",
       "      <td>0</td>\n",
       "      <td>1</td>\n",
       "      <td>15</td>\n",
       "      <td>None</td>\n",
       "      <td>8</td>\n",
       "      <td>CSRU</td>\n",
       "      <td>2</td>\n",
       "      <td>VSURG</td>\n",
       "      <td>0</td>\n",
       "      <td>0</td>\n",
       "      <td>Inactive</td>\n",
       "      <td>Discharged</td>\n",
       "      <td>8.0</td>\n",
       "      <td>Acknowledged</td>\n",
       "      <td>2142-02-20 11:07:11</td>\n",
       "      <td>2142-02-20 11:07:11</td>\n",
       "      <td>2142-02-20 11:14:57</td>\n",
       "      <td>2142-02-20 15:10:27</td>\n",
       "      <td>CSRU</td>\n",
       "      <td>CSRU</td>\n",
       "      <td>15</td>\n",
       "      <td>15</td>\n",
       "      <td>2142-02-19 17:18:30</td>\n",
       "      <td>2142-02-20 14:47:40</td>\n",
       "      <td>0.8953</td>\n",
       "      <td>ICU</td>\n",
       "      <td>99223</td>\n",
       "      <td>99223</td>\n",
       "      <td>None</td>\n",
       "      <td>Evaluation and management</td>\n",
       "      <td>Hospital inpatient services</td>\n",
       "      <td>None</td>\n",
       "      <td>2142-02-16 16:34:18</td>\n",
       "      <td>None</td>\n",
       "      <td>VSURG</td>\n",
       "      <td>4</td>\n",
       "      <td>9604</td>\n",
       "      <td>0 days 03:55:30</td>\n",
       "      <td>3.9</td>\n",
       "    </tr>\n",
       "    <tr>\n",
       "      <th>4148</th>\n",
       "      <td>F</td>\n",
       "      <td>2055-07-17</td>\n",
       "      <td>2144-01-23</td>\n",
       "      <td>NaT</td>\n",
       "      <td>2144-01-23</td>\n",
       "      <td>1</td>\n",
       "      <td>58917</td>\n",
       "      <td>99814</td>\n",
       "      <td>186518</td>\n",
       "      <td>2142-02-16 16:33:00</td>\n",
       "      <td>2142-02-21 16:38:00</td>\n",
       "      <td>NaT</td>\n",
       "      <td>EMERGENCY</td>\n",
       "      <td>TRANSFER FROM HOSP/EXTRAM</td>\n",
       "      <td>SNF</td>\n",
       "      <td>Medicare</td>\n",
       "      <td>ENGL</td>\n",
       "      <td>CATHOLIC</td>\n",
       "      <td>WIDOWED</td>\n",
       "      <td>WHITE</td>\n",
       "      <td>NaT</td>\n",
       "      <td>NaT</td>\n",
       "      <td>TRANSIENT ISCHEMIC ATTACK</td>\n",
       "      <td>0</td>\n",
       "      <td>1</td>\n",
       "      <td>15</td>\n",
       "      <td>None</td>\n",
       "      <td>8</td>\n",
       "      <td>CSRU</td>\n",
       "      <td>2</td>\n",
       "      <td>VSURG</td>\n",
       "      <td>0</td>\n",
       "      <td>0</td>\n",
       "      <td>Inactive</td>\n",
       "      <td>Discharged</td>\n",
       "      <td>8.0</td>\n",
       "      <td>Acknowledged</td>\n",
       "      <td>2142-02-20 11:07:11</td>\n",
       "      <td>2142-02-20 11:07:11</td>\n",
       "      <td>2142-02-20 11:14:57</td>\n",
       "      <td>2142-02-20 15:10:27</td>\n",
       "      <td>CSRU</td>\n",
       "      <td>CSRU</td>\n",
       "      <td>15</td>\n",
       "      <td>15</td>\n",
       "      <td>2142-02-19 17:18:30</td>\n",
       "      <td>2142-02-20 14:47:40</td>\n",
       "      <td>0.8953</td>\n",
       "      <td>Resp</td>\n",
       "      <td>94002</td>\n",
       "      <td>94002</td>\n",
       "      <td>None</td>\n",
       "      <td>Medicine</td>\n",
       "      <td>Pulmonary</td>\n",
       "      <td>VENT MGMT, 1ST DAY (INVASIVE)</td>\n",
       "      <td>2142-02-16 16:34:18</td>\n",
       "      <td>None</td>\n",
       "      <td>VSURG</td>\n",
       "      <td>4</td>\n",
       "      <td>9604</td>\n",
       "      <td>0 days 03:55:30</td>\n",
       "      <td>3.9</td>\n",
       "    </tr>\n",
       "    <tr>\n",
       "      <th>4149</th>\n",
       "      <td>F</td>\n",
       "      <td>2055-07-17</td>\n",
       "      <td>2144-01-23</td>\n",
       "      <td>NaT</td>\n",
       "      <td>2144-01-23</td>\n",
       "      <td>1</td>\n",
       "      <td>58917</td>\n",
       "      <td>99814</td>\n",
       "      <td>186518</td>\n",
       "      <td>2142-02-16 16:33:00</td>\n",
       "      <td>2142-02-21 16:38:00</td>\n",
       "      <td>NaT</td>\n",
       "      <td>EMERGENCY</td>\n",
       "      <td>TRANSFER FROM HOSP/EXTRAM</td>\n",
       "      <td>SNF</td>\n",
       "      <td>Medicare</td>\n",
       "      <td>ENGL</td>\n",
       "      <td>CATHOLIC</td>\n",
       "      <td>WIDOWED</td>\n",
       "      <td>WHITE</td>\n",
       "      <td>NaT</td>\n",
       "      <td>NaT</td>\n",
       "      <td>TRANSIENT ISCHEMIC ATTACK</td>\n",
       "      <td>0</td>\n",
       "      <td>1</td>\n",
       "      <td>15</td>\n",
       "      <td>None</td>\n",
       "      <td>8</td>\n",
       "      <td>CSRU</td>\n",
       "      <td>2</td>\n",
       "      <td>VSURG</td>\n",
       "      <td>0</td>\n",
       "      <td>0</td>\n",
       "      <td>Inactive</td>\n",
       "      <td>Discharged</td>\n",
       "      <td>8.0</td>\n",
       "      <td>Acknowledged</td>\n",
       "      <td>2142-02-20 11:07:11</td>\n",
       "      <td>2142-02-20 11:07:11</td>\n",
       "      <td>2142-02-20 11:14:57</td>\n",
       "      <td>2142-02-20 15:10:27</td>\n",
       "      <td>CSRU</td>\n",
       "      <td>CSRU</td>\n",
       "      <td>15</td>\n",
       "      <td>15</td>\n",
       "      <td>2142-02-19 17:18:30</td>\n",
       "      <td>2142-02-20 14:47:40</td>\n",
       "      <td>0.8953</td>\n",
       "      <td>ICU</td>\n",
       "      <td>99223</td>\n",
       "      <td>99223</td>\n",
       "      <td>None</td>\n",
       "      <td>Evaluation and management</td>\n",
       "      <td>Hospital inpatient services</td>\n",
       "      <td>None</td>\n",
       "      <td>2142-02-16 16:34:18</td>\n",
       "      <td>None</td>\n",
       "      <td>VSURG</td>\n",
       "      <td>5</td>\n",
       "      <td>9671</td>\n",
       "      <td>0 days 03:55:30</td>\n",
       "      <td>3.9</td>\n",
       "    </tr>\n",
       "    <tr>\n",
       "      <th>4150</th>\n",
       "      <td>F</td>\n",
       "      <td>2055-07-17</td>\n",
       "      <td>2144-01-23</td>\n",
       "      <td>NaT</td>\n",
       "      <td>2144-01-23</td>\n",
       "      <td>1</td>\n",
       "      <td>58917</td>\n",
       "      <td>99814</td>\n",
       "      <td>186518</td>\n",
       "      <td>2142-02-16 16:33:00</td>\n",
       "      <td>2142-02-21 16:38:00</td>\n",
       "      <td>NaT</td>\n",
       "      <td>EMERGENCY</td>\n",
       "      <td>TRANSFER FROM HOSP/EXTRAM</td>\n",
       "      <td>SNF</td>\n",
       "      <td>Medicare</td>\n",
       "      <td>ENGL</td>\n",
       "      <td>CATHOLIC</td>\n",
       "      <td>WIDOWED</td>\n",
       "      <td>WHITE</td>\n",
       "      <td>NaT</td>\n",
       "      <td>NaT</td>\n",
       "      <td>TRANSIENT ISCHEMIC ATTACK</td>\n",
       "      <td>0</td>\n",
       "      <td>1</td>\n",
       "      <td>15</td>\n",
       "      <td>None</td>\n",
       "      <td>8</td>\n",
       "      <td>CSRU</td>\n",
       "      <td>2</td>\n",
       "      <td>VSURG</td>\n",
       "      <td>0</td>\n",
       "      <td>0</td>\n",
       "      <td>Inactive</td>\n",
       "      <td>Discharged</td>\n",
       "      <td>8.0</td>\n",
       "      <td>Acknowledged</td>\n",
       "      <td>2142-02-20 11:07:11</td>\n",
       "      <td>2142-02-20 11:07:11</td>\n",
       "      <td>2142-02-20 11:14:57</td>\n",
       "      <td>2142-02-20 15:10:27</td>\n",
       "      <td>CSRU</td>\n",
       "      <td>CSRU</td>\n",
       "      <td>15</td>\n",
       "      <td>15</td>\n",
       "      <td>2142-02-19 17:18:30</td>\n",
       "      <td>2142-02-20 14:47:40</td>\n",
       "      <td>0.8953</td>\n",
       "      <td>Resp</td>\n",
       "      <td>94002</td>\n",
       "      <td>94002</td>\n",
       "      <td>None</td>\n",
       "      <td>Medicine</td>\n",
       "      <td>Pulmonary</td>\n",
       "      <td>VENT MGMT, 1ST DAY (INVASIVE)</td>\n",
       "      <td>2142-02-16 16:34:18</td>\n",
       "      <td>None</td>\n",
       "      <td>VSURG</td>\n",
       "      <td>5</td>\n",
       "      <td>9671</td>\n",
       "      <td>0 days 03:55:30</td>\n",
       "      <td>3.9</td>\n",
       "    </tr>\n",
       "  </tbody>\n",
       "</table>\n",
       "<p>3736 rows × 62 columns</p>\n",
       "</div>"
      ],
      "text/plain": [
       "     gender        dob        dod dod_hosp    dod_ssn  expire_flag  row_id  \\\n",
       "14        F 2090-12-25 2176-04-27      NaT 2176-04-27            1     363   \n",
       "15        F 2090-12-25 2176-04-27      NaT 2176-04-27            1     363   \n",
       "16        F 2132-06-06        NaT      NaT        NaT            0     414   \n",
       "17        F 2132-06-06        NaT      NaT        NaT            0     414   \n",
       "18        F 2132-06-06        NaT      NaT        NaT            0     414   \n",
       "...     ...        ...        ...      ...        ...          ...     ...   \n",
       "4146      F 2055-07-17 2144-01-23      NaT 2144-01-23            1   58917   \n",
       "4147      F 2055-07-17 2144-01-23      NaT 2144-01-23            1   58917   \n",
       "4148      F 2055-07-17 2144-01-23      NaT 2144-01-23            1   58917   \n",
       "4149      F 2055-07-17 2144-01-23      NaT 2144-01-23            1   58917   \n",
       "4150      F 2055-07-17 2144-01-23      NaT 2144-01-23            1   58917   \n",
       "\n",
       "      subject_id  hadm_id           admittime           dischtime deathtime  \\\n",
       "14           286   135917 2176-04-10 20:45:00 2176-04-12 16:41:00       NaT   \n",
       "15           286   135917 2176-04-10 20:45:00 2176-04-12 16:41:00       NaT   \n",
       "16           325   155989 2190-01-05 07:15:00 2190-01-16 13:36:00       NaT   \n",
       "17           325   155989 2190-01-05 07:15:00 2190-01-16 13:36:00       NaT   \n",
       "18           325   155989 2190-01-05 07:15:00 2190-01-16 13:36:00       NaT   \n",
       "...          ...      ...                 ...                 ...       ...   \n",
       "4146       99814   186518 2142-02-16 16:33:00 2142-02-21 16:38:00       NaT   \n",
       "4147       99814   186518 2142-02-16 16:33:00 2142-02-21 16:38:00       NaT   \n",
       "4148       99814   186518 2142-02-16 16:33:00 2142-02-21 16:38:00       NaT   \n",
       "4149       99814   186518 2142-02-16 16:33:00 2142-02-21 16:38:00       NaT   \n",
       "4150       99814   186518 2142-02-16 16:33:00 2142-02-21 16:38:00       NaT   \n",
       "\n",
       "     admission_type         admission_location        discharge_location  \\\n",
       "14        EMERGENCY  TRANSFER FROM HOSP/EXTRAM  REHAB/DISTINCT PART HOSP   \n",
       "15        EMERGENCY  TRANSFER FROM HOSP/EXTRAM  REHAB/DISTINCT PART HOSP   \n",
       "16         ELECTIVE  PHYS REFERRAL/NORMAL DELI          HOME HEALTH CARE   \n",
       "17         ELECTIVE  PHYS REFERRAL/NORMAL DELI          HOME HEALTH CARE   \n",
       "18         ELECTIVE  PHYS REFERRAL/NORMAL DELI          HOME HEALTH CARE   \n",
       "...             ...                        ...                       ...   \n",
       "4146      EMERGENCY  TRANSFER FROM HOSP/EXTRAM                       SNF   \n",
       "4147      EMERGENCY  TRANSFER FROM HOSP/EXTRAM                       SNF   \n",
       "4148      EMERGENCY  TRANSFER FROM HOSP/EXTRAM                       SNF   \n",
       "4149      EMERGENCY  TRANSFER FROM HOSP/EXTRAM                       SNF   \n",
       "4150      EMERGENCY  TRANSFER FROM HOSP/EXTRAM                       SNF   \n",
       "\n",
       "     insurance language       religion marital_status ethnicity edregtime  \\\n",
       "14    Medicare     None       CATHOLIC        WIDOWED     WHITE       NaT   \n",
       "15    Medicare     None       CATHOLIC        WIDOWED     WHITE       NaT   \n",
       "16     Private     ENGL  NOT SPECIFIED        WIDOWED     WHITE       NaT   \n",
       "17     Private     ENGL  NOT SPECIFIED        WIDOWED     WHITE       NaT   \n",
       "18     Private     ENGL  NOT SPECIFIED        WIDOWED     WHITE       NaT   \n",
       "...        ...      ...            ...            ...       ...       ...   \n",
       "4146  Medicare     ENGL       CATHOLIC        WIDOWED     WHITE       NaT   \n",
       "4147  Medicare     ENGL       CATHOLIC        WIDOWED     WHITE       NaT   \n",
       "4148  Medicare     ENGL       CATHOLIC        WIDOWED     WHITE       NaT   \n",
       "4149  Medicare     ENGL       CATHOLIC        WIDOWED     WHITE       NaT   \n",
       "4150  Medicare     ENGL       CATHOLIC        WIDOWED     WHITE       NaT   \n",
       "\n",
       "     edouttime                     diagnosis  hospital_expire_flag  \\\n",
       "14         NaT           INFECTED RIGHT FOOT                     0   \n",
       "15         NaT           INFECTED RIGHT FOOT                     0   \n",
       "16         NaT  METASTATIC PANCREATIC CA/SDA                     0   \n",
       "17         NaT  METASTATIC PANCREATIC CA/SDA                     0   \n",
       "18         NaT  METASTATIC PANCREATIC CA/SDA                     0   \n",
       "...        ...                           ...                   ...   \n",
       "4146       NaT     TRANSIENT ISCHEMIC ATTACK                     0   \n",
       "4147       NaT     TRANSIENT ISCHEMIC ATTACK                     0   \n",
       "4148       NaT     TRANSIENT ISCHEMIC ATTACK                     0   \n",
       "4149       NaT     TRANSIENT ISCHEMIC ATTACK                     0   \n",
       "4150       NaT     TRANSIENT ISCHEMIC ATTACK                     0   \n",
       "\n",
       "      has_chartevents_data  submit_wardid submit_careunit  curr_wardid  \\\n",
       "14                       0             57            SICU           57   \n",
       "15                       0             57            SICU           57   \n",
       "16                       1             57            None           54   \n",
       "17                       1             57            None           54   \n",
       "18                       1             57            None           54   \n",
       "...                    ...            ...             ...          ...   \n",
       "4146                     1             15            None            8   \n",
       "4147                     1             15            None            8   \n",
       "4148                     1             15            None            8   \n",
       "4149                     1             15            None            8   \n",
       "4150                     1             15            None            8   \n",
       "\n",
       "     curr_careunit  callout_wardid callout_service  request_cdiff  \\\n",
       "14            SICU               1           VSURG              0   \n",
       "15            SICU               1           VSURG              0   \n",
       "16            SICU              54            SURG              0   \n",
       "17            SICU              54            SURG              0   \n",
       "18            SICU              54            SURG              0   \n",
       "...            ...             ...             ...            ...   \n",
       "4146          CSRU               2           VSURG              0   \n",
       "4147          CSRU               2           VSURG              0   \n",
       "4148          CSRU               2           VSURG              0   \n",
       "4149          CSRU               2           VSURG              0   \n",
       "4150          CSRU               2           VSURG              0   \n",
       "\n",
       "      request_mrsa callout_status callout_outcome  discharge_wardid  \\\n",
       "14               0       Inactive      Discharged               0.0   \n",
       "15               0       Inactive      Discharged               0.0   \n",
       "16               0       Inactive      Discharged              54.0   \n",
       "17               0       Inactive      Discharged              54.0   \n",
       "18               0       Inactive      Discharged              54.0   \n",
       "...            ...            ...             ...               ...   \n",
       "4146             0       Inactive      Discharged               8.0   \n",
       "4147             0       Inactive      Discharged               8.0   \n",
       "4148             0       Inactive      Discharged               8.0   \n",
       "4149             0       Inactive      Discharged               8.0   \n",
       "4150             0       Inactive      Discharged               8.0   \n",
       "\n",
       "     acknowledge_status          createtime          updatetime  \\\n",
       "14         Acknowledged 2176-04-11 09:57:03 2176-04-11 09:57:03   \n",
       "15         Acknowledged 2176-04-11 09:57:03 2176-04-11 09:57:03   \n",
       "16         Acknowledged 2190-01-07 09:41:25 2190-01-07 09:41:25   \n",
       "17         Acknowledged 2190-01-07 09:41:25 2190-01-07 09:41:25   \n",
       "18         Acknowledged 2190-01-07 09:41:25 2190-01-07 09:41:25   \n",
       "...                 ...                 ...                 ...   \n",
       "4146       Acknowledged 2142-02-20 11:07:11 2142-02-20 11:07:11   \n",
       "4147       Acknowledged 2142-02-20 11:07:11 2142-02-20 11:07:11   \n",
       "4148       Acknowledged 2142-02-20 11:07:11 2142-02-20 11:07:11   \n",
       "4149       Acknowledged 2142-02-20 11:07:11 2142-02-20 11:07:11   \n",
       "4150       Acknowledged 2142-02-20 11:07:11 2142-02-20 11:07:11   \n",
       "\n",
       "         acknowledgetime         outcometime first_careunit last_careunit  \\\n",
       "14   2176-04-11 12:00:30 2176-04-12 16:55:02           SICU          SICU   \n",
       "15   2176-04-11 12:00:30 2176-04-12 16:55:02           SICU          SICU   \n",
       "16   2190-01-07 09:55:29 2190-01-08 18:25:02           SICU          SICU   \n",
       "17   2190-01-07 09:55:29 2190-01-08 18:25:02           SICU          SICU   \n",
       "18   2190-01-07 09:55:29 2190-01-08 18:25:02           SICU          SICU   \n",
       "...                  ...                 ...            ...           ...   \n",
       "4146 2142-02-20 11:14:57 2142-02-20 15:10:27           CSRU          CSRU   \n",
       "4147 2142-02-20 11:14:57 2142-02-20 15:10:27           CSRU          CSRU   \n",
       "4148 2142-02-20 11:14:57 2142-02-20 15:10:27           CSRU          CSRU   \n",
       "4149 2142-02-20 11:14:57 2142-02-20 15:10:27           CSRU          CSRU   \n",
       "4150 2142-02-20 11:14:57 2142-02-20 15:10:27           CSRU          CSRU   \n",
       "\n",
       "      first_wardid  last_wardid              intime             outtime  \\\n",
       "14              57           57 2176-04-10 20:46:09 2176-04-12 16:42:47   \n",
       "15              57           57 2176-04-10 20:46:09 2176-04-12 16:42:47   \n",
       "16              57           57 2190-01-05 20:28:18 2190-01-08 18:08:28   \n",
       "17              57           57 2190-01-05 20:28:18 2190-01-08 18:08:28   \n",
       "18              57           57 2190-01-05 20:28:18 2190-01-08 18:08:28   \n",
       "...            ...          ...                 ...                 ...   \n",
       "4146            15           15 2142-02-19 17:18:30 2142-02-20 14:47:40   \n",
       "4147            15           15 2142-02-19 17:18:30 2142-02-20 14:47:40   \n",
       "4148            15           15 2142-02-19 17:18:30 2142-02-20 14:47:40   \n",
       "4149            15           15 2142-02-19 17:18:30 2142-02-20 14:47:40   \n",
       "4150            15           15 2142-02-19 17:18:30 2142-02-20 14:47:40   \n",
       "\n",
       "         los costcenter cpt_cd  cpt_number cpt_suffix  \\\n",
       "14    1.8310        ICU  99253       99253       None   \n",
       "15    1.8310       Resp  94002       94002       None   \n",
       "16    2.9029        ICU  47130       47130       None   \n",
       "17    2.9029       Resp  94003       94003       None   \n",
       "18    2.9029        ICU  47130       47130       None   \n",
       "...      ...        ...    ...         ...        ...   \n",
       "4146  0.8953       Resp  94002       94002       None   \n",
       "4147  0.8953        ICU  99223       99223       None   \n",
       "4148  0.8953       Resp  94002       94002       None   \n",
       "4149  0.8953        ICU  99223       99223       None   \n",
       "4150  0.8953       Resp  94002       94002       None   \n",
       "\n",
       "                  sectionheader             subsectionheader  \\\n",
       "14    Evaluation and management                Consultations   \n",
       "15                     Medicine                    Pulmonary   \n",
       "16                      Surgery             Digestive system   \n",
       "17                     Medicine                    Pulmonary   \n",
       "18                      Surgery             Digestive system   \n",
       "...                         ...                          ...   \n",
       "4146                   Medicine                    Pulmonary   \n",
       "4147  Evaluation and management  Hospital inpatient services   \n",
       "4148                   Medicine                    Pulmonary   \n",
       "4149  Evaluation and management  Hospital inpatient services   \n",
       "4150                   Medicine                    Pulmonary   \n",
       "\n",
       "                         description        transfertime prev_service  \\\n",
       "14                              None 2176-04-10 20:46:09         None   \n",
       "15     VENT MGMT, 1ST DAY (INVASIVE) 2176-04-10 20:46:09         None   \n",
       "16                              None 2190-01-05 00:37:59         None   \n",
       "17    VENT MGMT;SUBSQ DAYS(INVASIVE) 2190-01-05 00:37:59         None   \n",
       "18                              None 2190-01-05 00:37:59         None   \n",
       "...                              ...                 ...          ...   \n",
       "4146   VENT MGMT, 1ST DAY (INVASIVE) 2142-02-16 16:34:18         None   \n",
       "4147                            None 2142-02-16 16:34:18         None   \n",
       "4148   VENT MGMT, 1ST DAY (INVASIVE) 2142-02-16 16:34:18         None   \n",
       "4149                            None 2142-02-16 16:34:18         None   \n",
       "4150   VENT MGMT, 1ST DAY (INVASIVE) 2142-02-16 16:34:18         None   \n",
       "\n",
       "     curr_service  seq_num icd9_code        timediff  timediff_hours  \n",
       "14          VSURG        1      8411 1 days 04:54:32             4.9  \n",
       "15          VSURG        1      8411 1 days 04:54:32             4.9  \n",
       "16           SURG        1       527 1 days 08:29:33             8.5  \n",
       "17           SURG        1       527 1 days 08:29:33             8.5  \n",
       "18           SURG        2      5122 1 days 08:29:33             8.5  \n",
       "...           ...      ...       ...             ...             ...  \n",
       "4146        VSURG        3      9904 0 days 03:55:30             3.9  \n",
       "4147        VSURG        4      9604 0 days 03:55:30             3.9  \n",
       "4148        VSURG        4      9604 0 days 03:55:30             3.9  \n",
       "4149        VSURG        5      9671 0 days 03:55:30             3.9  \n",
       "4150        VSURG        5      9671 0 days 03:55:30             3.9  \n",
       "\n",
       "[3736 rows x 62 columns]"
      ]
     },
     "execution_count": 17,
     "metadata": {},
     "output_type": "execute_result"
    }
   ],
   "source": [
    "data[data['timediff'].isna()==False] # success!"
   ]
  },
  {
   "cell_type": "markdown",
   "metadata": {},
   "source": [
    "**Creating other variables**"
   ]
  },
  {
   "cell_type": "code",
   "execution_count": 18,
   "metadata": {},
   "outputs": [],
   "source": [
    "# to do: convert times into intervals in hours (admittime to dischtime, edregtime to edouttime, intime to outtime)\n",
    "# new columns and then dummify: month of death (see deathtime code when graphed)\n",
    "# new columns: age when they arrived in hospital\n",
    "\n",
    "data['deathmonth'] = data['dod'].dt.month\n",
    "data['admit2disch_hours'] = (data['dischtime'].sub(data['admittime']).dt.seconds/60/60).round(1)\n",
    "data['edreg2edout_hours'] = (data['edouttime'].sub(data['edregtime']).dt.seconds/60/60).round(1)\n",
    "data['in2out_hours'] = (data['outtime'].sub(data['intime']).dt.seconds/60/60).round(1)\n",
    "\n",
    "data['age'] = data['admittime'].sub(data['dob']).astype('timedelta64[Y]').astype('int')\n",
    " \n",
    "\n",
    "\n"
   ]
  },
  {
   "cell_type": "code",
   "execution_count": 19,
   "metadata": {},
   "outputs": [],
   "source": [
    "timediff_noNA = data[data['timediff'].isna()==False]\n",
    "# timediff_noNA.drop_duplicates(subset=['subject_id','diagnosis'], keep='last')"
   ]
  },
  {
   "cell_type": "code",
   "execution_count": 20,
   "metadata": {},
   "outputs": [
    {
     "data": {
      "text/plain": [
       "5.707173447537473"
      ]
     },
     "execution_count": 20,
     "metadata": {},
     "output_type": "execute_result"
    }
   ],
   "source": [
    "min(timediff_noNA.timediff_hours)\n",
    "max(timediff_noNA.timediff_hours)\n",
    "(timediff_noNA.timediff_hours).mean()"
   ]
  },
  {
   "cell_type": "code",
   "execution_count": 21,
   "metadata": {},
   "outputs": [
    {
     "data": {
      "text/plain": [
       "Index(['gender', 'dob', 'dod', 'dod_hosp', 'dod_ssn', 'expire_flag', 'row_id',\n",
       "       'subject_id', 'hadm_id', 'admittime', 'dischtime', 'deathtime',\n",
       "       'admission_type', 'admission_location', 'discharge_location',\n",
       "       'insurance', 'language', 'religion', 'marital_status', 'ethnicity',\n",
       "       'edregtime', 'edouttime', 'diagnosis', 'hospital_expire_flag',\n",
       "       'has_chartevents_data', 'submit_wardid', 'submit_careunit',\n",
       "       'curr_wardid', 'curr_careunit', 'callout_wardid', 'callout_service',\n",
       "       'request_cdiff', 'request_mrsa', 'callout_status', 'callout_outcome',\n",
       "       'discharge_wardid', 'acknowledge_status', 'createtime', 'updatetime',\n",
       "       'acknowledgetime', 'outcometime', 'first_careunit', 'last_careunit',\n",
       "       'first_wardid', 'last_wardid', 'intime', 'outtime', 'los', 'costcenter',\n",
       "       'cpt_cd', 'cpt_number', 'cpt_suffix', 'sectionheader',\n",
       "       'subsectionheader', 'description', 'transfertime', 'prev_service',\n",
       "       'curr_service', 'seq_num', 'icd9_code', 'timediff', 'timediff_hours',\n",
       "       'deathmonth', 'admit2disch_hours', 'edreg2edout_hours', 'in2out_hours',\n",
       "       'age'],\n",
       "      dtype='object')"
      ]
     },
     "execution_count": 21,
     "metadata": {},
     "output_type": "execute_result"
    }
   ],
   "source": [
    "timediff_noNA.columns"
   ]
  },
  {
   "cell_type": "code",
   "execution_count": 22,
   "metadata": {},
   "outputs": [],
   "source": [
    "# Get the last of each sequence\n",
    "timediff_noNA = timediff_noNA.groupby(['subject_id']).last()"
   ]
  },
  {
   "cell_type": "markdown",
   "metadata": {},
   "source": [
    "Limiting each patient to only one row using their final procedure cuts down our dataset by a lot."
   ]
  },
  {
   "cell_type": "code",
   "execution_count": 23,
   "metadata": {},
   "outputs": [
    {
     "data": {
      "text/plain": [
       "(790, 66)"
      ]
     },
     "execution_count": 23,
     "metadata": {},
     "output_type": "execute_result"
    }
   ],
   "source": [
    "timediff_noNA.shape"
   ]
  },
  {
   "cell_type": "markdown",
   "metadata": {},
   "source": [
    "-----------------------------------------------------------------------"
   ]
  },
  {
   "cell_type": "markdown",
   "metadata": {},
   "source": [
    "## Exploratory Data Analysis"
   ]
  },
  {
   "cell_type": "markdown",
   "metadata": {},
   "source": [
    "##### Initial logic checks:\n",
    "\n",
    "While we deduped the initial dataset and isolated it to the last procedure the patient had before discharge, we still have lots to do to inspect and clean our data.  \n",
    "\n",
    "1) Look to see if data makes sense. Check if there are any patients where their date of death (dod) is before date of birth (dob), is edregtime before edouttime?\n",
    "\n",
    "2) If there are any of the times that are out of order (besides date of birth), we can flag those as administrative errors  \n"
   ]
  },
  {
   "cell_type": "code",
   "execution_count": 24,
   "metadata": {},
   "outputs": [
    {
     "data": {
      "text/plain": [
       "array([False])"
      ]
     },
     "execution_count": 24,
     "metadata": {},
     "output_type": "execute_result"
    }
   ],
   "source": [
    "# data.gender.unique()\n",
    "\n",
    "from datetime import datetime, timedelta \n",
    "# truth = ((data.dod.dt.date-data.dob.dt.date)<timedelta(0))\n",
    "# truth = ((data.edouttime.dt.date-data.edregtime.dt.date)<timedelta(0))\n",
    "# truth = ((data.updatetime.dt.date-data.createtime.dt.date)<timedelta(0))\n",
    "truth = ((timediff_noNA.outtime.dt.date-timediff_noNA.intime.dt.date)<timedelta(0))\n",
    "truth.unique()\n",
    "\n"
   ]
  },
  {
   "cell_type": "markdown",
   "metadata": {},
   "source": [
    "If we have logical errors, we would see some negative values in the subtraction of the two dates and therefore the array would have `True` values.  \n",
    "\n",
    "We do have issues with the years in the `dob` and `dod` variables corresponding to date of birth and date of death. We may have to discard these as there's no better wage to ascertain age."
   ]
  },
  {
   "cell_type": "code",
   "execution_count": 25,
   "metadata": {},
   "outputs": [
    {
     "data": {
      "text/plain": [
       "subject_id\n",
       "286   2090-12-25\n",
       "325   2132-06-06\n",
       "423   2091-05-22\n",
       "443   2088-11-09\n",
       "485   2129-12-24\n",
       "Name: dob, dtype: datetime64[ns]"
      ]
     },
     "execution_count": 25,
     "metadata": {},
     "output_type": "execute_result"
    }
   ],
   "source": [
    "timediff_noNA['dob'].head()"
   ]
  },
  {
   "cell_type": "code",
   "execution_count": 26,
   "metadata": {
    "scrolled": false
   },
   "outputs": [
    {
     "data": {
      "text/plain": [
       "(790, 66)"
      ]
     },
     "execution_count": 26,
     "metadata": {},
     "output_type": "execute_result"
    }
   ],
   "source": [
    "# At this time 611 rows of data\n",
    "timediff_noNA.shape"
   ]
  },
  {
   "cell_type": "code",
   "execution_count": 27,
   "metadata": {},
   "outputs": [],
   "source": [
    "timediff_noNA['marital_status'] = timediff_noNA['marital_status'].replace([None,'UNKNOWN (DEFAULT)'], 'UNKNOWN_MARITAL')\n",
    "timediff_noNA['marital_status'] = timediff_noNA['marital_status'].replace(['WIDOWED', 'DIVORCED', 'SEPARATED'], \"SINGLE\")\n",
    "\n",
    "\n",
    "\n",
    "timediff_noNA['ethnicity'] = timediff_noNA['ethnicity'].replace(['UNKNOWN/NOT SPECIFIED',\n",
    "                                                                           'PATIENT DECLINED TO ANSWER',\n",
    "                                                                          'UNABLE TO OBTAIN'], 'UNKNOWN_ETHNICITY')\n",
    "timediff_noNA['ethnicity'] = timediff_noNA['ethnicity'].replace(['ASIAN - CHINESE'], 'ASIAN')\n",
    "timediff_noNA['ethnicity'] = timediff_noNA['ethnicity'].replace(['HISPANIC OR LATINO',\n",
    "                                                                           'HISPANIC/LATINO - GUATEMALAN',\n",
    "                                                                           'HISPANIC/LATINO - PUERTO RICAN',\n",
    "                                                                           'HISPANIC/LATINO - DOMINICAN',\n",
    "                                                                          'WHITE - BRAZILIAN'], 'HISPANIC_LATINO')\n",
    "timediff_noNA['ethnicity'] = timediff_noNA['ethnicity'].replace(['BLACK/AFRICAN AMERICAN',\n",
    "                                                                          'BLACK/AFRICAN',\n",
    "                                                                           'BLACK/CAPE VERDEAN'], 'BLACK')\n",
    "\n",
    "timediff_noNA['ethnicity'] = timediff_noNA['ethnicity'].replace(['MULTI RACE ETHNICITY'],'MIXED_ETHNICITY')\n",
    "timediff_noNA['ethnicity'] = timediff_noNA['ethnicity'].replace(['OTHER'],'OTHER_ETHNICITY')\n",
    "\n",
    "timediff_noNA['ethnicity'] = timediff_noNA['ethnicity'].replace(['ASIAN', 'BLACK', 'OTHER_ETHNICITY',\n",
    "       'HISPANIC_LATINO', 'ASIAN - VIETNAMESE', 'MIXED_ETHNICITY',\n",
    "       'WHITE - OTHER EUROPEAN', 'AMERICAN INDIAN/ALASKA NATIVE',\n",
    "       'PORTUGUESE', 'MIDDLE EASTERN'], \"NONWHITE\")\n",
    "\n",
    "timediff_noNA['language'] = timediff_noNA['language'].replace([None],'UNKNOWN')\n",
    "\n",
    "timediff_noNA['description'] = timediff_noNA['description'].replace([None],'NOT APPLICABLE')\n",
    "\n",
    "# timediff_noNA['religion'] = timediff_noNA['religion'].replace('UNOBTAINABLE','NOT SPECIFIED')\n",
    "\n",
    "timediff_noNA['gender'] = timediff_noNA['gender'].replace('F', 0)\n",
    "timediff_noNA['gender'] = timediff_noNA['gender'].replace('M', 1)"
   ]
  },
  {
   "cell_type": "code",
   "execution_count": 28,
   "metadata": {},
   "outputs": [],
   "source": [
    "timediff_noNA['religion'] = timediff_noNA['religion'].replace(['PROTESTANT QUAKER', 'OTHER', 'CATHOLIC',\n",
    "       'EPISCOPALIAN', 'JEWISH', 'GREEK ORTHODOX', 'ROMANIAN EAST. ORTH',\n",
    "       'CHRISTIAN SCIENTIST', 'BUDDHIST', 'UNITARIAN-UNIVERSALIST',\n",
    "       \"JEHOVAH'S WITNESS\", 'MUSLIM', 'HINDU'], 1)\n",
    "\n",
    "timediff_noNA['religion'] = timediff_noNA['religion'].replace(['UNOBTAINABLE', 'NOT SPECIFIED'], 0)"
   ]
  },
  {
   "cell_type": "code",
   "execution_count": 29,
   "metadata": {},
   "outputs": [
    {
     "data": {
      "text/plain": [
       "array([1, 0])"
      ]
     },
     "execution_count": 29,
     "metadata": {},
     "output_type": "execute_result"
    }
   ],
   "source": [
    "timediff_noNA['religion'].unique()"
   ]
  },
  {
   "cell_type": "code",
   "execution_count": 30,
   "metadata": {
    "scrolled": true
   },
   "outputs": [],
   "source": [
    "timediff_noNA['diagnosis_categories'] = timediff_noNA.loc[:,'diagnosis']"
   ]
  },
  {
   "cell_type": "code",
   "execution_count": 31,
   "metadata": {},
   "outputs": [],
   "source": [
    "timediff_noNA['diagnosis_categories'] = timediff_noNA['diagnosis_categories'].replace([' PERFORATED DIVERTICULITIS STATUS/POST HARTMANN PROCEDURE/SDA',\n",
    "                                                                            'ABDOMINAL ABSCESS',\n",
    "                                                                            'ABSCESS OF GALLSTONES/SDA',\n",
    "                                                                            \"BARRETT'S ESOPHAGUS/SDA\",\n",
    "                                                                          'ABDOMINAL INFECTION',\n",
    "                                                                           'ABDOMINAL PAIN',\n",
    "                                                                           'ACUTE CHOLECYSTITIS',\n",
    "                                                                            'ADRENAL MASS/SDA',\n",
    "                                                                           'BOWEL OBSTRUCTION',\n",
    "                                                                           'BOWEL OBSTRUCTION;FAILURE TO THRIVE',\n",
    "                                                                           'CHOLANGITIS','CHOLANGITIS ABSCESS',\n",
    "                                                                            'CHOLECYSTITIS','CHRONIC INTERSISTIAL CYSTISTIS/SDA',\n",
    "                                                                             'COLON CA/SDA','COLON TUMOR BENIGN/SDA','ESOPHAGEAL FOREIGN BODY',\n",
    "                                                                            'FOREIGN BODY IN ESOPHAGUS',\n",
    "                                                                                      'FOREIGN BODY IN STOMACH',\n",
    "                                                                                      'FOREIGN BODY INGESTION',\n",
    "                                                                                      'GASTROINTESTINAL BLEED',\n",
    "                                                                                      'GI BLEED',\n",
    "                                                                                      'HEMATURIA;BLADDER BLEED',\n",
    "                                                                                      'HEMOPERITONEUM',\n",
    "                                                                                      'HEMOPTYSIS',\n",
    "                                                                                      'ISCHEMIC BOWEL; HERNIA',\n",
    "                                                                            'LIVER LACERATION',\n",
    "                                                                            'LOWER GASTROINTESTINAL BLEED',\n",
    "                                                                            'LOWER GI BLEED',\n",
    "                                                                            'NEED GI SCOPE',\n",
    "                                                                            'PANCREATIC ABCESS',\n",
    "                                                                            'PANCREATITIS',\n",
    "                                                                            'RECTAL BLEEDING',\n",
    "                                                                            'RUPTURED DUODENAL ULCER',\n",
    "                                                                            'SMALL BOWEL OBSTRUCTION',\n",
    "                                                                            'SPLEENIC LACERATION',\n",
    "                                                                            'UPPER GASTROINTESTINAL BLEED',\n",
    "                                                                            'UPPER GI BLEED',\n",
    "                                                                            'UPPER GI BLEED;TELEMETRY',\n",
    "                                                                            'CHRONIC INTERSISTIAL CYSTISTIS/SDA','COLON CA/SDA','COLON TUMOR BENIGN/SDA', \n",
    "                                                                                       \"CROHN'S /SDA\",\"CROHN'S DISEASE/SDA\",'ESOPHAGEAL CA/SDA',\n",
    "                                                                                       'GASTRIC FUNDAL VARICES STAGE 4/SDA',\n",
    "                                                                                       'GASTRIC MASS/SDA',\n",
    "                                                                                       'GERD/SDA','INCISIONAL HERNIA/SDA','LARGE ABDOMINAL MASS/SDA','LIVER MASS/SDA',\n",
    "                                                                                       'LOWER GI BLEED/SDA','MORBID OBESITY;INCISIONAL HERNIA;GALLSTONES/SDA',\n",
    "                                                                                       'PANCREATIC CA/SDA','PANCREATIC MASS/SDA','NON HEALING ULCER','STOMACH CA/SDA',\n",
    "                                                                                       'VENTRAL HERNIA/SDA','SUPER RENAL ANEURYSM/SDA',\n",
    "                                                                                      \"BARRET'S ESOPHAGUS/SDA\",\"ESOPHAGEAL CA AND DOWN'S SYNDROME/SDA\",\n",
    "                                                                                       'PEPTIC ULCER;HIATIAL HERNIA/SDA','SPLENIC RUPTURE'],'GI')\n",
    "\n",
    "timediff_noNA['diagnosis_categories'] = timediff_noNA['diagnosis_categories'].replace(['AAA\\\\AORTIC VALVE REPLACEMENT;ASCENDING AORTIC  REPLACEMENT;AORTIC ARCH REPLACEMENT;DHCA/SDA',\n",
    "                                                                            'ABDOMINAL AORTIC ANEURYSM/SDA',\n",
    "                                                                            'ABDOMINAL AORTIC ANEURYSM',\n",
    "                                                                           'ABDOMINAL AORTIC ANEURYSM;',\n",
    "                                                                           'ABDOMINAL AORTIC ANURISM REPAIR',\n",
    "                                                                            'ACENDING AORTIC ANEYRYS\\\\BENTAL PROCEDURE /SDA',\n",
    "                                                                            'ACUTE CORONARY SYNDROME',\n",
    "                                                                           'ACUTE CORONARY SYNDROME\\\\CATH',\n",
    "                                                                           'ACUTE MYOCARDIAL INFARCTION',\n",
    "                                                                           'ACUTE SUBDORAL HEMATOMA',\n",
    "                                                                           'ACUTE SUBDURAL HEMATOMA',\n",
    "                                                                            'ACUTE CORONARY ARTERY DISEASE\\\\CORONARY ARTERY BYPASS GRAFT ',\n",
    "                                                                          'ALCOHOL WITHDRAWL;CARDIOMYOPATHY;VENTRICULAR TACHYCARDIA',\n",
    "                                                                           'ANGINA;+ETT','AORTIC DISSECTION',\n",
    "                                                                           'AORTIC INSUFFICIENCY','AORTIC STENISIS',\n",
    "                                                                           'AORTIC STENOSIS',\n",
    "                                                                           'AORTIC STENOSIS;CORONARY ARTERY DISEASE\\\\AORTIC ROOT REPLACEMENT REPAIR;? ASCENDING AORTIC REPLACEMENT',\n",
    "                                                                           'AORTIC VALVE ENDOCARDITIS;AORTIC INSUFFICIENCY\\\\CATH',\n",
    "                                                                           'ATRIAL TACHYCARDIA',\n",
    "                                                                            'AORTIC INSUFFICIENCY & ENLARGEMENT\\\\AORTIC VALVE REPLACEMENT /SDA',\n",
    "                                                                             'AORTIC INSUFFICIENCY\\\\AORTIC AND MITRAL VALVE REPLACEMENT /SDA',\n",
    "                                                                             'AORTIC INSUFFICIENCY\\\\AORTIC VALVE REPLACEMENT /SDA',\n",
    "                                                                             'AORTIC INSUFFICIENCY\\\\BENTAL PROCEDURE; REPLACING ASCENDING & HEMI-ARCH AORTA; ? CABG W/DEEP HYPOTHERMIC ARREST/SDA',\n",
    "                                                                             'AORTIC STENOSIS; CAD\\\\AORTIC VALVE REPLACEMENT; POSSIBLE CORONARY ARTERY BYPASS GRAFT & MAZE',\n",
    "                                                                             'AORTIC STENOSIS;MR\\\\ AORTIC AND MITRAL VALVE REPLACEMENT',\n",
    "                                                                            'AORTIC STENOSIS\\\\? CORONARY ARTERY BYPASS GRAFT WITH AVR /SDA',\n",
    "                                                                            'AORTIC STENOSIS\\\\AORTIC AND MITRAL VALVE REPLACEMENT ',\n",
    "                                                                         'AORTIC STENOSIS\\\\AORTIC AND MITRAL VALVE REPLACEMENT  BENTAL PROCEDURE /SDA',\n",
    "                                                                        'AORTIC STENOSIS\\\\AORTIC AND MITRAL VALVE REPLACEMENT /SDA',\n",
    "                                                                        'AORTIC STENOSIS\\\\AORTIC VALVE REPLACEMENT ',\n",
    "                                                                         'AORTIC STENOSIS\\\\AORTIC VALVE REPLACEMENT  ? BENTAL PROCEDURE ',\n",
    "                                                                         'AORTIC STENOSIS\\\\AORTIC VALVE REPLACEMENT /SDA',\n",
    "                                                                         'AORTIC STENOSIS\\\\AORTIC VALVE REPLACEMENT REDO /SDA',\n",
    "                                                                        'AORTIC STENOSIS\\\\AORTIC VALVE REPLACEMENT WITH HOMOGRAFT /SDA',\n",
    "                                                                         'AORTIC STENOSIS\\\\AORTIC VALVE REPLACEMENT, ? MITRAL VALVEREPLACEMENT /SDA',\n",
    "                                                                         'AORTIC STENOSIS\\\\AORTIC VALVE REPLACEMENT/SDA',\n",
    "                                                                         'AORTIC STENOSIS\\\\AORTIC VALVE REPLACEMENT; ? CORONARY ARTERY BYPASS GRAFT /SDA',\n",
    "                                                                         'AORTIC STENOSIS\\\\AORTIC VALVE REPLACEMENT; RE-DO STERNOTOMY/SDA',\n",
    "                                                                         'AORTIC STENOSIS\\\\AORTIC VALVE REPLACEMENT;MITRAL VALVE REPLACEMENT/SDA',\n",
    "                                                                         'AORTIC STENOSIS\\\\BENTAL PROCEDURE; REDO STERNOTOMY/SDA',\n",
    "                                                                         'AORTIC STENOSIS\\\\CORONARY ARTERY BYPASS GRAFT WITH AVR ',\n",
    "                                                                         'AORTIC STENOSIS\\\\CORONARY ARTERY BYPASS GRAFT WITH AVR /SDA',\n",
    "                                                                         'AORTIC STENOSIS\\\\CORONARY ARTERY BYPASS GRAFT WITH AVR, ?BENTAL PROCEDURE /SDA',\n",
    "                                                                         'AORTIC STENSIS\\\\? CORONARY ARTERY BYPASS GRAFT WITH AVR REDO /SDA',\n",
    "                                                                         'AORTIC VALVE DISORDER\\\\AORTIC VALVE REPLACEMENT /SDA',\n",
    "                                                                         'AORTIC VALVE DISORDER\\\\AORTIC VALVE; ? ASCENDING AORTA REPLACEMENT /SDA',\n",
    "                                                                         'AORTIC VALVE DISORDER\\\\RESECTION OF AORTIC MASS VS AORTIC VALVE REPLACMENT',\n",
    "                                                                         'AORTIC VALVE INSUFFICENCY\\\\CORONARY ARTERY BYPASS GRAFT WITH AVR /SDA',\n",
    "                                                                         'AORTIC VALVE INSUFFICIENCY\\\\AORTIC VALVE REPLACEMENT ',\n",
    "                                                                         'AORTIC VALVE INSUFFICIENCY\\\\AORTIC VALVE REPLACEMENT /SDA',\n",
    "                                                                         'AORTIC VALVE INSUFFICIENCY\\\\AVR;? BENTAL PROCEDURE /SDA',\n",
    "                                                                         'AORTIC VALVE INSUFFIENCY\\\\AORTIC VALVE REPLACEMENT /SDA',\n",
    "                                                                        'AORTIC VALVE STENOSIS\\\\AORTIC VALVE REPLACEMENT /SDA',\n",
    "                                                                         'AORTIC INSUFFICIENCY\\\\CORONARY ARTERY BYPASS GRAFT WITH AVR /SDA',\n",
    "                                                                        'AORTIC STENOSIS\\\\AVR ? CABG','AORTIC VALVE DISEASE;CHF','ASCENDING AORTIC DISSECTION',\n",
    "                                                                        'ASD\\\\REPAIR ATRIAL SEPTAL DEFECT /SDA',\n",
    "                                                                         'ARTERIOVENOUS FISTULA/SDA',\n",
    "                                                                         'AR\\\\AORTIC VALVE REPLACEMENT/SDA',\n",
    "                                                                     'AS,\\\\  REDO STERNOTOMY AVR; ASCENDING AORTIC ARCH REPLACEMENT',\n",
    "                                                                         'ASCENDING AORTA\\\\BENTAL PROCEDURE /SDA',\n",
    "                                                                        'ASCENDING SINUS VENUS\\\\ REPAIR ANOMALY PULMONARY VEIN; ASCENDING AORTIC VALVE REPLACEMENT/SDA',\n",
    "                                                                         'ATHEROSCLEROSIS OF LEFT LOWER EXTREMITY',\n",
    "                                                                         'ATRIAL FIBRILLATION\\\\ATRIAL FIBRILLATION ABLATION',\n",
    "                                                                         'ATRIAL FIBRILLATION\\\\BILATERAL THORACOSCOPIC MINI MAZE PROCEDURE WITH LEFT ATRIAL APPENDAGE RESECTION -MEDTRONIC ABLATION SYSTEM ',\n",
    "                                                                         'ATRIAL FIBRILLATION\\\\MINI-MAZE PROCEDURE, PULMONARY VEIN ABLATION,  BILATERAL/SDA',\n",
    "                                                                         'ATRIAL FIBRILLATION\\\\THORACOSCOPIC MINI MAZE PROCEDURE /SDA',\n",
    "                                                                         'ATRIAL SEPTAL DEFECT;PATENT FORAMEN OVALE\\\\MINIMALLY INVASIVE PATENT FORAMEN OVALE ',\n",
    "                                                                         'ATRIAL SEPTAL DEFECT\\\\REPAIR ATRIAL SEPTAL DEFECT ',\n",
    "                                                                        'ATRIAL SEPTAL DEFECT\\\\REPAIR ATRIAL SEPTAL DEFECT LIMITED ACCESS MINIMALL INVASIVE/SDA',\n",
    "                                                                         'ATRIAL SEPTIC DEFECT\\\\REPAIR ATRIAL SEPTAL DEFECT; MINIMALLY INVASIVE',\n",
    "                                                                            'BRADYCARDIA',\n",
    "                                                                           'BRADYCARDIA;DIZZINESS',\n",
    "                                                                            'BICUSPID AORTIC VALVE DISRODER\\\\AORTIC VALVE REPLACEMENT ? BENTAL PROCEDURE ',\n",
    "                                                                             'BISCUPID VALVE;DILATED AORTIC ROOT',\n",
    "                                                                            'CAD, MR\\\\CORONARY ARTERY BYPASS GRAFT;MITRAL VALVE REPLACEMENT/SDA',\n",
    "                                                                            'CAD\\\\CORONARY ARTERY BYPASS GRAFT WITH MVR;MAZE',\n",
    "                                                                           'CAD,AORTIC VALVE DISEASE',\n",
    "                                                                           'CARDIOMYOPATHY',\n",
    "                                                                           'CAROTID STENOSIS',\n",
    "                                                                           'CAROTID STENOSIS LEFT',\n",
    "                                                                           'CAROTID STENOSIS\\\\CAROTID ANGIOGRAPHY',\n",
    "                                                                           'CHEST PAIN',\n",
    "                                                                           'CHEST PAIN/CATH',\n",
    "                                                                           'CHEST PAIN;ABNORMAL ECHO;ADNORMAL EKG\\\\CARDIAC CATH',\n",
    "                                                                           'CHEST PAIN;ANGINA PECTORIS\\\\CARDIAC CATH',\n",
    "                                                                           'CHEST PAIN;NON-Q WAVE MI',\n",
    "                                                                           'CHEST PAIN;RULE OUT CORONARY ARTERY DISEASE;ASPIRIN ALLERGY\\\\LEFT HEART CATHETERIZATION',\n",
    "                                                                           'CHEST PAIN;UNSTABLE ANGINA',\n",
    "                                                                           'CHEST PAIN\\\\ASPIRIN DESENSITIZATION;CATH',\n",
    "                                                                           'CHEST PAIN\\\\CARDIAC CATH',\n",
    "                                                                           'CHEST PAIN\\\\CARDIAC CATHETERIZATION',\n",
    "                                                                           'CHEST PAIN\\\\CATH',\n",
    "                                                                            'CAROTID STENOSIS/SDA',\n",
    "                                                                            'CLAUDICATION\\\\BILATERAL ANGIOGRAM WITH RUN-OFFS',\n",
    "                                                                            'COMPLETE HEART BLOCK',\n",
    "                                                                            'CONGESTIVE HEART FAILURE',\n",
    "                                                                            'CONGESTIVE HEART FAILURE/MITRAL REGURGITATION',\n",
    "                                                                            'CONGESTIVE HEART FAILURE;CORONARY ARTERY DISEASE',\n",
    "                                                                            'CONGESTIVE HEART FAILURE;DYSPNEA\\\\CATH',\n",
    "                                                                            'CONGESTIVE HEART FAILURE;TELEMETRY;CORONARY ARTERY DISEASE;DIABETES MELLITUS',\n",
    "                                                                            'CONGESTIVE HEART FAILURE\\\\CATH',\n",
    "                                                                            'CORONARY ARTERY DISEASE',\n",
    "                                                                            'CORONARY ARTERY DISEASE/CATH',\n",
    "                                                                            'CORONARY ARTERY DISEASE;+ETT\\\\CATH',\n",
    "                                                                            'CORONARY ARTERY DISEASE;ANGINA\\\\CATH',\n",
    "                                                                            'CORONARY ARTERY DISEASE;AORTIC STENOSIS',\n",
    "                                                                            'CORONARY ARTERY DISEASE;CHEST PAIN',\n",
    "                                                                            'CORONARY ARTERY DISEASE;DYSPNEA;COPD',\n",
    "                                                                            'CORONARY ARTERY DISEASE;HYPERTENSION\\\\CATH',\n",
    "                                                                            'CORONARY ARTERY DISEASE;PROGRESSIVE CHEST PAIN\\\\CATH',\n",
    "                                                                            'CORONARY ARTERY DISEASE;UNSTABLE ANGINA',\n",
    "                                                                            'CORONARY ARTERY DISEASE\\\\CORONARY ARTERY BYPASS GRAFT',\n",
    "                                                                            'CORONARY ARTERY DISEASE;CARDIACTAMPONADE',\n",
    " 'CORONARY ARTERY DISEASE;CP',\n",
    " 'CORONARY ARTERY DISEASE\\\\CORONARY ARTERY BYPASS GRAFTWITH AVR /SDA',\n",
    " 'DESCENDING THORACIC AORTA\\\\ AORTIC VALVE REPLACEMENT W/ ASCENDING AORTIC GRAFT BYPASS TO THORACIC DESCENDING AORTA/SDA',\n",
    "\n",
    "                                                                            'CONGESTIVE HEART FAILURE; ATRIAL FIBRILLATION; S/P CVA\\\\BIVENTRICULAR ICD IMPLANTATION/SDA',\n",
    " 'CONTRICTIVE PERICARDITIS\\\\PERICARDIAL STRIPPING/SDA',\n",
    " 'CORONARY ARTERY DISEASE; MR\\\\CORONARY ARTERY BYPASS GRAFT;MITRAL VALVE REPLACEMENT/SDA',\n",
    " 'CORONARY ARTERY DISEASE\\\\ CORONARY ARTERY BYPASS GRAFT/SDA',\n",
    " 'CORONARY ARTERY DISEASE\\\\AORTIC VALVE REPLACEMENT /SDA',\n",
    " 'CORONARY ARTERY DISEASE\\\\AORTIC VALVE REPLACEMENT, R.F. MAZE PROCEDURE /SDA',\n",
    " 'CORONARY ARTERY DISEASE\\\\CORONARY ARTERY BYPASS GRAFT ',\n",
    " 'CORONARY ARTERY DISEASE\\\\CORONARY ARTERY BYPASS GRAFT /SDA',\n",
    " 'CORONARY ARTERY DISEASE\\\\CORONARY ARTERY BYPASS GRAFT W/OPEN LUNG BIOPSY/SDA',\n",
    " 'CORONARY ARTERY DISEASE\\\\CORONARY ARTERY BYPASS GRAFT W/POSSIBLE ATRIAL SEPTAL DEFECT CLOSURE /SDA',\n",
    " 'CORONARY ARTERY DISEASE\\\\CORONARY ARTERY BYPASS GRAFT W/VENTRICULAR ASSIST DEVICE BACKUP/SDA',\n",
    " 'CORONARY ARTERY DISEASE\\\\CORONARY ARTERY BYPASS GRAFT WITH AVR ',\n",
    " 'CORONARY ARTERY DISEASE\\\\CORONARY ARTERY BYPASS GRAFT WITH AVR /SDA',\n",
    " 'CORONARY ARTERY DISEASE\\\\CORONARY ARTERY BYPASS GRAFT WITH AVR;  ? MITRAL VALVE REPLACEMENT /SDA',\n",
    " 'CORONARY ARTERY DISEASE\\\\CORONARY ARTERY BYPASS GRAFT WITH AVR;POSSIBLE MITRAL VALVE REPLACEMENT ',\n",
    " 'CORONARY ARTERY DISEASE\\\\CORONARY ARTERY BYPASS GRAFT WITH MVR ',\n",
    " 'CORONARY ARTERY DISEASE\\\\CORONARY ARTERY BYPASS GRAFT WITH MVR /SDA',\n",
    " 'CORONARY ARTERY DISEASE\\\\CORONARY ARTERY BYPASS GRAFT WITH MVR AND TVR/SDA',\n",
    " 'CORONARY ARTERY DISEASE\\\\CORONARY ARTERY BYPASS GRAFT WITH MVR LVAD',\n",
    " 'CORONARY ARTERY DISEASE\\\\CORONARY ARTERY BYPASS GRAFT WITH MVR; ? MAZE',\n",
    " 'CORONARY ARTERY DISEASE\\\\CORONARY ARTERY BYPASS GRAFT WITH MVR; ? OF MAZE PROCEDURE /SDA',\n",
    " 'CORONARY ARTERY DISEASE\\\\CORONARY ARTERY BYPASS GRAFT/SDA',\n",
    " 'CORONARY ARTERY DISEASE\\\\CORONARY ARTERY BYPASS GRAFT; ? AVR AND MVR/SDA',\n",
    " 'CORONARY ARTERY DISEASE\\\\CORONARY ARTERY BYPASS GRAFT; W/MVR/SDA',\n",
    " 'CORONARY ARTERY DISEASE\\\\CORONARY ARTERY BYPASS GRAFT; WITH AVR/SDA',\n",
    " 'CORONARY ARTERY DISEASE\\\\CORONARY ARTERY BYPASS GRAFT; WITH MVR/SDA',\n",
    " 'CORONARY ARTERY DISEASE\\\\HIBRID MINIMALY INVASIVE CORONARY ARTERY BYPASS GRAFT AND CORONARY STENTING /SDA',\n",
    " 'CORONARY ARTERY DISEASE\\\\MITRAL VALVE REPLACEMENT /SDA',\n",
    " 'CORONARY ARTERY DISEASE\\\\RE-DO CORONARY ARTERY BYPASS GRAFT WITH AVR ',\n",
    " 'CORONARY ARTERY DISEASE\\\\RIGHT VENTRICULAR OUTFLOW TRACK/PULMONIC ARTERY RECONSTRUCTION ? CORONARY ARTERY BYPASS GRAFT WITH AVR  ? TRISCUPID VALVE REPLACEMENT ',\n",
    " 'CORONARY ATHEROSCLEROSIS OF NATIVE CORONARY\\\\CORONARY ARTERY BYPASS GRAFT WITH MVR /SDA',\n",
    " 'CORONARY DISEASE\\\\CORONARY ARTERY BYPASS GRAFT /SDA','CVA\\\\ PATENT FORAMEN OVALE',\n",
    " 'DILATED ASCENDING AORTA\\\\AORTIC VALVE REPLACEMENT /SDA',\n",
    " 'DRUG REFRACTORY ATRIAL FIBRILLATION\\\\PULMONARY VEIN ISOLATION  **REMOTE WEST**/SDA', 'CLAUDICATION/SDA',\n",
    "                                                                            'CRITICAL AS , LEFT MAIN',\n",
    "                                                                            'END ST ELEVATED MYOCARDIAL INFARCTION',\n",
    "                                                                            'FOOT NUMBNESS;CLAUDICATION\\\\RIGHT LEG ANGIOGRAM',\n",
    "                                                                            'HEART BLOCK,NON STE MI',\n",
    "                                                                            'HYPOTENSION','ISCHEMIC FOOT',\n",
    "                                                                            'LEFT ANTERIOR DESCENDING ARTERY PERFERATION',\n",
    "                                                                            'LEFT ATRIAL TUMOR',\n",
    "                                                                            'LEFT CELEBRAL STENOSIS/SDA',\n",
    "                                                                            'MALFUCTION ICD','MITRAL REGURGITATION',\n",
    "                                                                            'MITRAL REGURGITATION;CHF',\n",
    "                                                                            'MITRAL VALVE DISEASE',\n",
    "                                                                            'MYOCARDIAL INFARCTION\\\\CATH',\n",
    "                                                                            'NON-ST SEGMENT ELEVATION MYOCARDIAL INFARCTION',\n",
    "                                                                            'NON-ST SEGMENT ELEVATION MYOCARDIAL INFARCTION\\\\CATH',\n",
    "                                                                            'PERF APPENDIX',\n",
    "                                                                            'PERICARDIAL EFFUSION',\n",
    "                                                                            'PERICARDIAL EFFUSION WITH TAMPONADE\\\\PERICARDIOCENTESIS',\n",
    "                                                                            'PERICARDIAL EFFUSION\\\\PERICARDIAL TAP/SDA',\n",
    "                                                                            'PNA/AFIB',\n",
    "                                                                            'POLYMORPHIC VENTRICULAR TACHYCARDIA\\\\CARDIAC CATH',\n",
    "                                                                            'PULSELESS LEFT FOOT',\n",
    "                                                                            'RECURRENT VENTRICULAR TACHYCARDIA;STATUS POST IMPLANTABLE CARDIOVERTER DEFIBRILLATOR FIRING\\\\VENTRICULAR TACHYCARDIA ABLATION',\n",
    "                                                                            'RUPTURED AORTIC PLAQUE',\n",
    "                                                                            'S/P ARREST',\n",
    "                                                                            'S/P CARDIAC ARREST',\n",
    "                                                                            'S/P VFIB ARREST',\n",
    "                                                                            'SDH/SAH',\n",
    "                                                                            'SPONTANEOUS SAH',\n",
    "                                                                            'ST ELEVATED MYOCARDIAL INFARCTION',\n",
    "                                                                            'ST ELEVATED MYOCARDIAL INFARCTION\\\\CARDIAC CATHETERIZATION',\n",
    "                                                                            'ST ELEVATION MI\\\\CATH',\n",
    "                                                                            'ST ELEVATION MYOCARDIAL INFARCTION\\\\CATH',\n",
    "                                                                            'ST SEGMENT MYOCARDIAL INFARCTION\\\\CATH',\n",
    "                                                                            'ST-SEGMENT ELEVATION MYOCARDIAL INFARCTION\\\\CATH',\n",
    "                                                                            'STEMI',\n",
    "                                                                            'STEMI\\\\CARDIAC CATH',\n",
    "                                                                            'STEMYOCARDIAL INFARCTION',\n",
    "                                                                            'STROKE/TIA',\n",
    "                                                                            'SUBARACHNOID HEMATOMA',\n",
    "                                                                            'SUBARACHNOID HEMORRHAGE',\n",
    "                                                                            'SUBARACHNOID HEMORRHAGE;SDH;TELEMETRY',\n",
    "                                                                            'SUBARRACHNOID HEMMORAGE',\n",
    "                                                                            'SUBDURAL',\n",
    "                                                                            'SUBDURAL HEMATOMA',\n",
    "                                                                            'SUBDURAL HEMATOMA;TELEMETRY',\n",
    "                                                                            'SUBDURAL HEMORRHAGE',\n",
    "                                                                            'SUBURAL HEMATOMA;TELEMETRY',\n",
    "                                                                            'SYMPTOMATIC BRADYCARDIA',\n",
    "                                                                            'SYNCOPE;TELEMETRY',\n",
    "                                                                            'THORACIC AORTIC ANEURYSM',\n",
    "                                                                            'TRANSIENT ISCHEMIC ATTACK',\n",
    "                                                                            'UNSTABLE ANGINA',\n",
    "                                                                            'VENTRICULAR SEPTAL D EFFECT',\n",
    "                                                                            'MITRAL REGURGITATION & RENAL INSUFFICIENY\\\\MITRAL VALVE REPLACEMENT  W/ ? MAZE',\n",
    "                                                                            'LARGE LEFT ATRIAL MASS\\\\ ATRIAL MYXOMA REMOVAL/SDA',\n",
    " 'LEFT MAIN CORONARY ARTERY DISEASE',\n",
    " 'MITRAL REGURGITATION\\\\MITRAL VALVE REPLACEMENT /SDA',\n",
    " 'MITRAL VALVE REGURGITATION\\\\MITRAL VALVE REPLACEMENT,HEART PORT MINIMALLY INVASIVE /SDA',\n",
    " 'MR\\\\MITRAL VALVE REPLACEMENT MINIMALLY INVASIVE APPROACH/SDA',\n",
    "'STROKE-TRANSIENT ISCHEMIC ATTACK',\n",
    " 'STROKE;TIA',\n",
    " 'SUBDURAL SUBARACHNOID',\n",
    " 'THORACIC AROTIC ANEURYSM',\n",
    "'VENTRICULAR TACHYCARDIA;TELEMETRY',\n",
    " 'MITRAL REGURGITATION\\\\AORTIC AND MITRAL VALVE REPLACEMENT /SDA',\n",
    " 'MITRAL REGURGITATION\\\\CORONARY ARTERY BYPASS GRAFT WITH MVR ',\n",
    " 'MITRAL REGURGITATION\\\\MINIMALLY INVASIVE MITRAL VALVE REPAIR VS REPLACEMENT/SDA',\n",
    " 'MITRAL REGURGITATION\\\\MINIMALLY INVASIVE MITRAL VALVE REPLACEMENT /SDA',\n",
    " 'MITRAL REGURGITATION\\\\MITRAL VALVE REPLACEMENT ',\n",
    " 'MITRAL REGURGITATION\\\\MITRAL VALVE REPLACEMENT MINIMALLY INVASIVE ',\n",
    " 'MITRAL REGURGITATION\\\\MITRAL VALVE REPLACEMENT, HEART PORT MINIMALLY INVASIVE VS STERNOTOMY/SDA',\n",
    " 'MITRAL REGURGITATION\\\\MITRAL VALVE REPLACEMENT,HEART PORT MINIMALLY INVASIVE /SDA',\n",
    " 'MITRAL REGURGITATION\\\\MITRAL VALVE REPLACEMENT,HEART PORT MINIMALLY INVASIVE w/ MAZE',\n",
    " 'MITRAL REGURGITATION\\\\MITRAL VALVE REPLACEMENT/CONCOMITANT MAZE/SDA',\n",
    " 'MITRAL REGURGITATION\\\\MITRAL VALVE REPLACEMENT; HEART PORT MINIMALLY INVASIVE/SDA',\n",
    " 'MITRAL REGURGITATION\\\\MITRAL VALVE REPLACEMENT; MAZE; LEFT ATRIAL APPENDAGE/SDA',\n",
    " 'MITRAL REGURGITATION\\\\MITRAL VALVE REPLACEMENT; W/RIGHT THORACTOMY MAZE',\n",
    " 'MITRAL VALVE DISEASE\\\\MITRAL VALVE REPLACEMENT,HEART PORT MINIMALLY INVASIVE; ? PATENT FORAMEN OVALE CLOSURE /SDA',\n",
    " 'MITRAL VALVE DISORDER\\\\AORTIC AND MITRAL VALVE REPLACEMENT;   THORACOSCOPIC MAZE PROCEDURE;  BRONCHOSCOPY FLEXIBLE DIAGNOSTIC /SDA',\n",
    " 'MITRAL VALVE DISORDER\\\\MITRAL VALVE REPLACEMENT /SDA',\n",
    " 'MITRAL VALVE INSUFFICENCY\\\\MITRAL VALVE REPLACEMENT /SDA',\n",
    " 'MITRAL VALVE INSUFFICIENT\\\\AORTIC VALVE REPLACEMENT /SDA',\n",
    " 'MITRAL VALVE PROLAPSE\\\\ MINIMALLY INVASIVE MVR ? OPEN MVR/SDA',\n",
    " 'MITRAL VALVE REGURGITATION\\\\REPAIR MITRAL VALVE /SDA',\n",
    "'MR\\\\MITRAL VALVE REPLACEMENT /SDA',\n",
    " 'MR\\\\MITRAL VALVE REPLACEMENT,HEART PORT MINIMALLY INVASIVE /SDA',\n",
    " 'MR\\\\MITRAL VALVE REPLACEMENT; ? CORONARY ARTERY BYPASS GRAFT ',\n",
    " 'MTIRAL REGURGITATION\\\\MINIMALLY INVASIVE MITRAL VALVE REPAIR/SDA',\n",
    " 'MVP\\\\MITRAL VALVE REPLACEMENT; HEART PORT MINIMALLY INVASIVE/SDA',\n",
    " 'MVR\\\\MITRAL VALVE REPLACEMENT /SDA',\n",
    "'PAROXYSMAL ATRIAL AFRIBILLATION\\\\MITRAL VALVE REPLACEMENT (FULL MAZE) /SDA',\n",
    "'PATENT FORAMEN OVALE\\\\PATENT FORAMEN OVALE CLOSURE',\n",
    " 'PATENT FORAMEN OVALE\\\\PATENT FORAMEN OVALE MINIMALLY INVASIVE ',\n",
    " 'PFO\\\\PATENT FORAMEN OVALE CLOSURE ',\n",
    " 'PFO\\\\PATENT FORAMEN OVALE;MINIMALLY INVASIVE',\n",
    "'PULMONARY VEIN INJURY\\\\THORACOSCOPIC MAZE PROCEDURE LEFT;MINI MAZE;BILATERAL MINI THORACOTOMY;PULMONARY VEIN ISOLATION;RESECTION OF LEFT ATRIAL APPENDAGE/SDA',\n",
    " 'REGURGITAION\\\\MITRAL VALVE REPLACEMENT/SDA',\n",
    "'RHEUMATIC HEART DISEASE\\\\MITRAL VALVE REPLACEMENT REDO  TRICUSPID VALVE REPLACEMENT /SDA',\n",
    " 'RIGHT CHOLESTEROL CYST/SDA',\n",
    "'S/P CABG\\\\STERNAL PLATING /SDA',\n",
    "'SEPTAL DEFECT\\\\PATENT FORAMEN OVALE MINIMALLY INVASIVE /SDA',\n",
    " 'SEPTAL DEFECT\\\\REPAIR ATRIAL SEPTAL DEFECT LIMITED ACCESS /SDA',\n",
    " 'SEVERE AS\\\\AORTIC VALVE REPLACEMENT/SDA',\n",
    " 'SHORTNESS OF BREADTH; HYPERTENSION; AFIBRILLATION\\\\MITRAL VALVE REPLACEMENT REDO /SDA',\n",
    "'THORACIC ANEURYSM',\n",
    " 'THORACIC ANEURYSM WITHOUT RUPTURE\\\\AORTIC VALVE REPLACEMENT /SDA',\n",
    " 'THORACIC ANEURYSM/SDA',\n",
    " 'THORACIC AORTIC ANEURYSM\\\\BENTAL PROCEDURE /SDA',\n",
    " 'VENTRICULAR TACHYCARDIA\\\\VENTRICULAR TACHYCARDIA ABLATION  **REMOTE WEST**'],'CARDIOVASCULAR')\n",
    "\n",
    "timediff_noNA['diagnosis_categories'] = timediff_noNA['diagnosis_categories'].replace(['ALTERED MENTAL STATUS',\n",
    "                                                                           'ALTERED MENTAL STATUS;TELEMETRY',\n",
    "                                                                            'ACOUSTIC NEUROMA LEFT EAR/SDA',\n",
    "                                                                            'ACOUSTIC NEUROMA, LEFT EAR/SDA',\n",
    "                                                                            'ANEURYSM/SDA',\n",
    "                                                                            'ANTERIOR COMMUNICATING ANEURYSM/SDA',\n",
    "                                                                           'ASCENDING THORASIC ANEURYSM',\n",
    "                                                                           'BRAIN MASS',\n",
    "                                                                           'BRAIN TUMOR',\n",
    "                                                                            'EPIDURAL BLEED',\n",
    "                                                                            'HYDROCEPHALUS','ICH',\n",
    "                                                                            'INTRACEREBRAL HEMORRHAGE',\n",
    "                                                                            'INTRACRANIAL BLEED',\n",
    "                                                                            'INTRACRANIAL HEMORRHAGE',\n",
    "                                                                            'INTRACRANIAL HEMORRHAGE;TELEMETRY',\n",
    "                                                                            'INTRACRANIAL MASS',\n",
    "                                                                            'INTRAPARENCHYMAL BLEED;TELEMETRY',\n",
    "                                                                            'INTRAPARENCHYMAL HEMORRHAGE;TELEMETRY',\n",
    "                                                                            'SEIZURE',\n",
    "                                                                            'SEIZURE-HYDROCEPHALUS',\n",
    "                                                                            'SEIZURE;SUBDURAL HEMORRHAGE',\n",
    "                                                                            'SPIANAL METASTASES',\n",
    "                                                                            'TRAUMA-HEAD INJURY',\n",
    "                                                                            'ENCEPHALOCLE/SDA','EPILEPSY/SDA''MYESTHENIA GRAVIS/SDA','LUMBAR STENOSIS/SDA','SUBDURAL HEMATOMA/SDA',\n",
    "                                                                            'TRAUMATIC SUBARACHNOID HEMORRHAGE',\n",
    "                                                                             'CEREBRAL ANEURYSM/SDA','EPILEPSY/SDA','MYESTHENIA GRAVIS/SDA'],'NEUROLOGICAL')\n",
    "\n",
    "\n",
    "timediff_noNA['diagnosis_categories'] = timediff_noNA['diagnosis_categories'].replace(['AIRWAY OBSTRUCTION',\n",
    "                                                                                      'HEMOTHORAX',\n",
    "                                                                                      'HYPOXIA',\n",
    "                                                                                      'MEDIASTINAL AIR',\n",
    "                                                                                      'PNEUMONIA',\n",
    "                                                                                      'PULMONARY EDEMA',\n",
    "                                                                                      'PULMONARY EMBOLIS',\n",
    "                                                                                      'RUPTURED DIAPHRAM',\n",
    "                                                                                      'TRACHEOBRONCHEAL MALACIA',\n",
    "                                                                                       'PLEURAL EFFUSION',\n",
    "                                                                                       'LEFT PLEURAL EFFUSION/SDA',\n",
    "                                                                                       'LEFT PLEURAL EFFUSION/SDA',\n",
    "                                                                                       'LUNG CA LEFT/SDA','LUNG NODULE/SDA',\n",
    "                                                                                       'LUNG NODULE; EPITHELIUM/SDA','RIGHT LOWER LOBE NODULE/SDA',\n",
    "                                                                                       'RIGHT UPPER LOBE NODULE/SDA'],'RESPIRATORY')\n",
    "\n",
    "\n",
    "timediff_noNA['diagnosis_categories'] = timediff_noNA['diagnosis_categories'].replace(['BLUNT TRAUMA',\n",
    "                                                                           'BOWEL PERFORATION',\n",
    "                                                                            'CEREBRAL EDEMA',\n",
    "                                                                           'CEREBROVASCULAR ACCIDENT',\n",
    "                                                                           'CHEST STAB WOUNDS',\n",
    "                                                                            'GUN SHOT WOUND',\n",
    "                                                                            'GUN SHOT WOUND TO HEAD',\n",
    "                                                                            'HEAD BLEED',\n",
    "                                                                            'HEAD INJURY',\n",
    "                                                                            'HEAD MAS',\n",
    "                                                                            'HEAD MASS',\n",
    "                                                                            'HEAD TRAUM',\n",
    "                                                                            'HEAD TRAUMA;ETOH',\n",
    "                                                                            'MOTOR VEHICLE ACCIDENT WITH UNSPECIFIED INJURIES',\n",
    "                                                                            'MOTOR VEHICLE ACCIDENT\\\\INJURIES',\n",
    "                                                                            'MULTIPLE STAB WOUNDS',\n",
    "                                                                             'FALL;RIB FX;UTI',\n",
    "                                                                            'LIVER LACERATION;S/P MOTOR VEHICLE ACCIDEMT',\n",
    "                                                                            'MULTIPLE TRAUMA',\n",
    "                                                                            'NECK HEMATOMA',\n",
    "                                                                            'ETOH INTOXICATION',\n",
    "                                                                            'ETOH INTOXICATION;INTUBATED',\n",
    "                                                                            'ETOH WITHDRAWAL',\n",
    "                                                                            'POLYSUBSTANCE OVERDOSE',\n",
    "                                                                            'TONSILLECTOMY BLEED',\n",
    "                                                                            'FAILED GRAFT/SDA',\n",
    "                                                                            'S/P FALL',\n",
    "                                                                            'S/P FALL; SPINE FX',\n",
    "                                                                            'S/P FALL;FACIAL FRACTURE',\n",
    "                                                                            'S/P GUN SHOT WOUND',\n",
    "                                                                            'S/P MOTOR VEHICLE ACCIDEMT',\n",
    "                                                                            'S/P MOTOR VEHICLE ACCIDENT',\n",
    "                                                                            'S/P PEDESTRIAN STRUCK:INTRACRANIAL HEMORRHAGE',\n",
    "                                                                            'S/P STAB WOUND',\n",
    "                                                                            'S/P STAB WOUNDS',\n",
    "                                                                            'STAB',\n",
    "                                                                            'STAB WOUND',\n",
    "                                                                            'STAB WOUND TO CHEST',\n",
    "                                                                            'STAB WOUND TO NECK',\n",
    "                                                                            'STAB WOUND TO THROAT',\n",
    "                                                                            'STATUS POST MOTOR VEHICLE ACCIDENT WITH INJURIES', 'GENERAL TRAUMA'],'GENERAL_TRAUMA')\n",
    "\n",
    "timediff_noNA['diagnosis_categories'] = timediff_noNA['diagnosis_categories'].replace(['ADENOCARCINOMA STOMACH/SDA',\n",
    "                                                                                        'BENIGN NEOPLASM RIB,STERNUM,& CLAVICLE/SDA',\n",
    "                                                                                       'BLADDER CANCER/SDA',\n",
    "                                                                                       'BRAIN TUMOR MALIGNANT/SDA',\n",
    "                                                                                       'BRAIN TUMOR/SDA',\n",
    "                                                                                       'BREAST CANCER/SDA',\n",
    "                                                                                       'CHOLANGIOCARCINOMA/SDA',\n",
    "                                                                                       'ESOPHAGEAL CANCER/SDA','ESOPHAGEL CANCER/SDA',\n",
    "                                                                                       'ESOPHOGEAL CANCER/SDA','HEPATOCELLULAR CARCINOMA/SDA',\n",
    "                                                                                       'MENINGIOMA/SDA','METASTATIC COLON CA TO LIVER/SDA','METASTATIC LESION ON SPINE/SDA',\n",
    "                                                                                       'METASTATIC PANCREATIC CA/SDA','OBSTRUCTING RECTAL CANCER','PROSTATE CA/SDA',\n",
    "                                                                                       'PROSTATE CANCER/SDA','RENAL CA/SDA','RIGHT COLON CANCER/SDA','RIGHT PERIATAL TUMOR/SDA',\n",
    "                                                                                       'SARCOMA SCALP/SDA'], 'ONCOLOGY')\n",
    "\n",
    "timediff_noNA['diagnosis_categories'] = timediff_noNA['diagnosis_categories'].replace(['CELLULITIS',\n",
    "                                                                                     'INFECTED RIGHT FOOT',\n",
    "                                                                                     'SEPSIS','GANGENE RIGHT LEG',\n",
    "                                                                                    'SEPSIS/CELLULITIS', 'WOUND INFECTION'],'INFECTIONS')\n",
    "\n",
    "\n",
    "timediff_noNA['diagnosis_categories'] = timediff_noNA['diagnosis_categories'].replace(['BLADDER RUPTURE',\n",
    "                                                                                      'BLADDER PERFORATION',\n",
    "                                                                                      'END STAGE LIVER DISEASE',\n",
    "                                                                                      'FEBRILE;HYPOTENSIVE',\n",
    "                                                                                      'FEVER',\n",
    "                                                                                      'HEADACHE',\n",
    "                                                                                      'OVERDOSE;TELEMETRY',\n",
    "                                                                                      'PELVIC FRACTURE',\n",
    "                                                                                      'PRESYNCOPE',\n",
    "                                                                                        'MORBID OBESITY/SDA',\n",
    "                                                                                       'RIGHT THIGH EXTENSIVE HETEROTOPIC OSSIFICATION/SDA',\n",
    "                                                                                       'SCOLIOSIS/SDA',\n",
    "                                                                                       'RETROPERITONEAL MASS/SDA','WEAKNESS'],'OTHER_DIAGNOSIS')\n",
    "\n",
    "\n"
   ]
  },
  {
   "cell_type": "code",
   "execution_count": 32,
   "metadata": {},
   "outputs": [
    {
     "data": {
      "text/plain": [
       "['CARDIOVASCULAR',\n",
       " 'GENERAL_TRAUMA',\n",
       " 'GI',\n",
       " 'INFECTIONS',\n",
       " 'NEUROLOGICAL',\n",
       " 'ONCOLOGY',\n",
       " 'OTHER_DIAGNOSIS',\n",
       " 'RESPIRATORY']"
      ]
     },
     "execution_count": 32,
     "metadata": {},
     "output_type": "execute_result"
    }
   ],
   "source": [
    "sorted(timediff_noNA.diagnosis_categories.unique())"
   ]
  },
  {
   "cell_type": "markdown",
   "metadata": {},
   "source": [
    "##### Visualizing distributions of our data"
   ]
  },
  {
   "cell_type": "code",
   "execution_count": 33,
   "metadata": {
    "scrolled": true
   },
   "outputs": [
    {
     "data": {
      "image/png": "[encoded data removed]",
      "text/plain": [
       "<Figure size 432x288 with 1 Axes>"
      ]
     },
     "metadata": {
      "needs_background": "light"
     },
     "output_type": "display_data"
    }
   ],
   "source": [
    "from scipy import stats\n",
    "import matplotlib.pylab as plt\n",
    "\n",
    "%matplotlib inline\n",
    "\n",
    "(timediff_noNA.gender).value_counts().plot(kind='bar')\n",
    "for index, value in enumerate(timediff_noNA.gender.value_counts()):\n",
    "    plt.text(index, value+5, str(value))\n",
    "    plt.title(\"Gender\")\n",
    "\n",
    "\n",
    "\n"
   ]
  },
  {
   "cell_type": "code",
   "execution_count": 34,
   "metadata": {},
   "outputs": [
    {
     "data": {
      "text/plain": [
       "Text(0.5, 1.0, 'Histogram of Patient Age when Admitted')"
      ]
     },
     "execution_count": 34,
     "metadata": {},
     "output_type": "execute_result"
    },
    {
     "data": {
      "image/png": "[encoded data removed]",
      "text/plain": [
       "<Figure size 432x288 with 1 Axes>"
      ]
     },
     "metadata": {
      "needs_background": "light"
     },
     "output_type": "display_data"
    }
   ],
   "source": [
    "timediff_noNA = timediff_noNA[~(timediff_noNA['age'] <= 0)] \n",
    "plt.hist(timediff_noNA.age) # check the weird values are just NA's in age\n",
    "plt.title(\"Histogram of Patient Age when Admitted\")\n",
    "\n",
    "# left skew - more older patients"
   ]
  },
  {
   "cell_type": "code",
   "execution_count": 35,
   "metadata": {
    "scrolled": true
   },
   "outputs": [
    {
     "data": {
      "image/png": "[encoded data removed]",
      "text/plain": [
       "<Figure size 432x288 with 1 Axes>"
      ]
     },
     "metadata": {
      "needs_background": "light"
     },
     "output_type": "display_data"
    }
   ],
   "source": [
    "(timediff_noNA.expire_flag).value_counts().plot(kind='bar')\n",
    "for index, value in enumerate(timediff_noNA.expire_flag.value_counts()):\n",
    "    plt.text(index, value+15, str(value))\n",
    "    plt.title(\"No Death (0) vs. Death (1)\")\n",
    "\n"
   ]
  },
  {
   "cell_type": "code",
   "execution_count": 36,
   "metadata": {},
   "outputs": [],
   "source": [
    "# Get rid of ppl who died\n",
    "\n",
    "timediff_noNA = timediff_noNA[timediff_noNA['expire_flag']==0]"
   ]
  },
  {
   "cell_type": "code",
   "execution_count": 37,
   "metadata": {},
   "outputs": [
    {
     "data": {
      "image/png": "[encoded data removed]",
      "text/plain": [
       "<Figure size 432x288 with 1 Axes>"
      ]
     },
     "metadata": {
      "needs_background": "light"
     },
     "output_type": "display_data"
    }
   ],
   "source": [
    "(timediff_noNA.admission_type).value_counts().plot(kind='bar')\n",
    "for index, value in enumerate(timediff_noNA.admission_type.value_counts()):\n",
    "    plt.text(index, value+15, str(value))\n",
    "    plt.title(\"Admission Types\")\n",
    "\n",
    "\n",
    "\n"
   ]
  },
  {
   "cell_type": "code",
   "execution_count": 38,
   "metadata": {},
   "outputs": [
    {
     "data": {
      "image/png": "[encoded data removed]",
      "text/plain": [
       "<Figure size 432x288 with 1 Axes>"
      ]
     },
     "metadata": {
      "needs_background": "light"
     },
     "output_type": "display_data"
    }
   ],
   "source": [
    "(timediff_noNA.admission_location).value_counts().plot(kind='bar')\n",
    "for index, value in enumerate(timediff_noNA.admission_location.value_counts()):\n",
    "    plt.text(index, value+5, str(value))\n",
    "    plt.title(\"Admission Location\")"
   ]
  },
  {
   "cell_type": "code",
   "execution_count": 39,
   "metadata": {
    "scrolled": false
   },
   "outputs": [
    {
     "data": {
      "image/png": "[encoded data removed]",
      "text/plain": [
       "<Figure size 432x288 with 1 Axes>"
      ]
     },
     "metadata": {
      "needs_background": "light"
     },
     "output_type": "display_data"
    }
   ],
   "source": [
    "(timediff_noNA.discharge_location).value_counts().plot(kind='bar')\n",
    "for index, value in enumerate(timediff_noNA.discharge_location.value_counts()):\n",
    "    plt.text(index, value+5, str(value))\n",
    "    plt.title(\"Discharge Destination Type\")\n",
    "    "
   ]
  },
  {
   "cell_type": "code",
   "execution_count": 40,
   "metadata": {},
   "outputs": [
    {
     "data": {
      "image/png": "[encoded data removed]",
      "text/plain": [
       "<Figure size 432x288 with 1 Axes>"
      ]
     },
     "metadata": {
      "needs_background": "light"
     },
     "output_type": "display_data"
    }
   ],
   "source": [
    "(timediff_noNA.discharge_wardid).value_counts().plot(kind='bar')\n",
    "for index, value in enumerate(timediff_noNA.discharge_wardid.value_counts()):\n",
    "    plt.text(index, value + 1, str(value))\n",
    "    plt.title(\"Discharge Ward ID\")\n",
    "\n"
   ]
  },
  {
   "cell_type": "code",
   "execution_count": 41,
   "metadata": {},
   "outputs": [
    {
     "data": {
      "image/png": "[encoded data removed]",
      "text/plain": [
       "<Figure size 432x288 with 1 Axes>"
      ]
     },
     "metadata": {
      "needs_background": "light"
     },
     "output_type": "display_data"
    }
   ],
   "source": [
    "(timediff_noNA.insurance).value_counts().plot(kind='bar')\n",
    "for index, value in enumerate(timediff_noNA.insurance.value_counts()):\n",
    "    plt.text(index, value+2, str(value))\n",
    "    plt.title(\"Insurance Type\")\n",
    "\n"
   ]
  },
  {
   "cell_type": "code",
   "execution_count": 42,
   "metadata": {},
   "outputs": [
    {
     "data": {
      "image/png": "[encoded data removed]",
      "text/plain": [
       "<Figure size 432x288 with 1 Axes>"
      ]
     },
     "metadata": {
      "needs_background": "light"
     },
     "output_type": "display_data"
    }
   ],
   "source": [
    "(timediff_noNA.language).value_counts().plot(kind='bar')\n",
    "for index, value in enumerate(timediff_noNA.language.value_counts()):\n",
    "    plt.text(index, value+1, str(value))\n",
    "    plt.title(\"Language\")\n",
    "\n"
   ]
  },
  {
   "cell_type": "code",
   "execution_count": 43,
   "metadata": {
    "scrolled": false
   },
   "outputs": [
    {
     "data": {
      "image/png": "[encoded data removed]",
      "text/plain": [
       "<Figure size 432x288 with 1 Axes>"
      ]
     },
     "metadata": {
      "needs_background": "light"
     },
     "output_type": "display_data"
    }
   ],
   "source": [
    "# Would religion possibly influence discharge procedures?\n",
    "\n",
    "(timediff_noNA.religion).value_counts().plot(kind='bar')\n",
    "for index, value in enumerate(timediff_noNA.religion.value_counts()):\n",
    "    plt.text(index, value+1, str(value))\n",
    "    plt.title(\"Religion\")\n",
    "\n"
   ]
  },
  {
   "cell_type": "code",
   "execution_count": 44,
   "metadata": {},
   "outputs": [
    {
     "data": {
      "image/png": "[encoded data removed]",
      "text/plain": [
       "<Figure size 432x288 with 1 Axes>"
      ]
     },
     "metadata": {
      "needs_background": "light"
     },
     "output_type": "display_data"
    }
   ],
   "source": [
    "# Do married individuals receive different care than not married? \n",
    "# Lack of support system to help them through medical system?\n",
    "\n",
    "(timediff_noNA.marital_status).value_counts().plot(kind='bar')\n",
    "for index, value in enumerate(timediff_noNA.marital_status.value_counts()):\n",
    "    plt.text(index, value+1, str(value))\n",
    "    plt.title(\"Marital Status\")\n",
    "\n"
   ]
  },
  {
   "cell_type": "code",
   "execution_count": 45,
   "metadata": {},
   "outputs": [
    {
     "data": {
      "image/png": "[encoded data removed]",
      "text/plain": [
       "<Figure size 432x288 with 1 Axes>"
      ]
     },
     "metadata": {
      "needs_background": "light"
     },
     "output_type": "display_data"
    }
   ],
   "source": [
    "(timediff_noNA.ethnicity).value_counts().plot(kind='bar')\n",
    "for index, value in enumerate(timediff_noNA.ethnicity.value_counts()):\n",
    "    plt.text(index, value+2, str(value))\n",
    "    plt.title(\"Ethnicity\")\n",
    "\n"
   ]
  },
  {
   "cell_type": "code",
   "execution_count": 46,
   "metadata": {},
   "outputs": [
    {
     "data": {
      "text/plain": [
       "CARDIOVASCULAR     389\n",
       "GENERAL_TRAUMA      63\n",
       "GI                  62\n",
       "NEUROLOGICAL        50\n",
       "ONCOLOGY            18\n",
       "OTHER_DIAGNOSIS     15\n",
       "RESPIRATORY         10\n",
       "INFECTIONS           4\n",
       "Name: diagnosis_categories, dtype: int64"
      ]
     },
     "execution_count": 46,
     "metadata": {},
     "output_type": "execute_result"
    }
   ],
   "source": [
    "# for d in timediff_noNA.diagnosis_categories:\n",
    "#     print(d,\": \" ,timediff_noNA.diagnosis_categories[d].count())\n",
    "(timediff_noNA.diagnosis_categories).value_counts()\n"
   ]
  },
  {
   "cell_type": "code",
   "execution_count": 47,
   "metadata": {},
   "outputs": [
    {
     "data": {
      "image/png": "[encoded data removed]",
      "text/plain": [
       "<Figure size 432x288 with 1 Axes>"
      ]
     },
     "metadata": {
      "needs_background": "light"
     },
     "output_type": "display_data"
    }
   ],
   "source": [
    "(timediff_noNA.diagnosis_categories).value_counts().plot(kind='bar')\n",
    "for index, value in enumerate(timediff_noNA.diagnosis_categories.value_counts()):\n",
    "    plt.text(index, value+3, str(value))\n",
    "    plt.title(\"Diagnosis Category\")\n",
    "\n",
    "  \n",
    "    "
   ]
  },
  {
   "cell_type": "code",
   "execution_count": 48,
   "metadata": {},
   "outputs": [
    {
     "data": {
      "image/png": "[encoded data removed]",
      "text/plain": [
       "<Figure size 432x288 with 1 Axes>"
      ]
     },
     "metadata": {
      "needs_background": "light"
     },
     "output_type": "display_data"
    }
   ],
   "source": [
    "(timediff_noNA.first_wardid).value_counts().plot(kind='bar')\n",
    "for index, value in enumerate(timediff_noNA.first_wardid.value_counts()):\n",
    "    plt.text(index, value+1, str(value))\n",
    "    plt.title(\"First Ward ID\")\n",
    "\n"
   ]
  },
  {
   "cell_type": "code",
   "execution_count": 49,
   "metadata": {},
   "outputs": [
    {
     "data": {
      "image/png": "[encoded data removed]",
      "text/plain": [
       "<Figure size 432x288 with 1 Axes>"
      ]
     },
     "metadata": {
      "needs_background": "light"
     },
     "output_type": "display_data"
    }
   ],
   "source": [
    "(timediff_noNA.last_wardid).value_counts().plot(kind='bar')\n",
    "for index, value in enumerate(timediff_noNA.last_wardid.value_counts()):\n",
    "    plt.text(index, value+1, str(value))\n",
    "    plt.title(\"Last Ward ID\")\n",
    "\n"
   ]
  },
  {
   "cell_type": "code",
   "execution_count": 50,
   "metadata": {
    "scrolled": true
   },
   "outputs": [
    {
     "data": {
      "image/png": "[encoded data removed]",
      "text/plain": [
       "<Figure size 432x288 with 1 Axes>"
      ]
     },
     "metadata": {
      "needs_background": "light"
     },
     "output_type": "display_data"
    }
   ],
   "source": [
    "(timediff_noNA.submit_wardid).value_counts().plot(kind='bar')\n",
    "for index, value in enumerate(timediff_noNA.submit_wardid.value_counts()):\n",
    "    plt.text(index, value+1, str(value))\n",
    "    plt.title(\"Submit Ward ID\")\n",
    "\n"
   ]
  },
  {
   "cell_type": "code",
   "execution_count": 51,
   "metadata": {
    "scrolled": true
   },
   "outputs": [
    {
     "data": {
      "image/png": "[encoded data removed]",
      "text/plain": [
       "<Figure size 432x288 with 1 Axes>"
      ]
     },
     "metadata": {
      "needs_background": "light"
     },
     "output_type": "display_data"
    }
   ],
   "source": [
    "(timediff_noNA.curr_wardid).value_counts().plot(kind='bar')\n",
    "for index, value in enumerate(timediff_noNA.curr_wardid.value_counts()):\n",
    "    plt.text(index, value+1, str(value))\n",
    "    plt.title(\"Current Ward ID\")\n",
    "\n"
   ]
  },
  {
   "cell_type": "code",
   "execution_count": 52,
   "metadata": {},
   "outputs": [
    {
     "data": {
      "image/png": "[encoded data removed]",
      "text/plain": [
       "<Figure size 432x288 with 1 Axes>"
      ]
     },
     "metadata": {
      "needs_background": "light"
     },
     "output_type": "display_data"
    }
   ],
   "source": [
    "(timediff_noNA.submit_careunit).value_counts().plot(kind='bar')\n",
    "for index, value in enumerate(timediff_noNA.submit_careunit.value_counts()):\n",
    "    plt.text(index, value, str(value))"
   ]
  },
  {
   "cell_type": "code",
   "execution_count": 53,
   "metadata": {
    "scrolled": true
   },
   "outputs": [
    {
     "data": {
      "image/png": "[encoded data removed]",
      "text/plain": [
       "<Figure size 432x288 with 1 Axes>"
      ]
     },
     "metadata": {
      "needs_background": "light"
     },
     "output_type": "display_data"
    }
   ],
   "source": [
    "(timediff_noNA.curr_careunit).value_counts().plot(kind='bar')\n",
    "for index, value in enumerate(timediff_noNA.curr_careunit.value_counts()):\n",
    "    plt.text(index, value+1, str(value))"
   ]
  },
  {
   "cell_type": "code",
   "execution_count": 54,
   "metadata": {
    "scrolled": true
   },
   "outputs": [
    {
     "data": {
      "image/png": "[encoded data removed]",
      "text/plain": [
       "<Figure size 432x288 with 1 Axes>"
      ]
     },
     "metadata": {
      "needs_background": "light"
     },
     "output_type": "display_data"
    }
   ],
   "source": [
    "(timediff_noNA.first_careunit).value_counts().plot(kind='bar')\n",
    "for index, value in enumerate(timediff_noNA.first_careunit.value_counts()):\n",
    "    plt.text(index, value+1, str(value))"
   ]
  },
  {
   "cell_type": "code",
   "execution_count": 55,
   "metadata": {
    "scrolled": true
   },
   "outputs": [
    {
     "data": {
      "image/png": "[encoded data removed]",
      "text/plain": [
       "<Figure size 432x288 with 1 Axes>"
      ]
     },
     "metadata": {
      "needs_background": "light"
     },
     "output_type": "display_data"
    }
   ],
   "source": [
    "(timediff_noNA.last_careunit).value_counts().plot(kind='bar')\n",
    "for index, value in enumerate(timediff_noNA.last_careunit.value_counts()):\n",
    "    plt.text(index, value+15, str(value))"
   ]
  },
  {
   "cell_type": "code",
   "execution_count": 56,
   "metadata": {},
   "outputs": [
    {
     "data": {
      "image/png": "[encoded data removed]",
      "text/plain": [
       "<Figure size 432x288 with 1 Axes>"
      ]
     },
     "metadata": {
      "needs_background": "light"
     },
     "output_type": "display_data"
    }
   ],
   "source": [
    "(timediff_noNA.curr_service).value_counts().plot(kind='bar')\n",
    "for index, value in enumerate(timediff_noNA.curr_service.value_counts()):\n",
    "    plt.text(index, value, str(value))"
   ]
  },
  {
   "cell_type": "code",
   "execution_count": 57,
   "metadata": {},
   "outputs": [
    {
     "data": {
      "image/png": "[encoded data removed]",
      "text/plain": [
       "<Figure size 432x288 with 1 Axes>"
      ]
     },
     "metadata": {
      "needs_background": "light"
     },
     "output_type": "display_data"
    }
   ],
   "source": [
    "(timediff_noNA.prev_service).value_counts().plot(kind='bar')\n",
    "for index, value in enumerate(timediff_noNA.prev_service.value_counts()):\n",
    "    plt.text(index, value, str(value))"
   ]
  },
  {
   "cell_type": "code",
   "execution_count": 58,
   "metadata": {},
   "outputs": [
    {
     "data": {
      "image/png": "[encoded data removed]",
      "text/plain": [
       "<Figure size 432x288 with 1 Axes>"
      ]
     },
     "metadata": {
      "needs_background": "light"
     },
     "output_type": "display_data"
    }
   ],
   "source": [
    "(timediff_noNA.callout_wardid).value_counts().plot(kind='bar')\n",
    "for index, value in enumerate(timediff_noNA.callout_wardid.value_counts()):\n",
    "    plt.text(index, value+15, str(value))"
   ]
  },
  {
   "cell_type": "code",
   "execution_count": 59,
   "metadata": {
    "scrolled": true
   },
   "outputs": [
    {
     "data": {
      "image/png": "[encoded data removed]",
      "text/plain": [
       "<Figure size 432x288 with 1 Axes>"
      ]
     },
     "metadata": {
      "needs_background": "light"
     },
     "output_type": "display_data"
    }
   ],
   "source": [
    "(timediff_noNA.callout_service).value_counts().plot(kind='bar')\n",
    "for index, value in enumerate(timediff_noNA.callout_service.value_counts()):\n",
    "    plt.text(index, value+15, str(value))"
   ]
  },
  {
   "cell_type": "code",
   "execution_count": 60,
   "metadata": {
    "scrolled": true
   },
   "outputs": [
    {
     "data": {
      "image/png": "[encoded data removed]",
      "text/plain": [
       "<Figure size 432x288 with 1 Axes>"
      ]
     },
     "metadata": {
      "needs_background": "light"
     },
     "output_type": "display_data"
    }
   ],
   "source": [
    "(timediff_noNA.request_cdiff).value_counts().plot(kind='bar')\n",
    "for index, value in enumerate(timediff_noNA.request_cdiff.value_counts()):\n",
    "    plt.text(index, value+15, str(value))"
   ]
  },
  {
   "cell_type": "code",
   "execution_count": 61,
   "metadata": {
    "scrolled": true
   },
   "outputs": [
    {
     "data": {
      "image/png": "[encoded data removed]",
      "text/plain": [
       "<Figure size 432x288 with 1 Axes>"
      ]
     },
     "metadata": {
      "needs_background": "light"
     },
     "output_type": "display_data"
    }
   ],
   "source": [
    "(timediff_noNA.request_mrsa).value_counts().plot(kind='bar')\n",
    "for index, value in enumerate(timediff_noNA.request_mrsa.value_counts()):\n",
    "    plt.text(index, value+15, str(value))"
   ]
  },
  {
   "cell_type": "code",
   "execution_count": 62,
   "metadata": {},
   "outputs": [
    {
     "data": {
      "image/png": "[encoded data removed]",
      "text/plain": [
       "<Figure size 432x288 with 1 Axes>"
      ]
     },
     "metadata": {
      "needs_background": "light"
     },
     "output_type": "display_data"
    }
   ],
   "source": [
    "(timediff_noNA.callout_outcome).value_counts().plot(kind='bar')\n",
    "for index, value in enumerate(timediff_noNA.callout_outcome.value_counts()):\n",
    "    plt.text(index, value+15, str(value))"
   ]
  },
  {
   "cell_type": "code",
   "execution_count": 63,
   "metadata": {},
   "outputs": [
    {
     "data": {
      "image/png": "[encoded data removed]",
      "text/plain": [
       "<Figure size 432x288 with 1 Axes>"
      ]
     },
     "metadata": {
      "needs_background": "light"
     },
     "output_type": "display_data"
    }
   ],
   "source": [
    "(timediff_noNA.acknowledge_status).value_counts().plot(kind='bar')\n",
    "for index, value in enumerate(timediff_noNA.acknowledge_status.value_counts()):\n",
    "    plt.text(index, value+15, str(value))"
   ]
  },
  {
   "cell_type": "code",
   "execution_count": 64,
   "metadata": {},
   "outputs": [
    {
     "data": {
      "image/png": "[encoded data removed]",
      "text/plain": [
       "<Figure size 432x288 with 1 Axes>"
      ]
     },
     "metadata": {
      "needs_background": "light"
     },
     "output_type": "display_data"
    }
   ],
   "source": [
    "(timediff_noNA.description).value_counts().plot(kind='bar')\n",
    "for index, value in enumerate(timediff_noNA.description.value_counts()):\n",
    "    plt.text(index, value+15, str(value))"
   ]
  },
  {
   "cell_type": "code",
   "execution_count": 65,
   "metadata": {},
   "outputs": [
    {
     "data": {
      "image/png": "[encoded data removed]",
      "text/plain": [
       "<Figure size 432x288 with 1 Axes>"
      ]
     },
     "metadata": {
      "needs_background": "light"
     },
     "output_type": "display_data"
    }
   ],
   "source": [
    "(timediff_noNA.costcenter).value_counts().plot(kind='bar')\n",
    "for index, value in enumerate(timediff_noNA.costcenter.value_counts()):\n",
    "    plt.text(index, value+15, str(value))"
   ]
  },
  {
   "cell_type": "code",
   "execution_count": 66,
   "metadata": {},
   "outputs": [
    {
     "data": {
      "image/png": "[encoded data removed]",
      "text/plain": [
       "<Figure size 1440x1080 with 1 Axes>"
      ]
     },
     "metadata": {
      "needs_background": "light"
     },
     "output_type": "display_data"
    }
   ],
   "source": [
    "plt.figure(figsize=(20,15))\n",
    "(timediff_noNA.cpt_cd).value_counts().plot(kind='bar')\n",
    "for index, value in enumerate(timediff_noNA.cpt_cd.value_counts()):\n",
    "    plt.text(index, value+15, str(value))"
   ]
  },
  {
   "cell_type": "code",
   "execution_count": 67,
   "metadata": {},
   "outputs": [
    {
     "data": {
      "image/png": "[encoded data removed]",
      "text/plain": [
       "<Figure size 432x288 with 1 Axes>"
      ]
     },
     "metadata": {
      "needs_background": "light"
     },
     "output_type": "display_data"
    }
   ],
   "source": [
    "# Only showing top 10\n",
    "(timediff_noNA.icd9_code).value_counts()[:10].plot(kind='bar')\n",
    "for index, value in enumerate(timediff_noNA.icd9_code.value_counts()[:10]):\n",
    "    plt.text(index, value, str(value))\n",
    "    "
   ]
  },
  {
   "cell_type": "code",
   "execution_count": 68,
   "metadata": {},
   "outputs": [
    {
     "data": {
      "image/png": "[encoded data removed]",
      "text/plain": [
       "<Figure size 432x288 with 1 Axes>"
      ]
     },
     "metadata": {
      "needs_background": "light"
     },
     "output_type": "display_data"
    }
   ],
   "source": [
    "(timediff_noNA.sectionheader).value_counts().plot(kind='bar')\n",
    "for index, value in enumerate(timediff_noNA.sectionheader.value_counts()):\n",
    "    plt.text(index, value, str(value))"
   ]
  },
  {
   "cell_type": "code",
   "execution_count": 69,
   "metadata": {
    "scrolled": true
   },
   "outputs": [
    {
     "data": {
      "text/plain": [
       "(array([343., 193.,  50.,  15.,   2.,   4.,   2.,   1.,   0.,   1.]),\n",
       " array([ 0.407  ,  1.87031,  3.33362,  4.79693,  6.26024,  7.72355,\n",
       "         9.18686, 10.65017, 12.11348, 13.57679, 15.0401 ]),\n",
       " <a list of 10 Patch objects>)"
      ]
     },
     "execution_count": 69,
     "metadata": {},
     "output_type": "execute_result"
    },
    {
     "data": {
      "image/png": "[encoded data removed]",
      "text/plain": [
       "<Figure size 432x288 with 1 Axes>"
      ]
     },
     "metadata": {
      "needs_background": "light"
     },
     "output_type": "display_data"
    }
   ],
   "source": [
    "plt.hist(timediff_noNA.los)"
   ]
  },
  {
   "cell_type": "code",
   "execution_count": 70,
   "metadata": {},
   "outputs": [
    {
     "data": {
      "text/plain": [
       "(array([102., 178., 163.,  99.,  45.,  13.,   3.,   3.,   1.,   4.]),\n",
       " array([ 0.1 ,  2.45,  4.8 ,  7.15,  9.5 , 11.85, 14.2 , 16.55, 18.9 ,\n",
       "        21.25, 23.6 ]),\n",
       " <a list of 10 Patch objects>)"
      ]
     },
     "execution_count": 70,
     "metadata": {},
     "output_type": "execute_result"
    },
    {
     "data": {
      "image/png": "[encoded data removed]",
      "text/plain": [
       "<Figure size 432x288 with 1 Axes>"
      ]
     },
     "metadata": {
      "needs_background": "light"
     },
     "output_type": "display_data"
    }
   ],
   "source": [
    "# Histogram of target\n",
    "\n",
    "plt.hist(timediff_noNA.timediff_hours)"
   ]
  },
  {
   "cell_type": "code",
   "execution_count": 71,
   "metadata": {},
   "outputs": [
    {
     "data": {
      "text/plain": [
       "(array([69., 71., 86., 88., 52., 27., 33., 56., 42., 87.]),\n",
       " array([ 0.  ,  2.39,  4.78,  7.17,  9.56, 11.95, 14.34, 16.73, 19.12,\n",
       "        21.51, 23.9 ]),\n",
       " <a list of 10 Patch objects>)"
      ]
     },
     "execution_count": 71,
     "metadata": {},
     "output_type": "execute_result"
    },
    {
     "data": {
      "image/png": "[encoded data removed]",
      "text/plain": [
       "<Figure size 432x288 with 1 Axes>"
      ]
     },
     "metadata": {
      "needs_background": "light"
     },
     "output_type": "display_data"
    }
   ],
   "source": [
    "plt.hist(timediff_noNA.admit2disch_hours)"
   ]
  },
  {
   "cell_type": "code",
   "execution_count": 72,
   "metadata": {},
   "outputs": [
    {
     "name": "stderr",
     "output_type": "stream",
     "text": [
      "/Users/dereklee/anaconda3/lib/python3.6/site-packages/numpy/lib/histograms.py:839: RuntimeWarning: invalid value encountered in greater_equal\n",
      "  keep = (tmp_a >= first_edge)\n",
      "/Users/dereklee/anaconda3/lib/python3.6/site-packages/numpy/lib/histograms.py:840: RuntimeWarning: invalid value encountered in less_equal\n",
      "  keep &= (tmp_a <= last_edge)\n"
     ]
    },
    {
     "data": {
      "text/plain": [
       "(array([30., 55., 50., 29., 15.,  8.,  2.,  6.,  0.,  3.]),\n",
       " array([ 0.4,  1.9,  3.4,  4.9,  6.4,  7.9,  9.4, 10.9, 12.4, 13.9, 15.4]),\n",
       " <a list of 10 Patch objects>)"
      ]
     },
     "execution_count": 72,
     "metadata": {},
     "output_type": "execute_result"
    },
    {
     "data": {
      "image/png": "[encoded data removed]",
      "text/plain": [
       "<Figure size 432x288 with 1 Axes>"
      ]
     },
     "metadata": {
      "needs_background": "light"
     },
     "output_type": "display_data"
    }
   ],
   "source": [
    "plt.hist(timediff_noNA.edreg2edout_hours)"
   ]
  },
  {
   "cell_type": "code",
   "execution_count": 73,
   "metadata": {
    "scrolled": true
   },
   "outputs": [
    {
     "data": {
      "text/plain": [
       "(array([115., 107.,  78.,  50.,  24.,  26.,  30.,  45.,  52.,  84.]),\n",
       " array([ 0. ,  2.4,  4.8,  7.2,  9.6, 12. , 14.4, 16.8, 19.2, 21.6, 24. ]),\n",
       " <a list of 10 Patch objects>)"
      ]
     },
     "execution_count": 73,
     "metadata": {},
     "output_type": "execute_result"
    },
    {
     "data": {
      "image/png": "[encoded data removed]",
      "text/plain": [
       "<Figure size 432x288 with 1 Axes>"
      ]
     },
     "metadata": {
      "needs_background": "light"
     },
     "output_type": "display_data"
    }
   ],
   "source": [
    "plt.hist(timediff_noNA.in2out_hours)"
   ]
  },
  {
   "cell_type": "code",
   "execution_count": 74,
   "metadata": {},
   "outputs": [
    {
     "data": {
      "text/plain": [
       "Text(0.5, 1.0, 'Distribution of ED registration time by Day of Month')"
      ]
     },
     "execution_count": 74,
     "metadata": {},
     "output_type": "execute_result"
    },
    {
     "data": {
      "image/png": "[encoded data removed]",
      "text/plain": [
       "<Figure size 432x288 with 1 Axes>"
      ]
     },
     "metadata": {
      "needs_background": "light"
     },
     "output_type": "display_data"
    }
   ],
   "source": [
    "timediff_noNA[\"edregtime\"].groupby(timediff_noNA[\"edregtime\"].dt.day).count().plot(kind=\"bar\")\n",
    "# data[\"edregtime\"].groupby(data[\"edregtime\"].dt.day).count().plot.hist(bins=12, alpha= 0.5)\n",
    "# data[\"edregtime\"].groupby(data[\"edregtime\"].dt.day).count().plot.hist()\n",
    "\n",
    "\n",
    "plt.xlabel(\"Day of Month\")\n",
    "plt.ylabel(\"Count\")\n",
    "plt.title(\"Distribution of ED registration time by Day of Month\")"
   ]
  },
  {
   "cell_type": "code",
   "execution_count": 75,
   "metadata": {},
   "outputs": [
    {
     "data": {
      "text/plain": [
       "Text(0.5, 1.0, 'Distribution of ED out time by Day of Month')"
      ]
     },
     "execution_count": 75,
     "metadata": {},
     "output_type": "execute_result"
    },
    {
     "data": {
      "image/png": "[encoded data removed]",
      "text/plain": [
       "<Figure size 432x288 with 1 Axes>"
      ]
     },
     "metadata": {
      "needs_background": "light"
     },
     "output_type": "display_data"
    }
   ],
   "source": [
    "timediff_noNA[\"edouttime\"].groupby(timediff_noNA[\"edouttime\"].dt.day).count().plot(kind=\"bar\")\n",
    "# data[\"edouttime\"].groupby(data[\"edouttime\"].dt.day).count().plot.hist()\n",
    "plt.xlabel(\"Day\")\n",
    "plt.ylabel(\"Count\")\n",
    "plt.title(\"Distribution of ED out time by Day of Month\")"
   ]
  },
  {
   "cell_type": "code",
   "execution_count": 76,
   "metadata": {},
   "outputs": [
    {
     "data": {
      "text/plain": [
       "Text(0.5, 1.0, 'Distribution of admit time by Day of Month')"
      ]
     },
     "execution_count": 76,
     "metadata": {},
     "output_type": "execute_result"
    },
    {
     "data": {
      "image/png": "[encoded data removed]",
      "text/plain": [
       "<Figure size 432x288 with 1 Axes>"
      ]
     },
     "metadata": {
      "needs_background": "light"
     },
     "output_type": "display_data"
    }
   ],
   "source": [
    "timediff_noNA[\"admittime\"].groupby(timediff_noNA[\"admittime\"].dt.day).count().plot(kind=\"bar\")\n",
    "plt.xlabel(\"Day\")\n",
    "plt.ylabel(\"Count\")\n",
    "plt.title(\"Distribution of admit time by Day of Month\")"
   ]
  },
  {
   "cell_type": "code",
   "execution_count": 77,
   "metadata": {
    "scrolled": true
   },
   "outputs": [
    {
     "data": {
      "text/plain": [
       "Text(0.5, 1.0, 'Distribution of discharge time by Day of Month')"
      ]
     },
     "execution_count": 77,
     "metadata": {},
     "output_type": "execute_result"
    },
    {
     "data": {
      "image/png": "[encoded data removed]",
      "text/plain": [
       "<Figure size 432x288 with 1 Axes>"
      ]
     },
     "metadata": {
      "needs_background": "light"
     },
     "output_type": "display_data"
    }
   ],
   "source": [
    "timediff_noNA[\"dischtime\"].groupby(timediff_noNA[\"dischtime\"].dt.day).count().plot(kind=\"bar\")\n",
    "plt.xlabel(\"Day\")\n",
    "plt.ylabel(\"Count\")\n",
    "plt.title(\"Distribution of discharge time by Day of Month\")"
   ]
  },
  {
   "cell_type": "markdown",
   "metadata": {},
   "source": [
    "We may want to create a new variable putting days into week in month (days 1-7, 8-14, 15-21, 22-31)"
   ]
  },
  {
   "cell_type": "code",
   "execution_count": 78,
   "metadata": {
    "scrolled": true
   },
   "outputs": [
    {
     "data": {
      "text/plain": [
       "Text(0.5, 1.0, 'Distribution of discharge time by Month')"
      ]
     },
     "execution_count": 78,
     "metadata": {},
     "output_type": "execute_result"
    },
    {
     "data": {
      "image/png": "[encoded data removed]",
      "text/plain": [
       "<Figure size 432x288 with 1 Axes>"
      ]
     },
     "metadata": {
      "needs_background": "light"
     },
     "output_type": "display_data"
    }
   ],
   "source": [
    "timediff_noNA[\"dischtime\"].groupby(timediff_noNA[\"dischtime\"].dt.month).count().plot(kind=\"bar\")\n",
    "plt.xlabel(\"Month\")\n",
    "plt.ylabel(\"Count\")\n",
    "plt.title(\"Distribution of discharge time by Month\")"
   ]
  },
  {
   "cell_type": "code",
   "execution_count": 79,
   "metadata": {},
   "outputs": [
    {
     "data": {
      "text/plain": [
       "Text(0.5, 1.0, 'Distribution of discharge time by hour')"
      ]
     },
     "execution_count": 79,
     "metadata": {},
     "output_type": "execute_result"
    },
    {
     "data": {
      "image/png": "[encoded data removed]",
      "text/plain": [
       "<Figure size 432x288 with 1 Axes>"
      ]
     },
     "metadata": {
      "needs_background": "light"
     },
     "output_type": "display_data"
    }
   ],
   "source": [
    "timediff_noNA[\"dischtime\"].groupby(timediff_noNA[\"dischtime\"].dt.hour).count().plot(kind=\"bar\")\n",
    "plt.xlabel(\"Hour\")\n",
    "plt.ylabel(\"Count\")\n",
    "plt.title(\"Distribution of discharge time by hour\")"
   ]
  },
  {
   "cell_type": "code",
   "execution_count": 80,
   "metadata": {
    "scrolled": true
   },
   "outputs": [
    {
     "data": {
      "text/plain": [
       "Text(0.5, 1.0, 'Distribution of create time by hour')"
      ]
     },
     "execution_count": 80,
     "metadata": {},
     "output_type": "execute_result"
    },
    {
     "data": {
      "image/png": "[encoded data removed]",
      "text/plain": [
       "<Figure size 432x288 with 1 Axes>"
      ]
     },
     "metadata": {
      "needs_background": "light"
     },
     "output_type": "display_data"
    }
   ],
   "source": [
    "timediff_noNA[\"createtime\"].groupby(timediff_noNA[\"createtime\"].dt.hour).count().plot(kind=\"bar\")\n",
    "plt.xlabel(\"Hour\")\n",
    "plt.ylabel(\"Count\")\n",
    "plt.title(\"Distribution of create time by hour\")"
   ]
  },
  {
   "cell_type": "code",
   "execution_count": 81,
   "metadata": {
    "scrolled": true
   },
   "outputs": [
    {
     "data": {
      "text/plain": [
       "Text(0.5, 1.0, 'Distribution of update time by hour')"
      ]
     },
     "execution_count": 81,
     "metadata": {},
     "output_type": "execute_result"
    },
    {
     "data": {
      "image/png": "[encoded data removed]",
      "text/plain": [
       "<Figure size 432x288 with 1 Axes>"
      ]
     },
     "metadata": {
      "needs_background": "light"
     },
     "output_type": "display_data"
    }
   ],
   "source": [
    "timediff_noNA[\"updatetime\"].groupby(timediff_noNA[\"updatetime\"].dt.hour).count().plot(kind=\"bar\")\n",
    "plt.xlabel(\"Hour\")\n",
    "plt.ylabel(\"Count\")\n",
    "plt.title(\"Distribution of update time by hour\")"
   ]
  },
  {
   "cell_type": "code",
   "execution_count": 82,
   "metadata": {},
   "outputs": [
    {
     "data": {
      "text/plain": [
       "Text(0.5, 1.0, 'Distribution of acknowledge time by hour')"
      ]
     },
     "execution_count": 82,
     "metadata": {},
     "output_type": "execute_result"
    },
    {
     "data": {
      "image/png": "[encoded data removed]",
      "text/plain": [
       "<Figure size 432x288 with 1 Axes>"
      ]
     },
     "metadata": {
      "needs_background": "light"
     },
     "output_type": "display_data"
    }
   ],
   "source": [
    "timediff_noNA[\"acknowledgetime\"].groupby(timediff_noNA[\"acknowledgetime\"].dt.hour).count().plot(kind=\"bar\")\n",
    "plt.xlabel(\"Hour\")\n",
    "plt.ylabel(\"Count\")\n",
    "plt.title(\"Distribution of acknowledge time by hour\")"
   ]
  },
  {
   "cell_type": "code",
   "execution_count": 83,
   "metadata": {
    "scrolled": true
   },
   "outputs": [
    {
     "data": {
      "text/plain": [
       "Text(0.5, 1.0, 'Distribution of outcome time by hour')"
      ]
     },
     "execution_count": 83,
     "metadata": {},
     "output_type": "execute_result"
    },
    {
     "data": {
      "image/png": "[encoded data removed]",
      "text/plain": [
       "<Figure size 432x288 with 1 Axes>"
      ]
     },
     "metadata": {
      "needs_background": "light"
     },
     "output_type": "display_data"
    }
   ],
   "source": [
    "timediff_noNA[\"outcometime\"].groupby(timediff_noNA[\"outcometime\"].dt.hour).count().plot(kind=\"bar\")\n",
    "plt.xlabel(\"Hour\")\n",
    "plt.ylabel(\"Count\")\n",
    "plt.title(\"Distribution of outcome time by hour\")"
   ]
  },
  {
   "cell_type": "code",
   "execution_count": 84,
   "metadata": {
    "scrolled": true
   },
   "outputs": [
    {
     "data": {
      "text/plain": [
       "Text(0.5, 1.0, 'Distribution of in time by hour')"
      ]
     },
     "execution_count": 84,
     "metadata": {},
     "output_type": "execute_result"
    },
    {
     "data": {
      "image/png": "[encoded data removed]",
      "text/plain": [
       "<Figure size 432x288 with 1 Axes>"
      ]
     },
     "metadata": {
      "needs_background": "light"
     },
     "output_type": "display_data"
    }
   ],
   "source": [
    "timediff_noNA[\"intime\"].groupby(timediff_noNA[\"intime\"].dt.hour).count().plot(kind=\"bar\")\n",
    "plt.xlabel(\"Hour\")\n",
    "plt.ylabel(\"Count\")\n",
    "plt.title(\"Distribution of in time by hour\")"
   ]
  },
  {
   "cell_type": "code",
   "execution_count": 85,
   "metadata": {
    "scrolled": true
   },
   "outputs": [
    {
     "data": {
      "text/plain": [
       "Text(0.5, 1.0, 'Distribution of out time by hour')"
      ]
     },
     "execution_count": 85,
     "metadata": {},
     "output_type": "execute_result"
    },
    {
     "data": {
      "image/png": "[encoded data removed]",
      "text/plain": [
       "<Figure size 432x288 with 1 Axes>"
      ]
     },
     "metadata": {
      "needs_background": "light"
     },
     "output_type": "display_data"
    }
   ],
   "source": [
    "timediff_noNA[\"outtime\"].groupby(timediff_noNA[\"outtime\"].dt.hour).count().plot(kind=\"bar\")\n",
    "plt.xlabel(\"Hour\")\n",
    "plt.ylabel(\"Count\")\n",
    "plt.title(\"Distribution of out time by hour\")"
   ]
  },
  {
   "cell_type": "code",
   "execution_count": 86,
   "metadata": {
    "scrolled": true
   },
   "outputs": [
    {
     "data": {
      "text/plain": [
       "Text(0.5, 1.0, 'Distribution of transfer time by hour')"
      ]
     },
     "execution_count": 86,
     "metadata": {},
     "output_type": "execute_result"
    },
    {
     "data": {
      "image/png": "[encoded data removed]",
      "text/plain": [
       "<Figure size 432x288 with 1 Axes>"
      ]
     },
     "metadata": {
      "needs_background": "light"
     },
     "output_type": "display_data"
    }
   ],
   "source": [
    "timediff_noNA[\"transfertime\"].groupby(timediff_noNA[\"transfertime\"].dt.hour).count().plot(kind=\"bar\")\n",
    "plt.xlabel(\"Hour\")\n",
    "plt.ylabel(\"Count\")\n",
    "plt.title(\"Distribution of transfer time by hour\")"
   ]
  },
  {
   "cell_type": "markdown",
   "metadata": {},
   "source": [
    "The above plots have shown us that there may be some trends with different time events.\n",
    "\n",
    "When examining the days of the month that certain events happened, we see a lot of visits happen on the same day, meaning that the highest volume of `edregtime` and `edouttime` fall on the same days. In this dataset, they seem to fall overwhelmingly on the 7th, 13th, 14th, 17th, 20th, 22nd, and 29th of the month. The high turnover in emergency departments makes sense. On the other hand, `admittime` and `dischtime` don't necessarily fall on the same day. These are probably describing hospital stays over the course of several days.\n",
    "\n",
    "Discharge times (`dischtime`) seem to most commonly occur during the afternoon hours from 1-5 pm. `deathtime` seems to be most common at 1 am and between 11 am and 12 pm. There may be some correlation there with how often rounds are made. \n",
    "\n",
    "`createtime` and `updatetime` describe call outs, or more specifically, the record of when patients were ready for discharge (called out), and the actual time of their discharge (or more generally, their outcome), as described by `outcometime`. `createtime`, `updatetime`, and `acknowledgetime` occur most frequently from 8 am - 10 am. `outcometime` occurs most frequently from 4 pm to 6 pm. This pattern warrants some further exploration to see truly how long each patient has to wait from when they are ready for discharge to when they are actually discharged.\n",
    "\n",
    "The services table describes hospital services that patients were under during their hospital stay. `transfertime` describes the time when a transfer occured. The most common transfer time was overwhelmingly 12 am, followed by 1 pm, 3 am and 5 pm (equally common), and 7 pm.  \n",
    "\n",
    "\n",
    "\n"
   ]
  },
  {
   "cell_type": "code",
   "execution_count": 87,
   "metadata": {},
   "outputs": [
    {
     "data": {
      "text/plain": [
       "Index(['gender', 'dob', 'dod', 'dod_hosp', 'dod_ssn', 'expire_flag', 'row_id',\n",
       "       'hadm_id', 'admittime', 'dischtime', 'deathtime', 'admission_type',\n",
       "       'admission_location', 'discharge_location', 'insurance', 'language',\n",
       "       'religion', 'marital_status', 'ethnicity', 'edregtime', 'edouttime',\n",
       "       'diagnosis', 'hospital_expire_flag', 'has_chartevents_data',\n",
       "       'submit_wardid', 'submit_careunit', 'curr_wardid', 'curr_careunit',\n",
       "       'callout_wardid', 'callout_service', 'request_cdiff', 'request_mrsa',\n",
       "       'callout_status', 'callout_outcome', 'discharge_wardid',\n",
       "       'acknowledge_status', 'createtime', 'updatetime', 'acknowledgetime',\n",
       "       'outcometime', 'first_careunit', 'last_careunit', 'first_wardid',\n",
       "       'last_wardid', 'intime', 'outtime', 'los', 'costcenter', 'cpt_cd',\n",
       "       'cpt_number', 'cpt_suffix', 'sectionheader', 'subsectionheader',\n",
       "       'description', 'transfertime', 'prev_service', 'curr_service',\n",
       "       'seq_num', 'icd9_code', 'timediff', 'timediff_hours', 'deathmonth',\n",
       "       'admit2disch_hours', 'edreg2edout_hours', 'in2out_hours', 'age',\n",
       "       'diagnosis_categories'],\n",
       "      dtype='object')"
      ]
     },
     "execution_count": 87,
     "metadata": {},
     "output_type": "execute_result"
    }
   ],
   "source": [
    "timediff_noNA.columns"
   ]
  },
  {
   "cell_type": "code",
   "execution_count": 88,
   "metadata": {},
   "outputs": [
    {
     "data": {
      "text/plain": [
       "array(['VENT MGMT;SUBSQ DAYS(INVASIVE)', 'VENT MGMT, 1ST DAY (INVASIVE)',\n",
       "       'NOT APPLICABLE', 'VENT MGMT,1ST DAY (NIV)'], dtype=object)"
      ]
     },
     "execution_count": 88,
     "metadata": {},
     "output_type": "execute_result"
    }
   ],
   "source": [
    "timediff_noNA['description'].unique() # only a few categories for the description so it's not really free text\n"
   ]
  },
  {
   "cell_type": "code",
   "execution_count": 89,
   "metadata": {},
   "outputs": [
    {
     "data": {
      "text/plain": [
       "array(['PHYS REFERRAL/NORMAL DELI', 'TRANSFER FROM HOSP/EXTRAM',\n",
       "       'EMERGENCY ROOM ADMIT', 'CLINIC REFERRAL/PREMATURE'], dtype=object)"
      ]
     },
     "execution_count": 89,
     "metadata": {},
     "output_type": "execute_result"
    }
   ],
   "source": [
    "timediff_noNA['admission_location'].unique()"
   ]
  },
  {
   "cell_type": "code",
   "execution_count": 90,
   "metadata": {},
   "outputs": [
    {
     "data": {
      "text/plain": [
       "array(['ELECTIVE', 'EMERGENCY', 'URGENT'], dtype=object)"
      ]
     },
     "execution_count": 90,
     "metadata": {},
     "output_type": "execute_result"
    }
   ],
   "source": [
    "timediff_noNA['admission_type'].unique()"
   ]
  },
  {
   "cell_type": "code",
   "execution_count": 91,
   "metadata": {},
   "outputs": [
    {
     "data": {
      "text/plain": [
       "array(['HOME HEALTH CARE', 'HOME', 'DISCH-TRAN TO PSYCH HOSP', 'SNF',\n",
       "       'REHAB/DISTINCT PART HOSP', 'LONG TERM CARE HOSPITAL',\n",
       "       'LEFT AGAINST MEDICAL ADVI', 'DISC-TRAN CANCER/CHLDRN H',\n",
       "       'SHORT TERM HOSPITAL'], dtype=object)"
      ]
     },
     "execution_count": 91,
     "metadata": {},
     "output_type": "execute_result"
    }
   ],
   "source": [
    "timediff_noNA['discharge_location'].unique()"
   ]
  },
  {
   "cell_type": "markdown",
   "metadata": {},
   "source": [
    "Now we want to make a correlation matrix of our data"
   ]
  },
  {
   "cell_type": "code",
   "execution_count": 92,
   "metadata": {
    "scrolled": false
   },
   "outputs": [
    {
     "data": {
      "image/png": "[encoded data removed]",
      "text/plain": [
       "<Figure size 1440x720 with 2 Axes>"
      ]
     },
     "metadata": {
      "needs_background": "light"
     },
     "output_type": "display_data"
    }
   ],
   "source": [
    "import seaborn as sns\n",
    "continuous = timediff_noNA[[\"los\",\"timediff_hours\",\"admit2disch_hours\",\"edreg2edout_hours\", \"in2out_hours\",\"age\"]]\n",
    "a4_dims = (20, 10)\n",
    "corrMatrix=continuous.corr()\n",
    "mask_ut=np.triu(np.ones(corrMatrix.shape)).astype(np.bool)\n",
    "fig, ax = plt.subplots(figsize=a4_dims)\n",
    "sns.heatmap(corrMatrix,mask=mask_ut,annot=True)\n",
    "plt.show()"
   ]
  },
  {
   "cell_type": "markdown",
   "metadata": {},
   "source": [
    "Evaluating the correlation matrix of the continuous variable, there is no strong correlation between any pairwise combination of the variables."
   ]
  },
  {
   "cell_type": "markdown",
   "metadata": {},
   "source": [
    "##### Check for missing values"
   ]
  },
  {
   "cell_type": "code",
   "execution_count": 93,
   "metadata": {},
   "outputs": [
    {
     "data": {
      "text/plain": [
       "Index(['dod', 'dod_hosp', 'dod_ssn', 'deathtime', 'edregtime', 'edouttime',\n",
       "       'submit_careunit', 'discharge_wardid', 'cpt_suffix', 'prev_service',\n",
       "       'deathmonth', 'edreg2edout_hours'],\n",
       "      dtype='object')"
      ]
     },
     "execution_count": 93,
     "metadata": {},
     "output_type": "execute_result"
    }
   ],
   "source": [
    "timediff_noNA.columns[timediff_noNA.isnull().any()]"
   ]
  },
  {
   "cell_type": "code",
   "execution_count": 94,
   "metadata": {},
   "outputs": [
    {
     "data": {
      "text/plain": [
       "575"
      ]
     },
     "execution_count": 94,
     "metadata": {},
     "output_type": "execute_result"
    }
   ],
   "source": [
    "timediff_noNA['dod'].isna().sum() # 611 no dod because they didn't die\n",
    "# timediff_noNA['language'].isna().sum() # 0 unknown language\n",
    "# timediff_noNA['marital_status'].isna().sum() # 0 unknown marital status\n",
    "# timediff_noNA['edregtime'].isna().sum() # 413 unknown edregtime, edouttime - likely didn't visit ED\n",
    "timediff_noNA['edouttime'].isna().sum()  # 413 unknown edouttime - likely didn't visit ED\n",
    "timediff_noNA['submit_careunit'].isna().sum() # 575 was not from ICU\n",
    "# timediff_noNA['discharge_wardid'].isna().sum() # 14 unknown wards to which the patient was discharged.\n",
    "# timediff_noNA['cpt_suffix'].isna().sum() # 611 unknown Text element of the Current Procedural Terminology (CPT)\n",
    "# timediff_noNA['description'].isna().sum() # 0 missing description of CPT\n",
    "# timediff_noNA['prev_service'].isna().sum() # 606 missing previous service type\n",
    "# timediff_noNA['edreg2edout_hours'].isna().sum() # 413 unknown edreg2edout_hours b/c didn't visit ED \n",
    "# timediff_noNA['timediff_hours'].isna().sum() # 0 missing target variable \n",
    "\n",
    "\n"
   ]
  },
  {
   "cell_type": "code",
   "execution_count": 95,
   "metadata": {},
   "outputs": [
    {
     "data": {
      "text/html": [
       "<div>\n",
       "<style scoped>\n",
       "    .dataframe tbody tr th:only-of-type {\n",
       "        vertical-align: middle;\n",
       "    }\n",
       "\n",
       "    .dataframe tbody tr th {\n",
       "        vertical-align: top;\n",
       "    }\n",
       "\n",
       "    .dataframe thead th {\n",
       "        text-align: right;\n",
       "    }\n",
       "</style>\n",
       "<table border=\"1\" class=\"dataframe\">\n",
       "  <thead>\n",
       "    <tr style=\"text-align: right;\">\n",
       "      <th></th>\n",
       "      <th>edregtime</th>\n",
       "      <th>admission_type</th>\n",
       "    </tr>\n",
       "    <tr>\n",
       "      <th>subject_id</th>\n",
       "      <th></th>\n",
       "      <th></th>\n",
       "    </tr>\n",
       "  </thead>\n",
       "  <tbody>\n",
       "    <tr>\n",
       "      <th>325</th>\n",
       "      <td>NaT</td>\n",
       "      <td>ELECTIVE</td>\n",
       "    </tr>\n",
       "    <tr>\n",
       "      <th>485</th>\n",
       "      <td>NaT</td>\n",
       "      <td>EMERGENCY</td>\n",
       "    </tr>\n",
       "    <tr>\n",
       "      <th>583</th>\n",
       "      <td>NaT</td>\n",
       "      <td>EMERGENCY</td>\n",
       "    </tr>\n",
       "    <tr>\n",
       "      <th>756</th>\n",
       "      <td>NaT</td>\n",
       "      <td>URGENT</td>\n",
       "    </tr>\n",
       "    <tr>\n",
       "      <th>841</th>\n",
       "      <td>NaT</td>\n",
       "      <td>ELECTIVE</td>\n",
       "    </tr>\n",
       "    <tr>\n",
       "      <th>...</th>\n",
       "      <td>...</td>\n",
       "      <td>...</td>\n",
       "    </tr>\n",
       "    <tr>\n",
       "      <th>98070</th>\n",
       "      <td>2168-02-18 21:51:00</td>\n",
       "      <td>EMERGENCY</td>\n",
       "    </tr>\n",
       "    <tr>\n",
       "      <th>98094</th>\n",
       "      <td>2122-12-29 08:35:00</td>\n",
       "      <td>EMERGENCY</td>\n",
       "    </tr>\n",
       "    <tr>\n",
       "      <th>99362</th>\n",
       "      <td>2152-10-31 21:40:00</td>\n",
       "      <td>EMERGENCY</td>\n",
       "    </tr>\n",
       "    <tr>\n",
       "      <th>99442</th>\n",
       "      <td>2112-02-15 10:31:00</td>\n",
       "      <td>EMERGENCY</td>\n",
       "    </tr>\n",
       "    <tr>\n",
       "      <th>99534</th>\n",
       "      <td>2178-11-19 00:55:00</td>\n",
       "      <td>EMERGENCY</td>\n",
       "    </tr>\n",
       "  </tbody>\n",
       "</table>\n",
       "<p>611 rows × 2 columns</p>\n",
       "</div>"
      ],
      "text/plain": [
       "                     edregtime admission_type\n",
       "subject_id                                   \n",
       "325                        NaT       ELECTIVE\n",
       "485                        NaT      EMERGENCY\n",
       "583                        NaT      EMERGENCY\n",
       "756                        NaT         URGENT\n",
       "841                        NaT       ELECTIVE\n",
       "...                        ...            ...\n",
       "98070      2168-02-18 21:51:00      EMERGENCY\n",
       "98094      2122-12-29 08:35:00      EMERGENCY\n",
       "99362      2152-10-31 21:40:00      EMERGENCY\n",
       "99442      2112-02-15 10:31:00      EMERGENCY\n",
       "99534      2178-11-19 00:55:00      EMERGENCY\n",
       "\n",
       "[611 rows x 2 columns]"
      ]
     },
     "execution_count": 95,
     "metadata": {},
     "output_type": "execute_result"
    }
   ],
   "source": [
    "timediff_noNA[[\"edregtime\",\"admission_type\"]]"
   ]
  },
  {
   "cell_type": "markdown",
   "metadata": {},
   "source": [
    "### ANOVA"
   ]
  },
  {
   "cell_type": "code",
   "execution_count": 96,
   "metadata": {},
   "outputs": [
    {
     "data": {
      "image/png": "[encoded data removed]",
      "text/plain": [
       "<Figure size 432x288 with 1 Axes>"
      ]
     },
     "metadata": {
      "needs_background": "light"
     },
     "output_type": "display_data"
    }
   ],
   "source": [
    "ax = sns.boxplot(timediff_noNA['timediff_hours'], data=timediff_noNA, color='#99c2a2')\n"
   ]
  },
  {
   "cell_type": "code",
   "execution_count": 97,
   "metadata": {},
   "outputs": [
    {
     "data": {
      "text/plain": [
       "<matplotlib.axes._subplots.AxesSubplot at 0x7f933653b128>"
      ]
     },
     "execution_count": 97,
     "metadata": {},
     "output_type": "execute_result"
    },
    {
     "data": {
      "image/png": "[encoded data removed]",
      "text/plain": [
       "<Figure size 432x288 with 1 Axes>"
      ]
     },
     "metadata": {
      "needs_background": "light"
     },
     "output_type": "display_data"
    }
   ],
   "source": [
    "(timediff_noNA['timediff_hours']).plot.hist()"
   ]
  },
  {
   "cell_type": "code",
   "execution_count": 98,
   "metadata": {},
   "outputs": [
    {
     "data": {
      "image/png": "[encoded data removed]",
      "text/plain": [
       "<Figure size 432x288 with 1 Axes>"
      ]
     },
     "metadata": {
      "needs_background": "light"
     },
     "output_type": "display_data"
    }
   ],
   "source": [
    "ax = sns.boxplot(x='admission_type', y=timediff_noNA['timediff_hours'], data=timediff_noNA, color='#99c2a2')\n",
    "ax = sns.swarmplot(x=\"admission_type\", y=timediff_noNA['timediff_hours'], data=timediff_noNA, color='#7d0013')\n",
    "plt.show()\n",
    "\n"
   ]
  },
  {
   "cell_type": "code",
   "execution_count": 99,
   "metadata": {},
   "outputs": [
    {
     "data": {
      "text/html": [
       "<div>\n",
       "<style scoped>\n",
       "    .dataframe tbody tr th:only-of-type {\n",
       "        vertical-align: middle;\n",
       "    }\n",
       "\n",
       "    .dataframe tbody tr th {\n",
       "        vertical-align: top;\n",
       "    }\n",
       "\n",
       "    .dataframe thead th {\n",
       "        text-align: right;\n",
       "    }\n",
       "</style>\n",
       "<table border=\"1\" class=\"dataframe\">\n",
       "  <thead>\n",
       "    <tr style=\"text-align: right;\">\n",
       "      <th></th>\n",
       "      <th>sum_sq</th>\n",
       "      <th>df</th>\n",
       "      <th>F</th>\n",
       "      <th>PR(&gt;F)</th>\n",
       "    </tr>\n",
       "  </thead>\n",
       "  <tbody>\n",
       "    <tr>\n",
       "      <th>C(admission_type)</th>\n",
       "      <td>14.767841</td>\n",
       "      <td>2.0</td>\n",
       "      <td>0.623008</td>\n",
       "      <td>0.536671</td>\n",
       "    </tr>\n",
       "    <tr>\n",
       "      <th>Residual</th>\n",
       "      <td>7206.050032</td>\n",
       "      <td>608.0</td>\n",
       "      <td>NaN</td>\n",
       "      <td>NaN</td>\n",
       "    </tr>\n",
       "  </tbody>\n",
       "</table>\n",
       "</div>"
      ],
      "text/plain": [
       "                        sum_sq     df         F    PR(>F)\n",
       "C(admission_type)    14.767841    2.0  0.623008  0.536671\n",
       "Residual           7206.050032  608.0       NaN       NaN"
      ]
     },
     "execution_count": 99,
     "metadata": {},
     "output_type": "execute_result"
    }
   ],
   "source": [
    "import statsmodels.api as sm\n",
    "from statsmodels.formula.api import ols\n",
    "\n",
    "\n",
    "model = ols('timediff_hours ~ C(admission_type)', data=timediff_noNA).fit()\n",
    "anova_table = sm.stats.anova_lm(model, typ=2)\n",
    "anova_table\n"
   ]
  },
  {
   "cell_type": "code",
   "execution_count": 100,
   "metadata": {},
   "outputs": [
    {
     "data": {
      "text/html": [
       "<div>\n",
       "<style scoped>\n",
       "    .dataframe tbody tr th:only-of-type {\n",
       "        vertical-align: middle;\n",
       "    }\n",
       "\n",
       "    .dataframe tbody tr th {\n",
       "        vertical-align: top;\n",
       "    }\n",
       "\n",
       "    .dataframe thead th {\n",
       "        text-align: right;\n",
       "    }\n",
       "</style>\n",
       "<table border=\"1\" class=\"dataframe\">\n",
       "  <thead>\n",
       "    <tr style=\"text-align: right;\">\n",
       "      <th></th>\n",
       "      <th>ELECTIVE</th>\n",
       "      <th>EMERGENCY</th>\n",
       "      <th>URGENT</th>\n",
       "    </tr>\n",
       "  </thead>\n",
       "  <tbody>\n",
       "    <tr>\n",
       "      <th>ELECTIVE</th>\n",
       "      <td>1.0</td>\n",
       "      <td>1.0</td>\n",
       "      <td>1.0</td>\n",
       "    </tr>\n",
       "    <tr>\n",
       "      <th>EMERGENCY</th>\n",
       "      <td>1.0</td>\n",
       "      <td>1.0</td>\n",
       "      <td>1.0</td>\n",
       "    </tr>\n",
       "    <tr>\n",
       "      <th>URGENT</th>\n",
       "      <td>1.0</td>\n",
       "      <td>1.0</td>\n",
       "      <td>1.0</td>\n",
       "    </tr>\n",
       "  </tbody>\n",
       "</table>\n",
       "</div>"
      ],
      "text/plain": [
       "           ELECTIVE  EMERGENCY  URGENT\n",
       "ELECTIVE        1.0        1.0     1.0\n",
       "EMERGENCY       1.0        1.0     1.0\n",
       "URGENT          1.0        1.0     1.0"
      ]
     },
     "execution_count": 100,
     "metadata": {},
     "output_type": "execute_result"
    }
   ],
   "source": [
    "import scikit_posthocs as sp\n",
    "sp.posthoc_ttest(timediff_noNA, val_col='timediff_hours', group_col='admission_type', p_adjust='holm')\n",
    "\n",
    "# no significant difference"
   ]
  },
  {
   "cell_type": "code",
   "execution_count": 101,
   "metadata": {},
   "outputs": [
    {
     "data": {
      "text/plain": [
       "(342, 67)"
      ]
     },
     "execution_count": 101,
     "metadata": {},
     "output_type": "execute_result"
    }
   ],
   "source": [
    "timediff_noNA[timediff_noNA['admission_type']==\"EMERGENCY\"].shape"
   ]
  },
  {
   "cell_type": "code",
   "execution_count": 102,
   "metadata": {},
   "outputs": [
    {
     "data": {
      "text/plain": [
       "(260, 67)"
      ]
     },
     "execution_count": 102,
     "metadata": {},
     "output_type": "execute_result"
    }
   ],
   "source": [
    "timediff_noNA[timediff_noNA['admission_type']==\"ELECTIVE\"].shape"
   ]
  },
  {
   "cell_type": "code",
   "execution_count": 103,
   "metadata": {},
   "outputs": [
    {
     "data": {
      "text/plain": [
       "(9, 67)"
      ]
     },
     "execution_count": 103,
     "metadata": {},
     "output_type": "execute_result"
    }
   ],
   "source": [
    "timediff_noNA[timediff_noNA['admission_type']==\"URGENT\"].shape"
   ]
  },
  {
   "cell_type": "markdown",
   "metadata": {},
   "source": [
    "## Refining dataset"
   ]
  },
  {
   "cell_type": "code",
   "execution_count": 104,
   "metadata": {
    "scrolled": true
   },
   "outputs": [
    {
     "data": {
      "text/plain": [
       "Index(['gender', 'dob', 'dod', 'dod_hosp', 'dod_ssn', 'expire_flag', 'row_id',\n",
       "       'hadm_id', 'admittime', 'dischtime', 'deathtime', 'admission_type',\n",
       "       'admission_location', 'discharge_location', 'insurance', 'language',\n",
       "       'religion', 'marital_status', 'ethnicity', 'edregtime', 'edouttime',\n",
       "       'diagnosis', 'hospital_expire_flag', 'has_chartevents_data',\n",
       "       'submit_wardid', 'submit_careunit', 'curr_wardid', 'curr_careunit',\n",
       "       'callout_wardid', 'callout_service', 'request_cdiff', 'request_mrsa',\n",
       "       'callout_status', 'callout_outcome', 'discharge_wardid',\n",
       "       'acknowledge_status', 'createtime', 'updatetime', 'acknowledgetime',\n",
       "       'outcometime', 'first_careunit', 'last_careunit', 'first_wardid',\n",
       "       'last_wardid', 'intime', 'outtime', 'los', 'costcenter', 'cpt_cd',\n",
       "       'cpt_number', 'cpt_suffix', 'sectionheader', 'subsectionheader',\n",
       "       'description', 'transfertime', 'prev_service', 'curr_service',\n",
       "       'seq_num', 'icd9_code', 'timediff', 'timediff_hours', 'deathmonth',\n",
       "       'admit2disch_hours', 'edreg2edout_hours', 'in2out_hours', 'age',\n",
       "       'diagnosis_categories'],\n",
       "      dtype='object')"
      ]
     },
     "execution_count": 104,
     "metadata": {},
     "output_type": "execute_result"
    }
   ],
   "source": [
    "(timediff_noNA.columns)"
   ]
  },
  {
   "cell_type": "code",
   "execution_count": 105,
   "metadata": {},
   "outputs": [],
   "source": [
    "pre_dummify = timediff_noNA.drop(columns=['admittime','createtime',\n",
    "                                         'cpt_suffix','diagnosis',\n",
    "                                         'dischtime', 'deathtime', \n",
    "                                         'acknowledgetime',\n",
    "                                         'dob','dod','dod_hosp',\n",
    "                                        'dod_ssn','edouttime',\n",
    "                                         'edregtime','edreg2edout_hours','icd9_code','intime',\n",
    "                                         'outcometime',\n",
    "                                         'outtime', 'prev_service',\n",
    "                                        'row_id', 'seq_num','transfertime',\n",
    "                                         'updatetime','timediff'])"
   ]
  },
  {
   "cell_type": "code",
   "execution_count": 106,
   "metadata": {},
   "outputs": [],
   "source": [
    "simple_dummies_cols = ['admission_type','admission_location','discharge_location','insurance',\n",
    "                                                                                 'language',\n",
    "                                                                                 'marital_status',\n",
    "                                                                                 'ethnicity', 'costcenter',\n",
    "                                                                                  'diagnosis_categories']"
   ]
  },
  {
   "cell_type": "code",
   "execution_count": 107,
   "metadata": {},
   "outputs": [],
   "source": [
    "\n",
    "\n",
    "simpledataset = timediff_noNA[['in2out_hours',\n",
    " 'admit2disch_hours',\n",
    " 'age','gender','admission_type',\n",
    "'admission_location','discharge_location','insurance',\n",
    "'language','religion',\n",
    "'marital_status',\n",
    "'ethnicity', 'costcenter','los',\n",
    "'diagnosis_categories', 'timediff_hours']]"
   ]
  },
  {
   "cell_type": "code",
   "execution_count": 108,
   "metadata": {},
   "outputs": [],
   "source": [
    "simpledf_with_dummies = pd.get_dummies(simpledataset, prefix=simple_dummies_cols, columns=simple_dummies_cols)"
   ]
  },
  {
   "cell_type": "code",
   "execution_count": null,
   "metadata": {},
   "outputs": [],
   "source": [
    "# remaining columns (check these dummy columns are still remaining):\n",
    "# removed religion since dummified previously\n",
    "dummies_cols = ['gender','admission_type','admission_location','discharge_location','insurance',\n",
    "                                                                                 'language',\n",
    "                                                                                 'marital_status',\n",
    "                                                                                 'ethnicity',\n",
    "                                                                                 'submit_careunit',\n",
    "                                                                                 'curr_wardid',\n",
    "                                                                                 'curr_careunit',\n",
    "                                                                                 'callout_wardid',\n",
    "                                                                                 'callout_service',\n",
    "                                                                                 'callout_outcome',\n",
    "                                                                                 'callout_status',\n",
    "                                                                                 'discharge_wardid',\n",
    "                                                                                 'acknowledge_status',\n",
    "                                                                                 'first_careunit',\n",
    "                                                                                 'last_careunit',\n",
    "                                                                                 'first_wardid',\n",
    "                                                                                 'last_wardid',\n",
    "                                                                                 'costcenter',\n",
    "                                                                                 'cpt_cd',\n",
    "                                                                                 'cpt_number',\n",
    "                                                                                 'cpt_suffix',\n",
    "                                                                                 'sectionheader',\n",
    "                                                                                 'subsectionheader',\n",
    "                                                                                 'description',\n",
    "                                                                                 'prev_service',\n",
    "                                                                                 'curr_service',\n",
    "                                                                                 'diagnosis_categories']\n",
    "\n",
    "\n",
    "# Uncomment when finalized the df_with_dummies (first try using the simple dataset)\n",
    "# df_with_dummies = pd.get_dummies(timediff_noNA, prefix=dummies_cols, columns=dummies_cols)\n",
    "\n",
    "\n",
    "\n"
   ]
  },
  {
   "cell_type": "code",
   "execution_count": null,
   "metadata": {},
   "outputs": [],
   "source": [
    "df_with_dummies.head()"
   ]
  },
  {
   "cell_type": "code",
   "execution_count": null,
   "metadata": {},
   "outputs": [],
   "source": [
    "# drop unnecessary columns in final dataset:\n",
    "\n",
    "# final_df = df_with_dummies.drop(columns=['admittime','createtime','diagnosis','dischtime', 'deathtime', 'acknowledgetime',\n",
    "#                                          'dob','dod','dod_hosp',\n",
    "#                                         'dod_ssn','edouttime','edregtime','intime','outcometime','outtime',\n",
    "#                                         'row_id','transfertime','updatetime','timediff'])\n",
    "\n",
    "\n",
    "# final_df = df_with_dummies.drop(columns=['admittime','createtime',\n",
    "#                                          'cpt_suffix','diagnosis',\n",
    "#                                          'dischtime', 'deathtime', \n",
    "#                                          'acknowledgetime',\n",
    "#                                          'dob','dod','dod_hosp',\n",
    "#                                         'dod_ssn','edouttime',\n",
    "#                                          'edregtime','intime',\n",
    "#                                          'outcometime',\n",
    "#                                          'outtime', 'prev_service',\n",
    "#                                         'row_id','transfertime',\n",
    "#                                          'updatetime','timediff'])\n",
    "\n",
    "\n"
   ]
  },
  {
   "cell_type": "code",
   "execution_count": null,
   "metadata": {},
   "outputs": [],
   "source": [
    "sorted(final_df.columns)"
   ]
  },
  {
   "cell_type": "markdown",
   "metadata": {},
   "source": [
    "## Final Dataset:"
   ]
  },
  {
   "cell_type": "code",
   "execution_count": 109,
   "metadata": {},
   "outputs": [
    {
     "data": {
      "text/html": [
       "<div>\n",
       "<style scoped>\n",
       "    .dataframe tbody tr th:only-of-type {\n",
       "        vertical-align: middle;\n",
       "    }\n",
       "\n",
       "    .dataframe tbody tr th {\n",
       "        vertical-align: top;\n",
       "    }\n",
       "\n",
       "    .dataframe thead th {\n",
       "        text-align: right;\n",
       "    }\n",
       "</style>\n",
       "<table border=\"1\" class=\"dataframe\">\n",
       "  <thead>\n",
       "    <tr style=\"text-align: right;\">\n",
       "      <th></th>\n",
       "      <th>in2out_hours</th>\n",
       "      <th>admit2disch_hours</th>\n",
       "      <th>age</th>\n",
       "      <th>gender</th>\n",
       "      <th>religion</th>\n",
       "      <th>los</th>\n",
       "      <th>timediff_hours</th>\n",
       "      <th>admission_type_ELECTIVE</th>\n",
       "      <th>admission_type_EMERGENCY</th>\n",
       "      <th>admission_type_URGENT</th>\n",
       "      <th>admission_location_CLINIC REFERRAL/PREMATURE</th>\n",
       "      <th>admission_location_EMERGENCY ROOM ADMIT</th>\n",
       "      <th>admission_location_PHYS REFERRAL/NORMAL DELI</th>\n",
       "      <th>admission_location_TRANSFER FROM HOSP/EXTRAM</th>\n",
       "      <th>discharge_location_DISC-TRAN CANCER/CHLDRN H</th>\n",
       "      <th>discharge_location_DISCH-TRAN TO PSYCH HOSP</th>\n",
       "      <th>discharge_location_HOME</th>\n",
       "      <th>discharge_location_HOME HEALTH CARE</th>\n",
       "      <th>discharge_location_LEFT AGAINST MEDICAL ADVI</th>\n",
       "      <th>discharge_location_LONG TERM CARE HOSPITAL</th>\n",
       "      <th>discharge_location_REHAB/DISTINCT PART HOSP</th>\n",
       "      <th>discharge_location_SHORT TERM HOSPITAL</th>\n",
       "      <th>discharge_location_SNF</th>\n",
       "      <th>insurance_Government</th>\n",
       "      <th>insurance_Medicaid</th>\n",
       "      <th>insurance_Medicare</th>\n",
       "      <th>insurance_Private</th>\n",
       "      <th>insurance_Self Pay</th>\n",
       "      <th>language_CANT</th>\n",
       "      <th>language_CAPE</th>\n",
       "      <th>language_ENGL</th>\n",
       "      <th>language_ETHI</th>\n",
       "      <th>language_HAIT</th>\n",
       "      <th>language_MAND</th>\n",
       "      <th>language_PORT</th>\n",
       "      <th>language_PTUN</th>\n",
       "      <th>language_RUSS</th>\n",
       "      <th>language_SPAN</th>\n",
       "      <th>language_UNKNOWN</th>\n",
       "      <th>marital_status_MARRIED</th>\n",
       "      <th>marital_status_SINGLE</th>\n",
       "      <th>marital_status_UNKNOWN_MARITAL</th>\n",
       "      <th>ethnicity_NONWHITE</th>\n",
       "      <th>ethnicity_UNKNOWN_ETHNICITY</th>\n",
       "      <th>ethnicity_WHITE</th>\n",
       "      <th>costcenter_ICU</th>\n",
       "      <th>costcenter_Resp</th>\n",
       "      <th>diagnosis_categories_CARDIOVASCULAR</th>\n",
       "      <th>diagnosis_categories_GENERAL_TRAUMA</th>\n",
       "      <th>diagnosis_categories_GI</th>\n",
       "      <th>diagnosis_categories_INFECTIONS</th>\n",
       "      <th>diagnosis_categories_NEUROLOGICAL</th>\n",
       "      <th>diagnosis_categories_ONCOLOGY</th>\n",
       "      <th>diagnosis_categories_OTHER_DIAGNOSIS</th>\n",
       "      <th>diagnosis_categories_RESPIRATORY</th>\n",
       "    </tr>\n",
       "    <tr>\n",
       "      <th>subject_id</th>\n",
       "      <th></th>\n",
       "      <th></th>\n",
       "      <th></th>\n",
       "      <th></th>\n",
       "      <th></th>\n",
       "      <th></th>\n",
       "      <th></th>\n",
       "      <th></th>\n",
       "      <th></th>\n",
       "      <th></th>\n",
       "      <th></th>\n",
       "      <th></th>\n",
       "      <th></th>\n",
       "      <th></th>\n",
       "      <th></th>\n",
       "      <th></th>\n",
       "      <th></th>\n",
       "      <th></th>\n",
       "      <th></th>\n",
       "      <th></th>\n",
       "      <th></th>\n",
       "      <th></th>\n",
       "      <th></th>\n",
       "      <th></th>\n",
       "      <th></th>\n",
       "      <th></th>\n",
       "      <th></th>\n",
       "      <th></th>\n",
       "      <th></th>\n",
       "      <th></th>\n",
       "      <th></th>\n",
       "      <th></th>\n",
       "      <th></th>\n",
       "      <th></th>\n",
       "      <th></th>\n",
       "      <th></th>\n",
       "      <th></th>\n",
       "      <th></th>\n",
       "      <th></th>\n",
       "      <th></th>\n",
       "      <th></th>\n",
       "      <th></th>\n",
       "      <th></th>\n",
       "      <th></th>\n",
       "      <th></th>\n",
       "      <th></th>\n",
       "      <th></th>\n",
       "      <th></th>\n",
       "      <th></th>\n",
       "      <th></th>\n",
       "      <th></th>\n",
       "      <th></th>\n",
       "      <th></th>\n",
       "      <th></th>\n",
       "      <th></th>\n",
       "    </tr>\n",
       "  </thead>\n",
       "  <tbody>\n",
       "    <tr>\n",
       "      <th>325</th>\n",
       "      <td>21.7</td>\n",
       "      <td>6.4</td>\n",
       "      <td>57</td>\n",
       "      <td>0</td>\n",
       "      <td>0</td>\n",
       "      <td>2.9029</td>\n",
       "      <td>8.5</td>\n",
       "      <td>1</td>\n",
       "      <td>0</td>\n",
       "      <td>0</td>\n",
       "      <td>0</td>\n",
       "      <td>0</td>\n",
       "      <td>1</td>\n",
       "      <td>0</td>\n",
       "      <td>0</td>\n",
       "      <td>0</td>\n",
       "      <td>0</td>\n",
       "      <td>1</td>\n",
       "      <td>0</td>\n",
       "      <td>0</td>\n",
       "      <td>0</td>\n",
       "      <td>0</td>\n",
       "      <td>0</td>\n",
       "      <td>0</td>\n",
       "      <td>0</td>\n",
       "      <td>0</td>\n",
       "      <td>1</td>\n",
       "      <td>0</td>\n",
       "      <td>0</td>\n",
       "      <td>0</td>\n",
       "      <td>1</td>\n",
       "      <td>0</td>\n",
       "      <td>0</td>\n",
       "      <td>0</td>\n",
       "      <td>0</td>\n",
       "      <td>0</td>\n",
       "      <td>0</td>\n",
       "      <td>0</td>\n",
       "      <td>0</td>\n",
       "      <td>0</td>\n",
       "      <td>1</td>\n",
       "      <td>0</td>\n",
       "      <td>0</td>\n",
       "      <td>0</td>\n",
       "      <td>1</td>\n",
       "      <td>0</td>\n",
       "      <td>1</td>\n",
       "      <td>0</td>\n",
       "      <td>0</td>\n",
       "      <td>0</td>\n",
       "      <td>0</td>\n",
       "      <td>0</td>\n",
       "      <td>1</td>\n",
       "      <td>0</td>\n",
       "      <td>0</td>\n",
       "    </tr>\n",
       "    <tr>\n",
       "      <th>485</th>\n",
       "      <td>1.8</td>\n",
       "      <td>21.9</td>\n",
       "      <td>65</td>\n",
       "      <td>0</td>\n",
       "      <td>1</td>\n",
       "      <td>3.0771</td>\n",
       "      <td>6.5</td>\n",
       "      <td>0</td>\n",
       "      <td>1</td>\n",
       "      <td>0</td>\n",
       "      <td>0</td>\n",
       "      <td>0</td>\n",
       "      <td>0</td>\n",
       "      <td>1</td>\n",
       "      <td>0</td>\n",
       "      <td>0</td>\n",
       "      <td>0</td>\n",
       "      <td>1</td>\n",
       "      <td>0</td>\n",
       "      <td>0</td>\n",
       "      <td>0</td>\n",
       "      <td>0</td>\n",
       "      <td>0</td>\n",
       "      <td>0</td>\n",
       "      <td>0</td>\n",
       "      <td>0</td>\n",
       "      <td>1</td>\n",
       "      <td>0</td>\n",
       "      <td>0</td>\n",
       "      <td>0</td>\n",
       "      <td>0</td>\n",
       "      <td>0</td>\n",
       "      <td>0</td>\n",
       "      <td>0</td>\n",
       "      <td>0</td>\n",
       "      <td>0</td>\n",
       "      <td>0</td>\n",
       "      <td>0</td>\n",
       "      <td>1</td>\n",
       "      <td>1</td>\n",
       "      <td>0</td>\n",
       "      <td>0</td>\n",
       "      <td>0</td>\n",
       "      <td>0</td>\n",
       "      <td>1</td>\n",
       "      <td>0</td>\n",
       "      <td>1</td>\n",
       "      <td>1</td>\n",
       "      <td>0</td>\n",
       "      <td>0</td>\n",
       "      <td>0</td>\n",
       "      <td>0</td>\n",
       "      <td>0</td>\n",
       "      <td>0</td>\n",
       "      <td>0</td>\n",
       "    </tr>\n",
       "    <tr>\n",
       "      <th>583</th>\n",
       "      <td>23.3</td>\n",
       "      <td>19.5</td>\n",
       "      <td>63</td>\n",
       "      <td>1</td>\n",
       "      <td>1</td>\n",
       "      <td>0.9700</td>\n",
       "      <td>2.5</td>\n",
       "      <td>0</td>\n",
       "      <td>1</td>\n",
       "      <td>0</td>\n",
       "      <td>0</td>\n",
       "      <td>0</td>\n",
       "      <td>0</td>\n",
       "      <td>1</td>\n",
       "      <td>0</td>\n",
       "      <td>0</td>\n",
       "      <td>0</td>\n",
       "      <td>1</td>\n",
       "      <td>0</td>\n",
       "      <td>0</td>\n",
       "      <td>0</td>\n",
       "      <td>0</td>\n",
       "      <td>0</td>\n",
       "      <td>0</td>\n",
       "      <td>0</td>\n",
       "      <td>0</td>\n",
       "      <td>1</td>\n",
       "      <td>0</td>\n",
       "      <td>0</td>\n",
       "      <td>0</td>\n",
       "      <td>0</td>\n",
       "      <td>0</td>\n",
       "      <td>0</td>\n",
       "      <td>0</td>\n",
       "      <td>0</td>\n",
       "      <td>0</td>\n",
       "      <td>0</td>\n",
       "      <td>0</td>\n",
       "      <td>1</td>\n",
       "      <td>1</td>\n",
       "      <td>0</td>\n",
       "      <td>0</td>\n",
       "      <td>0</td>\n",
       "      <td>0</td>\n",
       "      <td>1</td>\n",
       "      <td>0</td>\n",
       "      <td>1</td>\n",
       "      <td>1</td>\n",
       "      <td>0</td>\n",
       "      <td>0</td>\n",
       "      <td>0</td>\n",
       "      <td>0</td>\n",
       "      <td>0</td>\n",
       "      <td>0</td>\n",
       "      <td>0</td>\n",
       "    </tr>\n",
       "    <tr>\n",
       "      <th>756</th>\n",
       "      <td>5.9</td>\n",
       "      <td>9.4</td>\n",
       "      <td>72</td>\n",
       "      <td>0</td>\n",
       "      <td>1</td>\n",
       "      <td>1.2439</td>\n",
       "      <td>10.4</td>\n",
       "      <td>0</td>\n",
       "      <td>0</td>\n",
       "      <td>1</td>\n",
       "      <td>0</td>\n",
       "      <td>0</td>\n",
       "      <td>1</td>\n",
       "      <td>0</td>\n",
       "      <td>0</td>\n",
       "      <td>0</td>\n",
       "      <td>1</td>\n",
       "      <td>0</td>\n",
       "      <td>0</td>\n",
       "      <td>0</td>\n",
       "      <td>0</td>\n",
       "      <td>0</td>\n",
       "      <td>0</td>\n",
       "      <td>0</td>\n",
       "      <td>0</td>\n",
       "      <td>1</td>\n",
       "      <td>0</td>\n",
       "      <td>0</td>\n",
       "      <td>0</td>\n",
       "      <td>0</td>\n",
       "      <td>1</td>\n",
       "      <td>0</td>\n",
       "      <td>0</td>\n",
       "      <td>0</td>\n",
       "      <td>0</td>\n",
       "      <td>0</td>\n",
       "      <td>0</td>\n",
       "      <td>0</td>\n",
       "      <td>0</td>\n",
       "      <td>1</td>\n",
       "      <td>0</td>\n",
       "      <td>0</td>\n",
       "      <td>0</td>\n",
       "      <td>0</td>\n",
       "      <td>1</td>\n",
       "      <td>1</td>\n",
       "      <td>0</td>\n",
       "      <td>1</td>\n",
       "      <td>0</td>\n",
       "      <td>0</td>\n",
       "      <td>0</td>\n",
       "      <td>0</td>\n",
       "      <td>0</td>\n",
       "      <td>0</td>\n",
       "      <td>0</td>\n",
       "    </tr>\n",
       "    <tr>\n",
       "      <th>841</th>\n",
       "      <td>0.0</td>\n",
       "      <td>1.7</td>\n",
       "      <td>43</td>\n",
       "      <td>0</td>\n",
       "      <td>1</td>\n",
       "      <td>2.0020</td>\n",
       "      <td>2.4</td>\n",
       "      <td>1</td>\n",
       "      <td>0</td>\n",
       "      <td>0</td>\n",
       "      <td>0</td>\n",
       "      <td>0</td>\n",
       "      <td>1</td>\n",
       "      <td>0</td>\n",
       "      <td>0</td>\n",
       "      <td>0</td>\n",
       "      <td>0</td>\n",
       "      <td>1</td>\n",
       "      <td>0</td>\n",
       "      <td>0</td>\n",
       "      <td>0</td>\n",
       "      <td>0</td>\n",
       "      <td>0</td>\n",
       "      <td>0</td>\n",
       "      <td>0</td>\n",
       "      <td>0</td>\n",
       "      <td>1</td>\n",
       "      <td>0</td>\n",
       "      <td>0</td>\n",
       "      <td>0</td>\n",
       "      <td>1</td>\n",
       "      <td>0</td>\n",
       "      <td>0</td>\n",
       "      <td>0</td>\n",
       "      <td>0</td>\n",
       "      <td>0</td>\n",
       "      <td>0</td>\n",
       "      <td>0</td>\n",
       "      <td>0</td>\n",
       "      <td>1</td>\n",
       "      <td>0</td>\n",
       "      <td>0</td>\n",
       "      <td>0</td>\n",
       "      <td>0</td>\n",
       "      <td>1</td>\n",
       "      <td>0</td>\n",
       "      <td>1</td>\n",
       "      <td>1</td>\n",
       "      <td>0</td>\n",
       "      <td>0</td>\n",
       "      <td>0</td>\n",
       "      <td>0</td>\n",
       "      <td>0</td>\n",
       "      <td>0</td>\n",
       "      <td>0</td>\n",
       "    </tr>\n",
       "  </tbody>\n",
       "</table>\n",
       "</div>"
      ],
      "text/plain": [
       "            in2out_hours  admit2disch_hours  age  gender  religion     los  \\\n",
       "subject_id                                                                   \n",
       "325                 21.7                6.4   57       0         0  2.9029   \n",
       "485                  1.8               21.9   65       0         1  3.0771   \n",
       "583                 23.3               19.5   63       1         1  0.9700   \n",
       "756                  5.9                9.4   72       0         1  1.2439   \n",
       "841                  0.0                1.7   43       0         1  2.0020   \n",
       "\n",
       "            timediff_hours  admission_type_ELECTIVE  admission_type_EMERGENCY  \\\n",
       "subject_id                                                                      \n",
       "325                    8.5                        1                         0   \n",
       "485                    6.5                        0                         1   \n",
       "583                    2.5                        0                         1   \n",
       "756                   10.4                        0                         0   \n",
       "841                    2.4                        1                         0   \n",
       "\n",
       "            admission_type_URGENT  \\\n",
       "subject_id                          \n",
       "325                             0   \n",
       "485                             0   \n",
       "583                             0   \n",
       "756                             1   \n",
       "841                             0   \n",
       "\n",
       "            admission_location_CLINIC REFERRAL/PREMATURE  \\\n",
       "subject_id                                                 \n",
       "325                                                    0   \n",
       "485                                                    0   \n",
       "583                                                    0   \n",
       "756                                                    0   \n",
       "841                                                    0   \n",
       "\n",
       "            admission_location_EMERGENCY ROOM ADMIT  \\\n",
       "subject_id                                            \n",
       "325                                               0   \n",
       "485                                               0   \n",
       "583                                               0   \n",
       "756                                               0   \n",
       "841                                               0   \n",
       "\n",
       "            admission_location_PHYS REFERRAL/NORMAL DELI  \\\n",
       "subject_id                                                 \n",
       "325                                                    1   \n",
       "485                                                    0   \n",
       "583                                                    0   \n",
       "756                                                    1   \n",
       "841                                                    1   \n",
       "\n",
       "            admission_location_TRANSFER FROM HOSP/EXTRAM  \\\n",
       "subject_id                                                 \n",
       "325                                                    0   \n",
       "485                                                    1   \n",
       "583                                                    1   \n",
       "756                                                    0   \n",
       "841                                                    0   \n",
       "\n",
       "            discharge_location_DISC-TRAN CANCER/CHLDRN H  \\\n",
       "subject_id                                                 \n",
       "325                                                    0   \n",
       "485                                                    0   \n",
       "583                                                    0   \n",
       "756                                                    0   \n",
       "841                                                    0   \n",
       "\n",
       "            discharge_location_DISCH-TRAN TO PSYCH HOSP  \\\n",
       "subject_id                                                \n",
       "325                                                   0   \n",
       "485                                                   0   \n",
       "583                                                   0   \n",
       "756                                                   0   \n",
       "841                                                   0   \n",
       "\n",
       "            discharge_location_HOME  discharge_location_HOME HEALTH CARE  \\\n",
       "subject_id                                                                 \n",
       "325                               0                                    1   \n",
       "485                               0                                    1   \n",
       "583                               0                                    1   \n",
       "756                               1                                    0   \n",
       "841                               0                                    1   \n",
       "\n",
       "            discharge_location_LEFT AGAINST MEDICAL ADVI  \\\n",
       "subject_id                                                 \n",
       "325                                                    0   \n",
       "485                                                    0   \n",
       "583                                                    0   \n",
       "756                                                    0   \n",
       "841                                                    0   \n",
       "\n",
       "            discharge_location_LONG TERM CARE HOSPITAL  \\\n",
       "subject_id                                               \n",
       "325                                                  0   \n",
       "485                                                  0   \n",
       "583                                                  0   \n",
       "756                                                  0   \n",
       "841                                                  0   \n",
       "\n",
       "            discharge_location_REHAB/DISTINCT PART HOSP  \\\n",
       "subject_id                                                \n",
       "325                                                   0   \n",
       "485                                                   0   \n",
       "583                                                   0   \n",
       "756                                                   0   \n",
       "841                                                   0   \n",
       "\n",
       "            discharge_location_SHORT TERM HOSPITAL  discharge_location_SNF  \\\n",
       "subject_id                                                                   \n",
       "325                                              0                       0   \n",
       "485                                              0                       0   \n",
       "583                                              0                       0   \n",
       "756                                              0                       0   \n",
       "841                                              0                       0   \n",
       "\n",
       "            insurance_Government  insurance_Medicaid  insurance_Medicare  \\\n",
       "subject_id                                                                 \n",
       "325                            0                   0                   0   \n",
       "485                            0                   0                   0   \n",
       "583                            0                   0                   0   \n",
       "756                            0                   0                   1   \n",
       "841                            0                   0                   0   \n",
       "\n",
       "            insurance_Private  insurance_Self Pay  language_CANT  \\\n",
       "subject_id                                                         \n",
       "325                         1                   0              0   \n",
       "485                         1                   0              0   \n",
       "583                         1                   0              0   \n",
       "756                         0                   0              0   \n",
       "841                         1                   0              0   \n",
       "\n",
       "            language_CAPE  language_ENGL  language_ETHI  language_HAIT  \\\n",
       "subject_id                                                               \n",
       "325                     0              1              0              0   \n",
       "485                     0              0              0              0   \n",
       "583                     0              0              0              0   \n",
       "756                     0              1              0              0   \n",
       "841                     0              1              0              0   \n",
       "\n",
       "            language_MAND  language_PORT  language_PTUN  language_RUSS  \\\n",
       "subject_id                                                               \n",
       "325                     0              0              0              0   \n",
       "485                     0              0              0              0   \n",
       "583                     0              0              0              0   \n",
       "756                     0              0              0              0   \n",
       "841                     0              0              0              0   \n",
       "\n",
       "            language_SPAN  language_UNKNOWN  marital_status_MARRIED  \\\n",
       "subject_id                                                            \n",
       "325                     0                 0                       0   \n",
       "485                     0                 1                       1   \n",
       "583                     0                 1                       1   \n",
       "756                     0                 0                       1   \n",
       "841                     0                 0                       1   \n",
       "\n",
       "            marital_status_SINGLE  marital_status_UNKNOWN_MARITAL  \\\n",
       "subject_id                                                          \n",
       "325                             1                               0   \n",
       "485                             0                               0   \n",
       "583                             0                               0   \n",
       "756                             0                               0   \n",
       "841                             0                               0   \n",
       "\n",
       "            ethnicity_NONWHITE  ethnicity_UNKNOWN_ETHNICITY  ethnicity_WHITE  \\\n",
       "subject_id                                                                     \n",
       "325                          0                            0                1   \n",
       "485                          0                            0                1   \n",
       "583                          0                            0                1   \n",
       "756                          0                            0                1   \n",
       "841                          0                            0                1   \n",
       "\n",
       "            costcenter_ICU  costcenter_Resp  \\\n",
       "subject_id                                    \n",
       "325                      0                1   \n",
       "485                      0                1   \n",
       "583                      0                1   \n",
       "756                      1                0   \n",
       "841                      0                1   \n",
       "\n",
       "            diagnosis_categories_CARDIOVASCULAR  \\\n",
       "subject_id                                        \n",
       "325                                           0   \n",
       "485                                           1   \n",
       "583                                           1   \n",
       "756                                           1   \n",
       "841                                           1   \n",
       "\n",
       "            diagnosis_categories_GENERAL_TRAUMA  diagnosis_categories_GI  \\\n",
       "subject_id                                                                 \n",
       "325                                           0                        0   \n",
       "485                                           0                        0   \n",
       "583                                           0                        0   \n",
       "756                                           0                        0   \n",
       "841                                           0                        0   \n",
       "\n",
       "            diagnosis_categories_INFECTIONS  \\\n",
       "subject_id                                    \n",
       "325                                       0   \n",
       "485                                       0   \n",
       "583                                       0   \n",
       "756                                       0   \n",
       "841                                       0   \n",
       "\n",
       "            diagnosis_categories_NEUROLOGICAL  diagnosis_categories_ONCOLOGY  \\\n",
       "subject_id                                                                     \n",
       "325                                         0                              1   \n",
       "485                                         0                              0   \n",
       "583                                         0                              0   \n",
       "756                                         0                              0   \n",
       "841                                         0                              0   \n",
       "\n",
       "            diagnosis_categories_OTHER_DIAGNOSIS  \\\n",
       "subject_id                                         \n",
       "325                                            0   \n",
       "485                                            0   \n",
       "583                                            0   \n",
       "756                                            0   \n",
       "841                                            0   \n",
       "\n",
       "            diagnosis_categories_RESPIRATORY  \n",
       "subject_id                                    \n",
       "325                                        0  \n",
       "485                                        0  \n",
       "583                                        0  \n",
       "756                                        0  \n",
       "841                                        0  "
      ]
     },
     "execution_count": 109,
     "metadata": {},
     "output_type": "execute_result"
    }
   ],
   "source": [
    "simpledf_with_dummies.head()"
   ]
  },
  {
   "cell_type": "code",
   "execution_count": 110,
   "metadata": {},
   "outputs": [],
   "source": [
    "final_df = simpledf_with_dummies"
   ]
  },
  {
   "cell_type": "code",
   "execution_count": 111,
   "metadata": {},
   "outputs": [],
   "source": [
    "# using the hours column may help us avoid converting to cyclical time features esp if we don't care about cyclical\n",
    "\n",
    "y = final_df.timediff_hours\n",
    "\n",
    "X = final_df.loc[:, final_df.columns != 'timediff_hours']\n"
   ]
  },
  {
   "cell_type": "code",
   "execution_count": 112,
   "metadata": {},
   "outputs": [],
   "source": [
    "final_df.to_csv('/Users/dereklee/biostat-masters-thesis/final_df.csv')"
   ]
  },
  {
   "cell_type": "markdown",
   "metadata": {},
   "source": [
    "# Random Forest"
   ]
  },
  {
   "cell_type": "code",
   "execution_count": 113,
   "metadata": {},
   "outputs": [],
   "source": [
    "X_train, X_test, y_train, y_test = train_test_split(X, y, test_size=0.2, random_state=42)"
   ]
  },
  {
   "cell_type": "code",
   "execution_count": 114,
   "metadata": {},
   "outputs": [
    {
     "data": {
      "text/html": [
       "<div>\n",
       "<style scoped>\n",
       "    .dataframe tbody tr th:only-of-type {\n",
       "        vertical-align: middle;\n",
       "    }\n",
       "\n",
       "    .dataframe tbody tr th {\n",
       "        vertical-align: top;\n",
       "    }\n",
       "\n",
       "    .dataframe thead th {\n",
       "        text-align: right;\n",
       "    }\n",
       "</style>\n",
       "<table border=\"1\" class=\"dataframe\">\n",
       "  <thead>\n",
       "    <tr style=\"text-align: right;\">\n",
       "      <th></th>\n",
       "      <th>in2out_hours</th>\n",
       "      <th>admit2disch_hours</th>\n",
       "      <th>age</th>\n",
       "      <th>gender</th>\n",
       "      <th>religion</th>\n",
       "      <th>los</th>\n",
       "      <th>admission_type_ELECTIVE</th>\n",
       "      <th>admission_type_EMERGENCY</th>\n",
       "      <th>admission_type_URGENT</th>\n",
       "      <th>admission_location_CLINIC REFERRAL/PREMATURE</th>\n",
       "      <th>admission_location_EMERGENCY ROOM ADMIT</th>\n",
       "      <th>admission_location_PHYS REFERRAL/NORMAL DELI</th>\n",
       "      <th>admission_location_TRANSFER FROM HOSP/EXTRAM</th>\n",
       "      <th>discharge_location_DISC-TRAN CANCER/CHLDRN H</th>\n",
       "      <th>discharge_location_DISCH-TRAN TO PSYCH HOSP</th>\n",
       "      <th>discharge_location_HOME</th>\n",
       "      <th>discharge_location_HOME HEALTH CARE</th>\n",
       "      <th>discharge_location_LEFT AGAINST MEDICAL ADVI</th>\n",
       "      <th>discharge_location_LONG TERM CARE HOSPITAL</th>\n",
       "      <th>discharge_location_REHAB/DISTINCT PART HOSP</th>\n",
       "      <th>discharge_location_SHORT TERM HOSPITAL</th>\n",
       "      <th>discharge_location_SNF</th>\n",
       "      <th>insurance_Government</th>\n",
       "      <th>insurance_Medicaid</th>\n",
       "      <th>insurance_Medicare</th>\n",
       "      <th>insurance_Private</th>\n",
       "      <th>insurance_Self Pay</th>\n",
       "      <th>language_CANT</th>\n",
       "      <th>language_CAPE</th>\n",
       "      <th>language_ENGL</th>\n",
       "      <th>language_ETHI</th>\n",
       "      <th>language_HAIT</th>\n",
       "      <th>language_MAND</th>\n",
       "      <th>language_PORT</th>\n",
       "      <th>language_PTUN</th>\n",
       "      <th>language_RUSS</th>\n",
       "      <th>language_SPAN</th>\n",
       "      <th>language_UNKNOWN</th>\n",
       "      <th>marital_status_MARRIED</th>\n",
       "      <th>marital_status_SINGLE</th>\n",
       "      <th>marital_status_UNKNOWN_MARITAL</th>\n",
       "      <th>ethnicity_NONWHITE</th>\n",
       "      <th>ethnicity_UNKNOWN_ETHNICITY</th>\n",
       "      <th>ethnicity_WHITE</th>\n",
       "      <th>costcenter_ICU</th>\n",
       "      <th>costcenter_Resp</th>\n",
       "      <th>diagnosis_categories_CARDIOVASCULAR</th>\n",
       "      <th>diagnosis_categories_GENERAL_TRAUMA</th>\n",
       "      <th>diagnosis_categories_GI</th>\n",
       "      <th>diagnosis_categories_INFECTIONS</th>\n",
       "      <th>diagnosis_categories_NEUROLOGICAL</th>\n",
       "      <th>diagnosis_categories_ONCOLOGY</th>\n",
       "      <th>diagnosis_categories_OTHER_DIAGNOSIS</th>\n",
       "      <th>diagnosis_categories_RESPIRATORY</th>\n",
       "    </tr>\n",
       "    <tr>\n",
       "      <th>subject_id</th>\n",
       "      <th></th>\n",
       "      <th></th>\n",
       "      <th></th>\n",
       "      <th></th>\n",
       "      <th></th>\n",
       "      <th></th>\n",
       "      <th></th>\n",
       "      <th></th>\n",
       "      <th></th>\n",
       "      <th></th>\n",
       "      <th></th>\n",
       "      <th></th>\n",
       "      <th></th>\n",
       "      <th></th>\n",
       "      <th></th>\n",
       "      <th></th>\n",
       "      <th></th>\n",
       "      <th></th>\n",
       "      <th></th>\n",
       "      <th></th>\n",
       "      <th></th>\n",
       "      <th></th>\n",
       "      <th></th>\n",
       "      <th></th>\n",
       "      <th></th>\n",
       "      <th></th>\n",
       "      <th></th>\n",
       "      <th></th>\n",
       "      <th></th>\n",
       "      <th></th>\n",
       "      <th></th>\n",
       "      <th></th>\n",
       "      <th></th>\n",
       "      <th></th>\n",
       "      <th></th>\n",
       "      <th></th>\n",
       "      <th></th>\n",
       "      <th></th>\n",
       "      <th></th>\n",
       "      <th></th>\n",
       "      <th></th>\n",
       "      <th></th>\n",
       "      <th></th>\n",
       "      <th></th>\n",
       "      <th></th>\n",
       "      <th></th>\n",
       "      <th></th>\n",
       "      <th></th>\n",
       "      <th></th>\n",
       "      <th></th>\n",
       "      <th></th>\n",
       "      <th></th>\n",
       "      <th></th>\n",
       "      <th></th>\n",
       "    </tr>\n",
       "  </thead>\n",
       "  <tbody>\n",
       "    <tr>\n",
       "      <th>79687</th>\n",
       "      <td>9.1</td>\n",
       "      <td>2.0</td>\n",
       "      <td>72</td>\n",
       "      <td>0</td>\n",
       "      <td>1</td>\n",
       "      <td>2.3780</td>\n",
       "      <td>0</td>\n",
       "      <td>1</td>\n",
       "      <td>0</td>\n",
       "      <td>0</td>\n",
       "      <td>1</td>\n",
       "      <td>0</td>\n",
       "      <td>0</td>\n",
       "      <td>0</td>\n",
       "      <td>0</td>\n",
       "      <td>0</td>\n",
       "      <td>1</td>\n",
       "      <td>0</td>\n",
       "      <td>0</td>\n",
       "      <td>0</td>\n",
       "      <td>0</td>\n",
       "      <td>0</td>\n",
       "      <td>0</td>\n",
       "      <td>0</td>\n",
       "      <td>1</td>\n",
       "      <td>0</td>\n",
       "      <td>0</td>\n",
       "      <td>0</td>\n",
       "      <td>0</td>\n",
       "      <td>1</td>\n",
       "      <td>0</td>\n",
       "      <td>0</td>\n",
       "      <td>0</td>\n",
       "      <td>0</td>\n",
       "      <td>0</td>\n",
       "      <td>0</td>\n",
       "      <td>0</td>\n",
       "      <td>0</td>\n",
       "      <td>0</td>\n",
       "      <td>1</td>\n",
       "      <td>0</td>\n",
       "      <td>0</td>\n",
       "      <td>0</td>\n",
       "      <td>1</td>\n",
       "      <td>1</td>\n",
       "      <td>0</td>\n",
       "      <td>0</td>\n",
       "      <td>0</td>\n",
       "      <td>1</td>\n",
       "      <td>0</td>\n",
       "      <td>0</td>\n",
       "      <td>0</td>\n",
       "      <td>0</td>\n",
       "      <td>0</td>\n",
       "    </tr>\n",
       "    <tr>\n",
       "      <th>27272</th>\n",
       "      <td>1.6</td>\n",
       "      <td>3.4</td>\n",
       "      <td>69</td>\n",
       "      <td>1</td>\n",
       "      <td>1</td>\n",
       "      <td>2.0687</td>\n",
       "      <td>0</td>\n",
       "      <td>1</td>\n",
       "      <td>0</td>\n",
       "      <td>1</td>\n",
       "      <td>0</td>\n",
       "      <td>0</td>\n",
       "      <td>0</td>\n",
       "      <td>0</td>\n",
       "      <td>0</td>\n",
       "      <td>0</td>\n",
       "      <td>1</td>\n",
       "      <td>0</td>\n",
       "      <td>0</td>\n",
       "      <td>0</td>\n",
       "      <td>0</td>\n",
       "      <td>0</td>\n",
       "      <td>0</td>\n",
       "      <td>0</td>\n",
       "      <td>1</td>\n",
       "      <td>0</td>\n",
       "      <td>0</td>\n",
       "      <td>0</td>\n",
       "      <td>0</td>\n",
       "      <td>1</td>\n",
       "      <td>0</td>\n",
       "      <td>0</td>\n",
       "      <td>0</td>\n",
       "      <td>0</td>\n",
       "      <td>0</td>\n",
       "      <td>0</td>\n",
       "      <td>0</td>\n",
       "      <td>0</td>\n",
       "      <td>1</td>\n",
       "      <td>0</td>\n",
       "      <td>0</td>\n",
       "      <td>0</td>\n",
       "      <td>0</td>\n",
       "      <td>1</td>\n",
       "      <td>0</td>\n",
       "      <td>1</td>\n",
       "      <td>1</td>\n",
       "      <td>0</td>\n",
       "      <td>0</td>\n",
       "      <td>0</td>\n",
       "      <td>0</td>\n",
       "      <td>0</td>\n",
       "      <td>0</td>\n",
       "      <td>0</td>\n",
       "    </tr>\n",
       "    <tr>\n",
       "      <th>28232</th>\n",
       "      <td>23.3</td>\n",
       "      <td>0.4</td>\n",
       "      <td>47</td>\n",
       "      <td>1</td>\n",
       "      <td>1</td>\n",
       "      <td>0.9701</td>\n",
       "      <td>0</td>\n",
       "      <td>1</td>\n",
       "      <td>0</td>\n",
       "      <td>0</td>\n",
       "      <td>1</td>\n",
       "      <td>0</td>\n",
       "      <td>0</td>\n",
       "      <td>0</td>\n",
       "      <td>0</td>\n",
       "      <td>1</td>\n",
       "      <td>0</td>\n",
       "      <td>0</td>\n",
       "      <td>0</td>\n",
       "      <td>0</td>\n",
       "      <td>0</td>\n",
       "      <td>0</td>\n",
       "      <td>0</td>\n",
       "      <td>0</td>\n",
       "      <td>0</td>\n",
       "      <td>1</td>\n",
       "      <td>0</td>\n",
       "      <td>0</td>\n",
       "      <td>0</td>\n",
       "      <td>1</td>\n",
       "      <td>0</td>\n",
       "      <td>0</td>\n",
       "      <td>0</td>\n",
       "      <td>0</td>\n",
       "      <td>0</td>\n",
       "      <td>0</td>\n",
       "      <td>0</td>\n",
       "      <td>0</td>\n",
       "      <td>0</td>\n",
       "      <td>1</td>\n",
       "      <td>0</td>\n",
       "      <td>0</td>\n",
       "      <td>0</td>\n",
       "      <td>1</td>\n",
       "      <td>1</td>\n",
       "      <td>0</td>\n",
       "      <td>0</td>\n",
       "      <td>1</td>\n",
       "      <td>0</td>\n",
       "      <td>0</td>\n",
       "      <td>0</td>\n",
       "      <td>0</td>\n",
       "      <td>0</td>\n",
       "      <td>0</td>\n",
       "    </tr>\n",
       "    <tr>\n",
       "      <th>13176</th>\n",
       "      <td>5.2</td>\n",
       "      <td>23.5</td>\n",
       "      <td>66</td>\n",
       "      <td>1</td>\n",
       "      <td>1</td>\n",
       "      <td>2.2146</td>\n",
       "      <td>0</td>\n",
       "      <td>1</td>\n",
       "      <td>0</td>\n",
       "      <td>0</td>\n",
       "      <td>0</td>\n",
       "      <td>0</td>\n",
       "      <td>1</td>\n",
       "      <td>0</td>\n",
       "      <td>0</td>\n",
       "      <td>0</td>\n",
       "      <td>1</td>\n",
       "      <td>0</td>\n",
       "      <td>0</td>\n",
       "      <td>0</td>\n",
       "      <td>0</td>\n",
       "      <td>0</td>\n",
       "      <td>0</td>\n",
       "      <td>0</td>\n",
       "      <td>1</td>\n",
       "      <td>0</td>\n",
       "      <td>0</td>\n",
       "      <td>0</td>\n",
       "      <td>0</td>\n",
       "      <td>0</td>\n",
       "      <td>0</td>\n",
       "      <td>0</td>\n",
       "      <td>0</td>\n",
       "      <td>0</td>\n",
       "      <td>0</td>\n",
       "      <td>0</td>\n",
       "      <td>0</td>\n",
       "      <td>1</td>\n",
       "      <td>1</td>\n",
       "      <td>0</td>\n",
       "      <td>0</td>\n",
       "      <td>0</td>\n",
       "      <td>0</td>\n",
       "      <td>1</td>\n",
       "      <td>0</td>\n",
       "      <td>1</td>\n",
       "      <td>1</td>\n",
       "      <td>0</td>\n",
       "      <td>0</td>\n",
       "      <td>0</td>\n",
       "      <td>0</td>\n",
       "      <td>0</td>\n",
       "      <td>0</td>\n",
       "      <td>0</td>\n",
       "    </tr>\n",
       "    <tr>\n",
       "      <th>17935</th>\n",
       "      <td>20.0</td>\n",
       "      <td>17.6</td>\n",
       "      <td>47</td>\n",
       "      <td>1</td>\n",
       "      <td>0</td>\n",
       "      <td>3.8326</td>\n",
       "      <td>0</td>\n",
       "      <td>1</td>\n",
       "      <td>0</td>\n",
       "      <td>0</td>\n",
       "      <td>1</td>\n",
       "      <td>0</td>\n",
       "      <td>0</td>\n",
       "      <td>0</td>\n",
       "      <td>0</td>\n",
       "      <td>0</td>\n",
       "      <td>1</td>\n",
       "      <td>0</td>\n",
       "      <td>0</td>\n",
       "      <td>0</td>\n",
       "      <td>0</td>\n",
       "      <td>0</td>\n",
       "      <td>0</td>\n",
       "      <td>0</td>\n",
       "      <td>1</td>\n",
       "      <td>0</td>\n",
       "      <td>0</td>\n",
       "      <td>0</td>\n",
       "      <td>0</td>\n",
       "      <td>0</td>\n",
       "      <td>0</td>\n",
       "      <td>0</td>\n",
       "      <td>0</td>\n",
       "      <td>0</td>\n",
       "      <td>0</td>\n",
       "      <td>0</td>\n",
       "      <td>0</td>\n",
       "      <td>1</td>\n",
       "      <td>1</td>\n",
       "      <td>0</td>\n",
       "      <td>0</td>\n",
       "      <td>0</td>\n",
       "      <td>0</td>\n",
       "      <td>1</td>\n",
       "      <td>0</td>\n",
       "      <td>1</td>\n",
       "      <td>0</td>\n",
       "      <td>0</td>\n",
       "      <td>0</td>\n",
       "      <td>0</td>\n",
       "      <td>1</td>\n",
       "      <td>0</td>\n",
       "      <td>0</td>\n",
       "      <td>0</td>\n",
       "    </tr>\n",
       "  </tbody>\n",
       "</table>\n",
       "</div>"
      ],
      "text/plain": [
       "            in2out_hours  admit2disch_hours  age  gender  religion     los  \\\n",
       "subject_id                                                                   \n",
       "79687                9.1                2.0   72       0         1  2.3780   \n",
       "27272                1.6                3.4   69       1         1  2.0687   \n",
       "28232               23.3                0.4   47       1         1  0.9701   \n",
       "13176                5.2               23.5   66       1         1  2.2146   \n",
       "17935               20.0               17.6   47       1         0  3.8326   \n",
       "\n",
       "            admission_type_ELECTIVE  admission_type_EMERGENCY  \\\n",
       "subject_id                                                      \n",
       "79687                             0                         1   \n",
       "27272                             0                         1   \n",
       "28232                             0                         1   \n",
       "13176                             0                         1   \n",
       "17935                             0                         1   \n",
       "\n",
       "            admission_type_URGENT  \\\n",
       "subject_id                          \n",
       "79687                           0   \n",
       "27272                           0   \n",
       "28232                           0   \n",
       "13176                           0   \n",
       "17935                           0   \n",
       "\n",
       "            admission_location_CLINIC REFERRAL/PREMATURE  \\\n",
       "subject_id                                                 \n",
       "79687                                                  0   \n",
       "27272                                                  1   \n",
       "28232                                                  0   \n",
       "13176                                                  0   \n",
       "17935                                                  0   \n",
       "\n",
       "            admission_location_EMERGENCY ROOM ADMIT  \\\n",
       "subject_id                                            \n",
       "79687                                             1   \n",
       "27272                                             0   \n",
       "28232                                             1   \n",
       "13176                                             0   \n",
       "17935                                             1   \n",
       "\n",
       "            admission_location_PHYS REFERRAL/NORMAL DELI  \\\n",
       "subject_id                                                 \n",
       "79687                                                  0   \n",
       "27272                                                  0   \n",
       "28232                                                  0   \n",
       "13176                                                  0   \n",
       "17935                                                  0   \n",
       "\n",
       "            admission_location_TRANSFER FROM HOSP/EXTRAM  \\\n",
       "subject_id                                                 \n",
       "79687                                                  0   \n",
       "27272                                                  0   \n",
       "28232                                                  0   \n",
       "13176                                                  1   \n",
       "17935                                                  0   \n",
       "\n",
       "            discharge_location_DISC-TRAN CANCER/CHLDRN H  \\\n",
       "subject_id                                                 \n",
       "79687                                                  0   \n",
       "27272                                                  0   \n",
       "28232                                                  0   \n",
       "13176                                                  0   \n",
       "17935                                                  0   \n",
       "\n",
       "            discharge_location_DISCH-TRAN TO PSYCH HOSP  \\\n",
       "subject_id                                                \n",
       "79687                                                 0   \n",
       "27272                                                 0   \n",
       "28232                                                 0   \n",
       "13176                                                 0   \n",
       "17935                                                 0   \n",
       "\n",
       "            discharge_location_HOME  discharge_location_HOME HEALTH CARE  \\\n",
       "subject_id                                                                 \n",
       "79687                             0                                    1   \n",
       "27272                             0                                    1   \n",
       "28232                             1                                    0   \n",
       "13176                             0                                    1   \n",
       "17935                             0                                    1   \n",
       "\n",
       "            discharge_location_LEFT AGAINST MEDICAL ADVI  \\\n",
       "subject_id                                                 \n",
       "79687                                                  0   \n",
       "27272                                                  0   \n",
       "28232                                                  0   \n",
       "13176                                                  0   \n",
       "17935                                                  0   \n",
       "\n",
       "            discharge_location_LONG TERM CARE HOSPITAL  \\\n",
       "subject_id                                               \n",
       "79687                                                0   \n",
       "27272                                                0   \n",
       "28232                                                0   \n",
       "13176                                                0   \n",
       "17935                                                0   \n",
       "\n",
       "            discharge_location_REHAB/DISTINCT PART HOSP  \\\n",
       "subject_id                                                \n",
       "79687                                                 0   \n",
       "27272                                                 0   \n",
       "28232                                                 0   \n",
       "13176                                                 0   \n",
       "17935                                                 0   \n",
       "\n",
       "            discharge_location_SHORT TERM HOSPITAL  discharge_location_SNF  \\\n",
       "subject_id                                                                   \n",
       "79687                                            0                       0   \n",
       "27272                                            0                       0   \n",
       "28232                                            0                       0   \n",
       "13176                                            0                       0   \n",
       "17935                                            0                       0   \n",
       "\n",
       "            insurance_Government  insurance_Medicaid  insurance_Medicare  \\\n",
       "subject_id                                                                 \n",
       "79687                          0                   0                   1   \n",
       "27272                          0                   0                   1   \n",
       "28232                          0                   0                   0   \n",
       "13176                          0                   0                   1   \n",
       "17935                          0                   0                   1   \n",
       "\n",
       "            insurance_Private  insurance_Self Pay  language_CANT  \\\n",
       "subject_id                                                         \n",
       "79687                       0                   0              0   \n",
       "27272                       0                   0              0   \n",
       "28232                       1                   0              0   \n",
       "13176                       0                   0              0   \n",
       "17935                       0                   0              0   \n",
       "\n",
       "            language_CAPE  language_ENGL  language_ETHI  language_HAIT  \\\n",
       "subject_id                                                               \n",
       "79687                   0              1              0              0   \n",
       "27272                   0              1              0              0   \n",
       "28232                   0              1              0              0   \n",
       "13176                   0              0              0              0   \n",
       "17935                   0              0              0              0   \n",
       "\n",
       "            language_MAND  language_PORT  language_PTUN  language_RUSS  \\\n",
       "subject_id                                                               \n",
       "79687                   0              0              0              0   \n",
       "27272                   0              0              0              0   \n",
       "28232                   0              0              0              0   \n",
       "13176                   0              0              0              0   \n",
       "17935                   0              0              0              0   \n",
       "\n",
       "            language_SPAN  language_UNKNOWN  marital_status_MARRIED  \\\n",
       "subject_id                                                            \n",
       "79687                   0                 0                       0   \n",
       "27272                   0                 0                       1   \n",
       "28232                   0                 0                       0   \n",
       "13176                   0                 1                       1   \n",
       "17935                   0                 1                       1   \n",
       "\n",
       "            marital_status_SINGLE  marital_status_UNKNOWN_MARITAL  \\\n",
       "subject_id                                                          \n",
       "79687                           1                               0   \n",
       "27272                           0                               0   \n",
       "28232                           1                               0   \n",
       "13176                           0                               0   \n",
       "17935                           0                               0   \n",
       "\n",
       "            ethnicity_NONWHITE  ethnicity_UNKNOWN_ETHNICITY  ethnicity_WHITE  \\\n",
       "subject_id                                                                     \n",
       "79687                        0                            0                1   \n",
       "27272                        0                            0                1   \n",
       "28232                        0                            0                1   \n",
       "13176                        0                            0                1   \n",
       "17935                        0                            0                1   \n",
       "\n",
       "            costcenter_ICU  costcenter_Resp  \\\n",
       "subject_id                                    \n",
       "79687                    1                0   \n",
       "27272                    0                1   \n",
       "28232                    1                0   \n",
       "13176                    0                1   \n",
       "17935                    0                1   \n",
       "\n",
       "            diagnosis_categories_CARDIOVASCULAR  \\\n",
       "subject_id                                        \n",
       "79687                                         0   \n",
       "27272                                         1   \n",
       "28232                                         0   \n",
       "13176                                         1   \n",
       "17935                                         0   \n",
       "\n",
       "            diagnosis_categories_GENERAL_TRAUMA  diagnosis_categories_GI  \\\n",
       "subject_id                                                                 \n",
       "79687                                         0                        1   \n",
       "27272                                         0                        0   \n",
       "28232                                         1                        0   \n",
       "13176                                         0                        0   \n",
       "17935                                         0                        0   \n",
       "\n",
       "            diagnosis_categories_INFECTIONS  \\\n",
       "subject_id                                    \n",
       "79687                                     0   \n",
       "27272                                     0   \n",
       "28232                                     0   \n",
       "13176                                     0   \n",
       "17935                                     0   \n",
       "\n",
       "            diagnosis_categories_NEUROLOGICAL  diagnosis_categories_ONCOLOGY  \\\n",
       "subject_id                                                                     \n",
       "79687                                       0                              0   \n",
       "27272                                       0                              0   \n",
       "28232                                       0                              0   \n",
       "13176                                       0                              0   \n",
       "17935                                       1                              0   \n",
       "\n",
       "            diagnosis_categories_OTHER_DIAGNOSIS  \\\n",
       "subject_id                                         \n",
       "79687                                          0   \n",
       "27272                                          0   \n",
       "28232                                          0   \n",
       "13176                                          0   \n",
       "17935                                          0   \n",
       "\n",
       "            diagnosis_categories_RESPIRATORY  \n",
       "subject_id                                    \n",
       "79687                                      0  \n",
       "27272                                      0  \n",
       "28232                                      0  \n",
       "13176                                      0  \n",
       "17935                                      0  "
      ]
     },
     "execution_count": 114,
     "metadata": {},
     "output_type": "execute_result"
    }
   ],
   "source": [
    "X_train.head()"
   ]
  },
  {
   "cell_type": "code",
   "execution_count": 115,
   "metadata": {},
   "outputs": [
    {
     "name": "stdout",
     "output_type": "stream",
     "text": [
      "in2out_hours :  float64\n",
      "admit2disch_hours :  float64\n",
      "age :  int64\n",
      "gender :  int64\n",
      "religion :  int64\n",
      "los :  float64\n",
      "admission_type_ELECTIVE :  uint8\n",
      "admission_type_EMERGENCY :  uint8\n",
      "admission_type_URGENT :  uint8\n",
      "admission_location_CLINIC REFERRAL/PREMATURE :  uint8\n",
      "admission_location_EMERGENCY ROOM ADMIT :  uint8\n",
      "admission_location_PHYS REFERRAL/NORMAL DELI :  uint8\n",
      "admission_location_TRANSFER FROM HOSP/EXTRAM :  uint8\n",
      "discharge_location_DISC-TRAN CANCER/CHLDRN H :  uint8\n",
      "discharge_location_DISCH-TRAN TO PSYCH HOSP :  uint8\n",
      "discharge_location_HOME :  uint8\n",
      "discharge_location_HOME HEALTH CARE :  uint8\n",
      "discharge_location_LEFT AGAINST MEDICAL ADVI :  uint8\n",
      "discharge_location_LONG TERM CARE HOSPITAL :  uint8\n",
      "discharge_location_REHAB/DISTINCT PART HOSP :  uint8\n",
      "discharge_location_SHORT TERM HOSPITAL :  uint8\n",
      "discharge_location_SNF :  uint8\n",
      "insurance_Government :  uint8\n",
      "insurance_Medicaid :  uint8\n",
      "insurance_Medicare :  uint8\n",
      "insurance_Private :  uint8\n",
      "insurance_Self Pay :  uint8\n",
      "language_CANT :  uint8\n",
      "language_CAPE :  uint8\n",
      "language_ENGL :  uint8\n",
      "language_ETHI :  uint8\n",
      "language_HAIT :  uint8\n",
      "language_MAND :  uint8\n",
      "language_PORT :  uint8\n",
      "language_PTUN :  uint8\n",
      "language_RUSS :  uint8\n",
      "language_SPAN :  uint8\n",
      "language_UNKNOWN :  uint8\n",
      "marital_status_MARRIED :  uint8\n",
      "marital_status_SINGLE :  uint8\n",
      "marital_status_UNKNOWN_MARITAL :  uint8\n",
      "ethnicity_NONWHITE :  uint8\n",
      "ethnicity_UNKNOWN_ETHNICITY :  uint8\n",
      "ethnicity_WHITE :  uint8\n",
      "costcenter_ICU :  uint8\n",
      "costcenter_Resp :  uint8\n",
      "diagnosis_categories_CARDIOVASCULAR :  uint8\n",
      "diagnosis_categories_GENERAL_TRAUMA :  uint8\n",
      "diagnosis_categories_GI :  uint8\n",
      "diagnosis_categories_INFECTIONS :  uint8\n",
      "diagnosis_categories_NEUROLOGICAL :  uint8\n",
      "diagnosis_categories_ONCOLOGY :  uint8\n",
      "diagnosis_categories_OTHER_DIAGNOSIS :  uint8\n",
      "diagnosis_categories_RESPIRATORY :  uint8\n"
     ]
    }
   ],
   "source": [
    "for d in X_train:\n",
    "    print(d,\": \" ,X_train[d].dtype)"
   ]
  },
  {
   "cell_type": "code",
   "execution_count": 116,
   "metadata": {},
   "outputs": [],
   "source": [
    "# Feature Scaling\n",
    "from sklearn.preprocessing import StandardScaler\n",
    "\n",
    "sc = StandardScaler()\n",
    "X_train = sc.fit_transform(X_train)\n",
    "X_test = sc.transform(X_test)\n"
   ]
  },
  {
   "cell_type": "code",
   "execution_count": 117,
   "metadata": {},
   "outputs": [],
   "source": [
    "from sklearn.ensemble import RandomForestRegressor"
   ]
  },
  {
   "cell_type": "code",
   "execution_count": 118,
   "metadata": {},
   "outputs": [
    {
     "name": "stdout",
     "output_type": "stream",
     "text": [
      "\n",
      "System:\n",
      "    python: 3.6.8 |Anaconda, Inc.| (default, Dec 29 2018, 19:04:46)  [GCC 4.2.1 Compatible Clang 4.0.1 (tags/RELEASE_401/final)]\n",
      "executable: /Users/dereklee/anaconda3/bin/python\n",
      "   machine: Darwin-19.6.0-x86_64-i386-64bit\n",
      "\n",
      "Python dependencies:\n",
      "          pip: 19.1.1\n",
      "   setuptools: 41.0.1\n",
      "      sklearn: 0.23.2\n",
      "        numpy: 1.18.5\n",
      "        scipy: 1.4.1\n",
      "       Cython: 0.29.7\n",
      "       pandas: 0.25.3\n",
      "   matplotlib: 3.1.3\n",
      "       joblib: 0.14.1\n",
      "threadpoolctl: 2.1.0\n",
      "\n",
      "Built with OpenMP: True\n"
     ]
    }
   ],
   "source": [
    "import sklearn\n",
    "sklearn.show_versions()"
   ]
  },
  {
   "cell_type": "code",
   "execution_count": 119,
   "metadata": {},
   "outputs": [],
   "source": [
    "# Tried w/ 20 trees\n",
    "\n",
    "regressor = RandomForestRegressor(n_estimators=100, random_state=42) # n_estimators is no. of trees\n",
    "regressor.fit(X_train, y_train)\n",
    "y_pred = regressor.predict(X_test)\n",
    "\n",
    "# splits using residual sum of squares (https://math.usu.edu/adele/randomforests/ovronnaz.pdf)"
   ]
  },
  {
   "cell_type": "code",
   "execution_count": 120,
   "metadata": {},
   "outputs": [
    {
     "name": "stdout",
     "output_type": "stream",
     "text": [
      "Mean Absolute Error: 2.4502113821138214\n",
      "Mean Squared Error: 11.776283235772361\n",
      "Root Mean Squared Error: 3.4316589626261464\n"
     ]
    }
   ],
   "source": [
    "from sklearn import metrics\n",
    "\n",
    "print('Mean Absolute Error:', metrics.mean_absolute_error(y_test, y_pred))\n",
    "print('Mean Squared Error:', metrics.mean_squared_error(y_test, y_pred))\n",
    "print('Root Mean Squared Error:', np.sqrt(metrics.mean_squared_error(y_test, y_pred)))\n",
    "\n",
    "\n",
    "# You can play around with the number of trees and other parameters to see \n",
    "# if you can get better results\n",
    "\n",
    "\n"
   ]
  },
  {
   "cell_type": "markdown",
   "metadata": {},
   "source": [
    "# Results:  \n",
    "\n",
    "### 100 Trees:  \n",
    "Mean Absolute Error: 2.5036898734177213  \n",
    "Mean Squared Error: 11.569551765822784  \n",
    "Root Mean Squared Error: 3.401404381402303  \n",
    "\n",
    "### 50 Trees:  \n",
    "Mean Absolute Error: 2.489113924050633  \n",
    "Mean Squared Error: 11.566727696202532   \n",
    "Root Mean Squared Error: 3.400989223182357  \n",
    "\n",
    "### 20 Trees:  \n",
    "Mean Absolute Error: 2.516107594936709  \n",
    "Mean Squared Error: 11.806399841772153  \n",
    "Root Mean Squared Error: 3.4360442141759693  "
   ]
  },
  {
   "cell_type": "code",
   "execution_count": 121,
   "metadata": {},
   "outputs": [
    {
     "name": "stdout",
     "output_type": "stream",
     "text": [
      "[-0.82569397 -0.19421054  0.11391559 -1.31387099  0.81579961  0.74233539\n",
      "  1.17989697 -1.14100254 -0.12909944 -0.24200895 -0.64699664  1.10371274\n",
      " -0.49807815 -0.04531433 -0.10174462 -0.6984303   0.97171143 -0.09090909\n",
      " -0.12063588 -0.19569842  0.         -0.30687197 -0.15185782 -0.28221626\n",
      " -0.8123201   1.04185896 -0.16543404 -0.04531433 -0.04531433  0.67902713\n",
      " -0.04531433 -0.04531433 -0.04531433 -0.1115712  -0.12909944 -0.07864838\n",
      " -0.15877684 -0.57104024 -1.12216722  1.22579121 -0.21205631  2.67083008\n",
      " -0.3108524  -1.93335565 -0.84753163  0.84753163  0.77798661 -0.34905455\n",
      " -0.34534918 -0.07864838 -0.30285738 -0.17807996 -0.15877684 -0.12909944]\n"
     ]
    }
   ],
   "source": [
    "# print('Prediction: %d' % regressor.predict(X_test[0]))\n",
    "predictions = []\n",
    "\n",
    "for i in X_test:\n",
    "    print(i)\n",
    "    break\n",
    "\n",
    "# regressor.predict([X_test[0]])\n"
   ]
  },
  {
   "cell_type": "code",
   "execution_count": 122,
   "metadata": {
    "scrolled": true
   },
   "outputs": [
    {
     "data": {
      "text/plain": [
       "5.6"
      ]
     },
     "execution_count": 122,
     "metadata": {},
     "output_type": "execute_result"
    }
   ],
   "source": [
    "y_test.iloc[1]"
   ]
  },
  {
   "cell_type": "code",
   "execution_count": 123,
   "metadata": {
    "scrolled": true
   },
   "outputs": [
    {
     "data": {
      "text/plain": [
       "5.55040650406504"
      ]
     },
     "execution_count": 123,
     "metadata": {},
     "output_type": "execute_result"
    }
   ],
   "source": [
    "np.mean(y_test)"
   ]
  },
  {
   "cell_type": "code",
   "execution_count": 124,
   "metadata": {},
   "outputs": [
    {
     "data": {
      "text/plain": [
       "0.06812072631431365"
      ]
     },
     "execution_count": 124,
     "metadata": {},
     "output_type": "execute_result"
    }
   ],
   "source": [
    "regressor.score(X_test,y_test)"
   ]
  },
  {
   "cell_type": "code",
   "execution_count": 125,
   "metadata": {},
   "outputs": [
    {
     "data": {
      "text/plain": [
       "[<matplotlib.lines.Line2D at 0x7f9319516860>]"
      ]
     },
     "execution_count": 125,
     "metadata": {},
     "output_type": "execute_result"
    },
    {
     "data": {
      "image/png": "[encoded data removed]",
      "text/plain": [
       "<Figure size 432x288 with 1 Axes>"
      ]
     },
     "metadata": {
      "needs_background": "light"
     },
     "output_type": "display_data"
    }
   ],
   "source": [
    "estimators = np.arange(10, 200, 10)\n",
    "scores = []\n",
    "for n in estimators:\n",
    "    regressor.set_params(n_estimators=n)\n",
    "    regressor.fit(X_train, y_train)\n",
    "    scores.append(regressor.score(X_test, y_test))\n",
    "plt.title(\"Effect of n_estimators\")\n",
    "plt.xlabel(\"n_estimator\")\n",
    "plt.ylabel(\"score\")\n",
    "plt.plot(estimators, scores)"
   ]
  },
  {
   "cell_type": "code",
   "execution_count": 126,
   "metadata": {
    "scrolled": true
   },
   "outputs": [
    {
     "data": {
      "text/plain": [
       "[0.05027001703042877,\n",
       " 0.022362765002050145,\n",
       " 0.06778813958256624,\n",
       " 0.04985369414767293,\n",
       " 0.05658915850015056,\n",
       " 0.061183632804218124,\n",
       " 0.07389762516976583,\n",
       " 0.06820121255012102,\n",
       " 0.06758700977657262,\n",
       " 0.06812072631431365,\n",
       " 0.06142136548250543,\n",
       " 0.06695711469788068,\n",
       " 0.06906023601490885,\n",
       " 0.06566988999978729,\n",
       " 0.06384169085935998,\n",
       " 0.06484572260239219,\n",
       " 0.06578053093628355,\n",
       " 0.06888654656080329,\n",
       " 0.0641964734881122]"
      ]
     },
     "execution_count": 126,
     "metadata": {},
     "output_type": "execute_result"
    }
   ],
   "source": [
    "scores"
   ]
  },
  {
   "cell_type": "markdown",
   "metadata": {},
   "source": [
    "Below code is different one that allows feature importance:  \n",
    "Documentation seems to show DecisionTreeRegressor is an attribute of RandomForestRegressor:\n",
    "\n",
    "https://scikit-learn.org/stable/modules/generated/sklearn.ensemble.RandomForestRegressor.html"
   ]
  },
  {
   "cell_type": "code",
   "execution_count": null,
   "metadata": {},
   "outputs": [],
   "source": [
    "from sklearn.tree import DecisionTreeRegressor\n",
    "# from matplotlib import pyplot\n",
    "# # define dataset\n",
    "# # X, y = make_regression(n_samples=1000, n_features=10, n_informative=5, random_state=1)\n",
    "# # define the model\n",
    "# model = DecisionTreeRegressor()\n",
    "# # fit the model\n",
    "# model.fit(X_train, y_train)\n",
    "# # get importance\n",
    "# importance = model.feature_importances_\n",
    "# # summarize feature importance\n",
    "# for i,v in enumerate(importance):\n",
    "#     print('Feature: %0d, Score: %.5f' % (i,v))\n",
    "# # plot feature importance\n",
    "# pyplot.bar([x for x in range(len(importance))], importance)\n",
    "# pyplot.show()"
   ]
  },
  {
   "cell_type": "markdown",
   "metadata": {},
   "source": [
    "# Linear Regression"
   ]
  },
  {
   "cell_type": "code",
   "execution_count": 127,
   "metadata": {},
   "outputs": [],
   "source": [
    "from sklearn.linear_model import LinearRegression"
   ]
  },
  {
   "cell_type": "code",
   "execution_count": 128,
   "metadata": {
    "scrolled": true
   },
   "outputs": [
    {
     "data": {
      "text/plain": [
       "LinearRegression()"
      ]
     },
     "execution_count": 128,
     "metadata": {},
     "output_type": "execute_result"
    }
   ],
   "source": [
    "linear_model = LinearRegression(fit_intercept=True)\n",
    "linear_model.fit(X,y)"
   ]
  },
  {
   "cell_type": "code",
   "execution_count": 129,
   "metadata": {},
   "outputs": [
    {
     "data": {
      "text/plain": [
       "0.08869414023219169"
      ]
     },
     "execution_count": 129,
     "metadata": {},
     "output_type": "execute_result"
    }
   ],
   "source": [
    "linear_model.score(X,y)"
   ]
  },
  {
   "cell_type": "code",
   "execution_count": 130,
   "metadata": {
    "scrolled": true
   },
   "outputs": [
    {
     "name": "stdout",
     "output_type": "stream",
     "text": [
      "                            OLS Regression Results                            \n",
      "==============================================================================\n",
      "Dep. Variable:         timediff_hours   R-squared:                       0.089\n",
      "Model:                            OLS   Adj. R-squared:                  0.016\n",
      "Method:                 Least Squares   F-statistic:                     1.222\n",
      "Date:                Mon, 01 Feb 2021   Prob (F-statistic):              0.158\n",
      "Time:                        23:41:28   Log-Likelihood:                -1593.1\n",
      "No. Observations:                 611   AIC:                             3278.\n",
      "Df Residuals:                     565   BIC:                             3481.\n",
      "Df Model:                          45                                         \n",
      "Covariance Type:            nonrobust                                         \n",
      "================================================================================================================\n",
      "                                                   coef    std err          t      P>|t|      [0.025      0.975]\n",
      "----------------------------------------------------------------------------------------------------------------\n",
      "const                                            1.8049      0.432      4.174      0.000       0.956       2.654\n",
      "in2out_hours                                    -0.0232      0.019     -1.216      0.224      -0.061       0.014\n",
      "admit2disch_hours                                0.0347      0.021      1.623      0.105      -0.007       0.077\n",
      "age                                             -0.0124      0.014     -0.914      0.361      -0.039       0.014\n",
      "gender                                          -0.2504      0.309     -0.809      0.419      -0.858       0.357\n",
      "religion                                         0.2877      0.315      0.913      0.362      -0.332       0.907\n",
      "los                                              0.2895      0.107      2.715      0.007       0.080       0.499\n",
      "admission_type_ELECTIVE                          0.2560      0.612      0.418      0.676      -0.946       1.458\n",
      "admission_type_EMERGENCY                         0.3622      0.554      0.654      0.513      -0.725       1.450\n",
      "admission_type_URGENT                            1.1866      0.839      1.415      0.158      -0.461       2.834\n",
      "admission_location_CLINIC REFERRAL/PREMATURE    -0.4031      0.572     -0.705      0.481      -1.526       0.720\n",
      "admission_location_EMERGENCY ROOM ADMIT          0.9536      0.395      2.414      0.016       0.178       1.729\n",
      "admission_location_PHYS REFERRAL/NORMAL DELI     0.6535      0.649      1.007      0.315      -0.622       1.929\n",
      "admission_location_TRANSFER FROM HOSP/EXTRAM     0.6009      0.415      1.446      0.149      -0.215       1.417\n",
      "discharge_location_DISC-TRAN CANCER/CHLDRN H     5.3532      3.263      1.641      0.101      -1.056      11.762\n",
      "discharge_location_DISCH-TRAN TO PSYCH HOSP     -0.8268      1.566     -0.528      0.598      -3.903       2.250\n",
      "discharge_location_HOME                         -0.2265      0.681     -0.333      0.739      -1.563       1.110\n",
      "discharge_location_HOME HEALTH CARE             -0.1482      0.689     -0.215      0.830      -1.502       1.206\n",
      "discharge_location_LEFT AGAINST MEDICAL ADVI    -0.7334      1.736     -0.422      0.673      -4.143       2.676\n",
      "discharge_location_LONG TERM CARE HOSPITAL       2.0070      1.260      1.592      0.112      -0.469       4.483\n",
      "discharge_location_REHAB/DISTINCT PART HOSP     -0.2872      0.945     -0.304      0.761      -2.143       1.568\n",
      "discharge_location_SHORT TERM HOSPITAL          -2.7674      3.235     -0.856      0.393      -9.120       3.586\n",
      "discharge_location_SNF                          -0.5659      0.788     -0.718      0.473      -2.113       0.982\n",
      "insurance_Government                             0.4195      0.772      0.543      0.587      -1.098       1.937\n",
      "insurance_Medicaid                              -0.5019      0.529     -0.949      0.343      -1.540       0.536\n",
      "insurance_Medicare                               0.9041      0.455      1.986      0.047       0.010       1.798\n",
      "insurance_Private                                0.3574      0.362      0.989      0.323      -0.353       1.068\n",
      "insurance_Self Pay                               0.6258      0.814      0.769      0.442      -0.973       2.224\n",
      "language_CANT                                   -1.1736      2.353     -0.499      0.618      -5.795       3.448\n",
      "language_CAPE                                    0.0236      3.213      0.007      0.994      -6.288       6.335\n",
      "language_ENGL                                    0.6948      0.683      1.017      0.310      -0.647       2.037\n",
      "language_ETHI                                    0.6185      3.220      0.192      0.848      -5.706       6.943\n",
      "language_HAIT                                    2.2811      2.304      0.990      0.323      -2.244       6.806\n",
      "language_MAND                                   -2.1362      2.319     -0.921      0.357      -6.692       2.419\n",
      "language_PORT                                    0.5694      1.388      0.410      0.682      -2.157       3.295\n",
      "language_PTUN                                    0.5476      1.069      0.512      0.609      -1.552       2.647\n",
      "language_RUSS                                   -0.4482      1.761     -0.255      0.799      -3.907       3.010\n",
      "language_SPAN                                    0.7435      1.076      0.691      0.490      -1.370       2.857\n",
      "language_UNKNOWN                                 0.0845      0.712      0.119      0.906      -1.313       1.482\n",
      "marital_status_MARRIED                           0.8103      0.365      2.220      0.027       0.093       1.527\n",
      "marital_status_SINGLE                            0.2542      0.330      0.771      0.441      -0.393       0.901\n",
      "marital_status_UNKNOWN_MARITAL                   0.7404      0.592      1.250      0.212      -0.423       1.904\n",
      "ethnicity_NONWHITE                              -0.0697      0.359     -0.194      0.846      -0.776       0.636\n",
      "ethnicity_UNKNOWN_ETHNICITY                      0.8097      0.429      1.888      0.060      -0.033       1.652\n",
      "ethnicity_WHITE                                  1.0649      0.312      3.416      0.001       0.453       1.677\n",
      "costcenter_ICU                                   1.2517      0.272      4.604      0.000       0.718       1.786\n",
      "costcenter_Resp                                  0.5531      0.276      2.002      0.046       0.010       1.096\n",
      "diagnosis_categories_CARDIOVASCULAR             -0.6839      0.389     -1.759      0.079      -1.448       0.080\n",
      "diagnosis_categories_GENERAL_TRAUMA              0.2842      0.559      0.509      0.611      -0.813       1.381\n",
      "diagnosis_categories_GI                         -0.0852      0.497     -0.171      0.864      -1.062       0.892\n",
      "diagnosis_categories_INFECTIONS                  1.7077      1.563      1.092      0.275      -1.363       4.778\n",
      "diagnosis_categories_NEUROLOGICAL               -0.6761      0.548     -1.234      0.218      -1.752       0.400\n",
      "diagnosis_categories_ONCOLOGY                    0.7352      0.809      0.908      0.364      -0.855       2.325\n",
      "diagnosis_categories_OTHER_DIAGNOSIS            -0.3394      0.849     -0.400      0.690      -2.007       1.328\n",
      "diagnosis_categories_RESPIRATORY                 0.8622      1.018      0.847      0.398      -1.138       2.863\n",
      "==============================================================================\n",
      "Omnibus:                      174.470   Durbin-Watson:                   1.989\n",
      "Prob(Omnibus):                  0.000   Jarque-Bera (JB):              603.159\n",
      "Skew:                           1.315   Prob(JB):                    1.06e-131\n",
      "Kurtosis:                       7.095   Cond. No.                     3.79e+16\n",
      "==============================================================================\n",
      "\n",
      "Notes:\n",
      "[1] Standard Errors assume that the covariance matrix of the errors is correctly specified.\n",
      "[2] The smallest eigenvalue is 1.66e-27. This might indicate that there are\n",
      "strong multicollinearity problems or that the design matrix is singular.\n"
     ]
    },
    {
     "name": "stderr",
     "output_type": "stream",
     "text": [
      "/Users/dereklee/anaconda3/lib/python3.6/site-packages/numpy/core/fromnumeric.py:2542: FutureWarning: Method .ptp is deprecated and will be removed in a future version. Use numpy.ptp instead.\n",
      "  return ptp(axis=axis, out=out, **kwargs)\n"
     ]
    }
   ],
   "source": [
    "import statsmodels.api as sm\n",
    "\n",
    "X2 = sm.add_constant(X)\n",
    "est = sm.OLS(y, X2)\n",
    "est2 = est.fit()\n",
    "print(est2.summary())"
   ]
  },
  {
   "cell_type": "code",
   "execution_count": null,
   "metadata": {},
   "outputs": [],
   "source": []
  },
  {
   "cell_type": "code",
   "execution_count": 131,
   "metadata": {},
   "outputs": [],
   "source": [
    "y_pred_lm = linear_model.predict(X_test)"
   ]
  },
  {
   "cell_type": "code",
   "execution_count": 132,
   "metadata": {},
   "outputs": [
    {
     "name": "stdout",
     "output_type": "stream",
     "text": [
      "Mean Absolute Error Linear Reg: 3.725037151519765\n",
      "Mean Squared Error Linear Reg: 55.619185723622515\n",
      "Root Mean Squared Error Linear Reg: 7.457827144927839\n"
     ]
    }
   ],
   "source": [
    "print('Mean Absolute Error Linear Reg:', metrics.mean_absolute_error(y_test, y_pred_lm))\n",
    "print('Mean Squared Error Linear Reg:', metrics.mean_squared_error(y_test, y_pred_lm))\n",
    "print('Root Mean Squared Error Linear Reg:', np.sqrt(metrics.mean_squared_error(y_test, y_pred_lm)))"
   ]
  },
  {
   "cell_type": "markdown",
   "metadata": {},
   "source": [
    "# XGBoost"
   ]
  },
  {
   "cell_type": "code",
   "execution_count": 133,
   "metadata": {},
   "outputs": [
    {
     "name": "stderr",
     "output_type": "stream",
     "text": [
      "/Users/dereklee/anaconda3/lib/python3.6/site-packages/xgboost/sklearn.py:888: UserWarning: The use of label encoder in XGBClassifier is deprecated and will be removed in a future release. To remove this warning, do the following: 1) Pass option use_label_encoder=False when constructing XGBClassifier object; and 2) Encode your labels (y) as integers starting with 0, i.e. 0, 1, 2, ..., [num_class - 1].\n",
      "  warnings.warn(label_encoder_deprecation_msg, UserWarning)\n"
     ]
    },
    {
     "name": "stdout",
     "output_type": "stream",
     "text": [
      "[23:41:47] WARNING: /Users/travis/build/dmlc/xgboost/src/learner.cc:1061: Starting in XGBoost 1.3.0, the default evaluation metric used with the objective 'multi:softprob' was changed from 'merror' to 'mlogloss'. Explicitly set eval_metric if you'd like to restore the old behavior.\n"
     ]
    },
    {
     "data": {
      "text/plain": [
       "XGBClassifier(base_score=0.5, booster='gbtree', colsample_bylevel=1,\n",
       "              colsample_bynode=1, colsample_bytree=1, gamma=0, gpu_id=-1,\n",
       "              importance_type='gain', interaction_constraints='',\n",
       "              learning_rate=0.300000012, max_delta_step=0, max_depth=6,\n",
       "              min_child_weight=1, missing=nan, monotone_constraints='()',\n",
       "              n_estimators=100, n_jobs=8, num_parallel_tree=1,\n",
       "              objective='multi:softprob', random_state=0, reg_alpha=0,\n",
       "              reg_lambda=1, scale_pos_weight=None, subsample=1,\n",
       "              tree_method='exact', validate_parameters=1, verbosity=None)"
      ]
     },
     "execution_count": 133,
     "metadata": {},
     "output_type": "execute_result"
    }
   ],
   "source": [
    "from xgboost import XGBClassifier\n",
    "\n",
    "xgbmodel = XGBClassifier()\n",
    "xgbmodel.fit(X_train, y_train)"
   ]
  },
  {
   "cell_type": "code",
   "execution_count": 139,
   "metadata": {},
   "outputs": [
    {
     "name": "stdout",
     "output_type": "stream",
     "text": [
      "Mean Absolute Error XGBoost:  3.407317073170732\n"
     ]
    }
   ],
   "source": [
    "# make predictions for test data\n",
    "y_pred_xgb = xgbmodel.predict(X_test)\n",
    "predictions_xgb = [round(value) for value in y_pred_xgb ]\n",
    "\n",
    "mae_xgb = metrics.mean_absolute_error(y_test, predictions_xgb)\n",
    "print(\"Mean Absolute Error XGBoost: \", mae_xgb)"
   ]
  },
  {
   "cell_type": "code",
   "execution_count": 141,
   "metadata": {},
   "outputs": [
    {
     "data": {
      "text/plain": [
       "-1.5038002413441003"
      ]
     },
     "execution_count": 141,
     "metadata": {},
     "output_type": "execute_result"
    }
   ],
   "source": [
    "metrics.explained_variance_score(predictions_xgb, y_test)"
   ]
  },
  {
   "cell_type": "markdown",
   "metadata": {},
   "source": [
    "# MLP Regressor"
   ]
  },
  {
   "cell_type": "code",
   "execution_count": null,
   "metadata": {},
   "outputs": [],
   "source": [
    "import tensorflow as tf\n",
    "\n",
    "from tensorflow import keras\n",
    "from tensorflow.keras import layers\n",
    "\n",
    "from tensorflow.keras.layers.experimental import preprocessing\n",
    "normalizer = preprocessing.Normalization()\n",
    "normalizer.adapt(np.array(X_train))\n",
    "print(normalizer.mean.numpy())"
   ]
  },
  {
   "cell_type": "code",
   "execution_count": null,
   "metadata": {},
   "outputs": [],
   "source": [
    "linear_model = tf.keras.Sequential([\n",
    "    normalizer,\n",
    "    layers.Dense(units=1)\n",
    "])\n",
    "\n",
    "linear_model.summary()"
   ]
  },
  {
   "cell_type": "code",
   "execution_count": null,
   "metadata": {},
   "outputs": [],
   "source": [
    "linear_model.predict(y_train)"
   ]
  },
  {
   "cell_type": "code",
   "execution_count": null,
   "metadata": {},
   "outputs": [],
   "source": [
    "linear_model.layers[1].kernel"
   ]
  },
  {
   "cell_type": "code",
   "execution_count": null,
   "metadata": {},
   "outputs": [],
   "source": [
    "linear_model.compile(\n",
    "    optimizer=tf.optimizers.Adam(learning_rate=0.1),\n",
    "    loss='mean_absolute_error')"
   ]
  },
  {
   "cell_type": "code",
   "execution_count": null,
   "metadata": {},
   "outputs": [],
   "source": [
    "%%time\n",
    "history = linear_model.fit(\n",
    "    X_train, y_train, \n",
    "    epochs=100,\n",
    "    # suppress logging\n",
    "    verbose=0,\n",
    "    # Calculate validation results on 20% of the training data\n",
    "    validation_split = 0.2)"
   ]
  },
  {
   "cell_type": "code",
   "execution_count": null,
   "metadata": {
    "scrolled": true
   },
   "outputs": [],
   "source": [
    "import matplotlib.pyplot as plt\n",
    "\n",
    "def plot_loss(history):\n",
    "  plt.plot(history.history['loss'], label='loss')\n",
    "  plt.plot(history.history['val_loss'], label='val_loss')\n",
    "  plt.ylim([0, 1000])\n",
    "  plt.xlabel('Epoch')\n",
    "  plt.ylabel('Error')\n",
    "  plt.legend()\n",
    "  plt.grid(True)\n",
    "\n",
    "plot_loss(history)"
   ]
  },
  {
   "cell_type": "markdown",
   "metadata": {},
   "source": [
    "# MLP DNN"
   ]
  },
  {
   "cell_type": "code",
   "execution_count": 204,
   "metadata": {},
   "outputs": [],
   "source": [
    "def build_and_compile_model(norm):\n",
    "  model = keras.Sequential([\n",
    "      norm,\n",
    "      layers.Dense(64, activation='relu'),\n",
    "      layers.Dense(64, activation='relu'),\n",
    "      layers.Dense(1)\n",
    "  ])\n",
    "\n",
    "  model.compile(loss='mean_absolute_error',\n",
    "                optimizer=tf.keras.optimizers.Adam(0.001))\n",
    "  return model"
   ]
  },
  {
   "cell_type": "code",
   "execution_count": 205,
   "metadata": {},
   "outputs": [
    {
     "ename": "NameError",
     "evalue": "name 'normalizer' is not defined",
     "output_type": "error",
     "traceback": [
      "\u001b[0;31m---------------------------------------------------------------------------\u001b[0m",
      "\u001b[0;31mNameError\u001b[0m                                 Traceback (most recent call last)",
      "\u001b[0;32m<ipython-input-205-f61a7f345eb6>\u001b[0m in \u001b[0;36m<module>\u001b[0;34m\u001b[0m\n\u001b[0;32m----> 1\u001b[0;31m \u001b[0mdnn_model\u001b[0m \u001b[0;34m=\u001b[0m \u001b[0mbuild_and_compile_model\u001b[0m\u001b[0;34m(\u001b[0m\u001b[0mnormalizer\u001b[0m\u001b[0;34m)\u001b[0m\u001b[0;34m\u001b[0m\u001b[0;34m\u001b[0m\u001b[0m\n\u001b[0m\u001b[1;32m      2\u001b[0m \u001b[0mdnn_model\u001b[0m\u001b[0;34m.\u001b[0m\u001b[0msummary\u001b[0m\u001b[0;34m(\u001b[0m\u001b[0;34m)\u001b[0m\u001b[0;34m\u001b[0m\u001b[0;34m\u001b[0m\u001b[0m\n",
      "\u001b[0;31mNameError\u001b[0m: name 'normalizer' is not defined"
     ]
    }
   ],
   "source": [
    "dnn_model = build_and_compile_model(normalizer)\n",
    "dnn_model.summary()"
   ]
  },
  {
   "cell_type": "code",
   "execution_count": null,
   "metadata": {},
   "outputs": [],
   "source": [
    "%%time\n",
    "history = dnn_model.fit(\n",
    "    X_train, y_train,\n",
    "    validation_split=0.2,\n",
    "    verbose=0, epochs=100)"
   ]
  },
  {
   "cell_type": "code",
   "execution_count": null,
   "metadata": {},
   "outputs": [],
   "source": [
    "plot_loss(history)\n"
   ]
  },
  {
   "cell_type": "code",
   "execution_count": null,
   "metadata": {},
   "outputs": [],
   "source": [
    "test_results = {}\n",
    "\n",
    "test_results['dnn_model'] = dnn_model.evaluate(\n",
    "    X_test,\n",
    "    y_test, verbose=0)"
   ]
  },
  {
   "cell_type": "code",
   "execution_count": null,
   "metadata": {},
   "outputs": [],
   "source": [
    "test_results['dnn_model']"
   ]
  },
  {
   "cell_type": "code",
   "execution_count": null,
   "metadata": {},
   "outputs": [],
   "source": []
  }
 ],
 "metadata": {
  "kernelspec": {
   "display_name": "Python 3",
   "language": "python",
   "name": "python3"
  },
  "language_info": {
   "codemirror_mode": {
    "name": "ipython",
    "version": 3
   },
   "file_extension": ".py",
   "mimetype": "text/x-python",
   "name": "python",
   "nbconvert_exporter": "python",
   "pygments_lexer": "ipython3",
   "version": "3.6.8"
  }
 },
 "nbformat": 4,
 "nbformat_minor": 4
}
